{
 "cells": [
  {
   "cell_type": "code",
   "execution_count": 278,
   "metadata": {},
   "outputs": [],
   "source": [
    "import os\n",
    "import sys\n",
    "while not os.getcwd().endswith('ml'):\n",
    "    os.chdir('..')\n",
    "sys.path.insert(0, os.getcwd())"
   ]
  },
  {
   "cell_type": "code",
   "execution_count": 279,
   "metadata": {},
   "outputs": [],
   "source": [
    "import pandas as pd\n",
    "import numpy as np\n",
    "import copy\n",
    "import matplotlib.pyplot as plt\n",
    "import pickle\n",
    "import spacy\n",
    "import random\n",
    "from collections import defaultdict\n",
    "from spacy.util import minibatch, compounding\n",
    "from spacy.lang.en import English\n",
    "\n",
    "\n",
    "from libs.nlp.ner.ner import NER\n",
    "from helpers.word2vec.converter import *"
   ]
  },
  {
   "cell_type": "code",
   "execution_count": 280,
   "metadata": {},
   "outputs": [],
   "source": [
    "MAIN_PART_LABEL = 'MAIN_PART_LABEL'"
   ]
  },
  {
   "cell_type": "code",
   "execution_count": 281,
   "metadata": {},
   "outputs": [],
   "source": [
    "def df_jaccard(data):\n",
    "    return jaccard(data['text'], data['selected_text'])\n",
    "\n",
    "def jaccard(str1, str2): \n",
    "    a = set(str1.lower().split()) \n",
    "    b = set(str2.lower().split())\n",
    "    c = a.intersection(b)\n",
    "    if (len(a) + len(b) == 0):\n",
    "        return 0\n",
    "    return float(len(c)) / (len(a) + len(b) - len(c))\n",
    "\n",
    "def arr_jaccard(arr1, arr2):\n",
    "    assert(len(arr1) == len(arr2))\n",
    "    res = 0\n",
    "    for str1, str2 in zip(arr1, arr2):\n",
    "        res += jaccard(str1, str2)\n",
    "        \n",
    "    return res / len(arr1)"
   ]
  },
  {
   "cell_type": "code",
   "execution_count": 282,
   "metadata": {},
   "outputs": [],
   "source": [
    "train = pd.read_csv(\"kaggle_problems/tweet_sentiment_extraction/train.csv\")\n",
    "test = pd.read_csv(\"kaggle_problems/tweet_sentiment_extraction/test.csv\")\n",
    "\n",
    "train.dropna(inplace=True)\n",
    "train.reset_index(drop=True, inplace=True)\n",
    "test.dropna(inplace=True)\n",
    "test.reset_index(drop=True, inplace=True)"
   ]
  },
  {
   "cell_type": "code",
   "execution_count": 283,
   "metadata": {},
   "outputs": [],
   "source": [
    "def preprocessing_column(column):\n",
    "    #column = column.apply(lambda x: ''.join([i for i in x if (i.isalpha() or i == ' ')]))\n",
    "    #column = column.apply(lambda x: re.sub(' +', ' ', x))\n",
    "    \n",
    "    #column = column.apply(lambda x: x[1:] if x.startswith(' ') else x)\n",
    "    #column = column.apply(lambda x: x[:-1] if x.endswith(' ') else x)\n",
    "    \n",
    "    return column\n",
    "\n",
    "def preprocessing(data):\n",
    "    data.text = preprocessing_column(data.text)\n",
    "    if 'selected_text' in data.columns:\n",
    "        data.selected_text = preprocessing_column(data.selected_text)\n",
    "    return data"
   ]
  },
  {
   "cell_type": "code",
   "execution_count": 284,
   "metadata": {},
   "outputs": [],
   "source": [
    "train = preprocessing(train)\n",
    "test = preprocessing(test)"
   ]
  },
  {
   "cell_type": "code",
   "execution_count": 285,
   "metadata": {},
   "outputs": [],
   "source": [
    "def tokenize(s):\n",
    "    return s.split(' ')\n",
    "\n",
    "def get_start_end_words(x):\n",
    "    start_char = x['text'].find(x['selected_text'])\n",
    "    start_word = len(tokenize(x['text'][:start_char + 1])) - 1\n",
    "    \n",
    "    cnt_word = len(tokenize(x['selected_text']))\n",
    "    return start_word, start_word + cnt_word\n",
    "\n",
    "def get_start_end_char(x):\n",
    "    start_char = x['text'].find(x['selected_text'])\n",
    "    end_char = start_char + len(x['selected_text'])\n",
    "    \n",
    "    start_char = x['text'][:start_char].rfind(' ') + 1\n",
    "    if start_char < 0:\n",
    "        start_char = 0\n",
    "        \n",
    "    first_space = x['text'][end_char:].find(' ')\n",
    "    if first_space < 0:\n",
    "        end_char = len(x['text'])\n",
    "    else:\n",
    "        end_char = end_char + first_space\n",
    "    return start_char, end_char"
   ]
  },
  {
   "cell_type": "code",
   "execution_count": 292,
   "metadata": {},
   "outputs": [],
   "source": [
    "def df_to_spacy_format(data):\n",
    "    data.reset_index(drop=True, inplace=True)\n",
    "    spacy_data  = [0] * len(data)\n",
    "    for ind, line in data.iterrows():\n",
    "#         print(\"-\" * 100)\n",
    "#         print(ind)\n",
    "        start_word, end_word = get_start_end_char(line)\n",
    "        spacy_data[ind] = (\n",
    "            line['text'], \n",
    "            {\"entities\": [(start_word, end_word, MAIN_PART_LABEL)]}\n",
    "        )\n",
    "#         nlp = English()\n",
    "#         tokens = nlp(line['text'])\n",
    "\n",
    "#         print([t.text for t in tokens])\n",
    "#         print(line['text'])\n",
    "#         print(start_word, end_word)\n",
    "#         print(line['selected_text'])\n",
    "#         print(spacy.gold.biluo_tags_from_offsets(nlp.make_doc(line['text']), [(start_word, end_word, MAIN_PART_LABEL)]))\n",
    "#         print(\"-\" * 100)\n",
    "    return spacy_data\n"
   ]
  },
  {
   "cell_type": "markdown",
   "metadata": {},
   "source": [
    "### Training"
   ]
  },
  {
   "cell_type": "code",
   "execution_count": 228,
   "metadata": {
    "collapsed": true
   },
   "outputs": [
    {
     "name": "stdout",
     "output_type": "stream",
     "text": [
      "Training for positive\n",
      "----------------------------------------------------------------------------------------------------\n",
      "Created blank 'en' model\n"
     ]
    },
    {
     "name": "stderr",
     "output_type": "stream",
     "text": [
      "100%|██████████| 1/1 [00:27<00:00, 27.43s/it]"
     ]
    },
    {
     "name": "stdout",
     "output_type": "stream",
     "text": [
      "Losses {'ner': 32998.37882940023}\n",
      "Saved model to kaggle_problems/tweet_sentiment_extraction/models/ner_positive\n",
      "----------------------------------------------------------------------------------------------------\n",
      "Training for negative\n",
      "----------------------------------------------------------------------------------------------------\n",
      "Created blank 'en' model\n"
     ]
    },
    {
     "name": "stderr",
     "output_type": "stream",
     "text": [
      "\n",
      "100%|██████████| 1/1 [00:25<00:00, 25.38s/it]"
     ]
    },
    {
     "name": "stdout",
     "output_type": "stream",
     "text": [
      "Losses {'ner': 31012.85184123693}\n",
      "Saved model to kaggle_problems/tweet_sentiment_extraction/models/ner_negative\n",
      "----------------------------------------------------------------------------------------------------\n",
      "Training for neutral\n",
      "----------------------------------------------------------------------------------------------------\n",
      "Created blank 'en' model\n"
     ]
    },
    {
     "name": "stderr",
     "output_type": "stream",
     "text": [
      "\n",
      "100%|██████████| 1/1 [00:35<00:00, 35.45s/it]"
     ]
    },
    {
     "name": "stdout",
     "output_type": "stream",
     "text": [
      "Losses {'ner': 5013.46814936956}\n",
      "Saved model to kaggle_problems/tweet_sentiment_extraction/models/ner_neutral\n",
      "----------------------------------------------------------------------------------------------------\n"
     ]
    },
    {
     "name": "stderr",
     "output_type": "stream",
     "text": [
      "\n"
     ]
    }
   ],
   "source": [
    "for sentiment in ['positive', 'negative', 'neutral']:\n",
    "    print(\"Training for {}\".format(sentiment))\n",
    "    print(\"-\" * 100)\n",
    "    model = NER()\n",
    "    spacy_train_pos = df_to_spacy_format(train[train['sentiment'] == sentiment])\n",
    "    model.train(spacy_train_pos, n_iter=30)\n",
    "    model.save_model('kaggle_problems/tweet_sentiment_extraction/models/ner_{}'.format(sentiment))\n",
    "    print(\"-\" * 100)"
   ]
  },
  {
   "cell_type": "code",
   "execution_count": 251,
   "metadata": {},
   "outputs": [],
   "source": [
    "def predict(model, data):\n",
    "    texts = data.text.to_numpy()\n",
    "    \n",
    "    result = model.predict(texts)\n",
    "    predict_selected_texts = []\n",
    "    for ent, text, selected_text in zip(result, texts, selected_texts):\n",
    "        if (len(ent)):\n",
    "            start = ent[0][0]\n",
    "            end = ent[0][1]\n",
    "        else:\n",
    "            start = 0\n",
    "            end = len(text)\n",
    "        predict_selected_texts.append(text[start:end])\n",
    "    return predict_selected_texts"
   ]
  },
  {
   "cell_type": "markdown",
   "metadata": {},
   "source": [
    "### Predict on train"
   ]
  },
  {
   "cell_type": "code",
   "execution_count": 254,
   "metadata": {},
   "outputs": [
    {
     "name": "stdout",
     "output_type": "stream",
     "text": [
      "Created blank 'en' model\n",
      "Loaded model 'kaggle_problems/tweet_sentiment_extraction/models/ner_positive'\n",
      "8582 8582\n",
      "0.5773850078507882\n",
      "Created blank 'en' model\n",
      "Loaded model 'kaggle_problems/tweet_sentiment_extraction/models/ner_negative'\n",
      "7781 7781\n",
      "0.5393535867201223\n"
     ]
    }
   ],
   "source": [
    "prediction = {}\n",
    "for sentiment in ['positive', 'negative']:\n",
    "    model = NER()\n",
    "    model.load_model('kaggle_problems/tweet_sentiment_extraction/models/ner_{}'.format(sentiment))\n",
    "    \n",
    "    predict_selected_texts = predict(model, train[train['sentiment'] == sentiment])\n",
    "    selected_texts = train[train['sentiment'] == sentiment].selected_text.to_numpy()\n",
    "        \n",
    "    #print(arr_jaccard(selected_texts, predict_selected_texts))"
   ]
  },
  {
   "cell_type": "markdown",
   "metadata": {},
   "source": [
    "### Predict on test"
   ]
  },
  {
   "cell_type": "code",
   "execution_count": 271,
   "metadata": {},
   "outputs": [
    {
     "name": "stdout",
     "output_type": "stream",
     "text": [
      "Created blank 'en' model\n",
      "Loaded model 'kaggle_problems/tweet_sentiment_extraction/models/ner_positive'\n",
      "Created blank 'en' model\n",
      "Loaded model 'kaggle_problems/tweet_sentiment_extraction/models/ner_negative'\n"
     ]
    }
   ],
   "source": [
    "result_df = pd.DataFrame(columns=['textID', 'selected_text'])\n",
    "for sentiment in ['positive', 'negative']:\n",
    "    model = NER()\n",
    "    model.load_model('kaggle_problems/tweet_sentiment_extraction/models/ner_{}'.format(sentiment))\n",
    "    \n",
    "    predict_selected_texts = predict(model, test[test['sentiment'] == sentiment])\n",
    "    \n",
    "    result_df = result_df.append(\n",
    "        pd.DataFrame(\n",
    "            data={'textID': test[test['sentiment'] == sentiment].textID.to_numpy(),\n",
    "                  'selected_text': predict_selected_texts}, \n",
    "            columns=['textID', 'selected_text'],\n",
    "        )\n",
    "    )\n",
    "    \n",
    "result_df = result_df.append(\n",
    "    pd.DataFrame(\n",
    "        data={'textID': test[test['sentiment'] == 'neutral'].textID.to_numpy(),\n",
    "              'selected_text': test[test['sentiment'] == 'neutral'].text.to_numpy()}, \n",
    "        columns=['textID', 'selected_text'],\n",
    "    )\n",
    ")\n",
    "result_df = result_df.set_index('textID')\n"
   ]
  },
  {
   "cell_type": "code",
   "execution_count": 277,
   "metadata": {},
   "outputs": [],
   "source": [
    "result_df.to_csv('kaggle_problems/tweet_sentiment_extraction/submissions/{}'.format('baseline_ner'))"
   ]
  },
  {
   "cell_type": "code",
   "execution_count": 297,
   "metadata": {},
   "outputs": [
    {
     "name": "stdout",
     "output_type": "stream",
     "text": [
      "[NbConvertApp] Converting notebook kaggle_problems/tweet_sentiment_extraction/baseline.ipynb to script\n",
      "[NbConvertApp] Writing 6035 bytes to kaggle_problems/tweet_sentiment_extraction/baseline.py\n"
     ]
    }
   ],
   "source": [
    "!jupyter nbconvert --to script kaggle_problems/tweet_sentiment_extraction/baseline.ipynb"
   ]
  },
  {
   "cell_type": "code",
   "execution_count": null,
   "metadata": {},
   "outputs": [],
   "source": []
  }
 ],
 "metadata": {
  "kernelspec": {
   "display_name": "Python 3",
   "language": "python",
   "name": "python3"
  },
  "language_info": {
   "codemirror_mode": {
    "name": "ipython",
    "version": 3
   },
   "file_extension": ".py",
   "mimetype": "text/x-python",
   "name": "python",
   "nbconvert_exporter": "python",
   "pygments_lexer": "ipython3",
   "version": "3.7.3"
  }
 },
 "nbformat": 4,
 "nbformat_minor": 2
}
