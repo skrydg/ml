{
 "cells": [
  {
   "cell_type": "code",
   "execution_count": 1,
   "metadata": {},
   "outputs": [],
   "source": [
    "import os\n",
    "import sys\n",
    "while not os.getcwd().endswith('ml'):\n",
    "    os.chdir('..')\n",
    "sys.path.insert(0, os.getcwd())"
   ]
  },
  {
   "cell_type": "code",
   "execution_count": 2,
   "metadata": {},
   "outputs": [],
   "source": [
    "import pandas as pd\n",
    "import numpy as np\n",
    "import copy\n",
    "import matplotlib.pyplot as plt\n",
    "import pickle\n",
    "import spacy\n",
    "import random\n",
    "from collections import defaultdict\n",
    "from spacy.util import minibatch, compounding\n",
    "from spacy.lang.en import English\n",
    "from kaggle_problems.tweet_sentiment_extraction.common import *\n",
    "\n",
    "from libs.nlp.ner.ner import NER\n",
    "from helpers.word2vec.converter import *"
   ]
  },
  {
   "cell_type": "code",
   "execution_count": 3,
   "metadata": {},
   "outputs": [],
   "source": [
    "MAIN_PART_LABEL = 'MAIN_PART_LABEL'"
   ]
  },
  {
   "cell_type": "code",
   "execution_count": 4,
   "metadata": {},
   "outputs": [],
   "source": [
    "train = pd.read_csv(\"kaggle_problems/tweet_sentiment_extraction/train.csv\")\n",
    "test = pd.read_csv(\"kaggle_problems/tweet_sentiment_extraction/test.csv\")\n",
    "\n",
    "train.dropna(inplace=True)\n",
    "train.reset_index(drop=True, inplace=True)\n",
    "test.dropna(inplace=True)\n",
    "test.reset_index(drop=True, inplace=True)\n",
    "\n",
    "tokenize_nlp = English()"
   ]
  },
  {
   "cell_type": "code",
   "execution_count": 5,
   "metadata": {},
   "outputs": [],
   "source": [
    "def preprocessing_column(column):\n",
    "    #column = column.apply(lambda x: ''.join([i for i in x if (i.isalpha() or i == ' ')]))\n",
    "    #column = column.apply(lambda x: re.sub(' +', ' ', x))\n",
    "    \n",
    "    #column = column.apply(lambda x: x[1:] if x.startswith(' ') else x)\n",
    "    #column = column.apply(lambda x: x[:-1] if x.endswith(' ') else x)\n",
    "    \n",
    "    return column\n",
    "\n",
    "def preprocessing(data):\n",
    "    data.text = preprocessing_column(data.text)\n",
    "    data['text_words'] = data['text'].apply(lambda x: list([str(i) for i in tokenize_nlp(x)]))\n",
    "    data['text_cnt_words'] = data['text'].apply(lambda x: len(list(tokenize_nlp(x))))\n",
    "    \n",
    "    if 'selected_text' in data.columns:\n",
    "        data.selected_text = preprocessing_column(data.selected_text)\n",
    "        data['selected_text_words'] = data['selected_text'].apply(lambda x: list([str(i) for i in tokenize_nlp(x)]))\n",
    "        data['selected_text_cnt_words'] = data['selected_text'].apply(lambda x: len(list(tokenize_nlp(x))))\n",
    "    \n",
    "    return data"
   ]
  },
  {
   "cell_type": "code",
   "execution_count": 6,
   "metadata": {},
   "outputs": [],
   "source": [
    "train = preprocessing(train)\n",
    "test = preprocessing(test)"
   ]
  },
  {
   "cell_type": "code",
   "execution_count": 8,
   "metadata": {},
   "outputs": [
    {
     "data": {
      "text/html": [
       "<div>\n",
       "<style scoped>\n",
       "    .dataframe tbody tr th:only-of-type {\n",
       "        vertical-align: middle;\n",
       "    }\n",
       "\n",
       "    .dataframe tbody tr th {\n",
       "        vertical-align: top;\n",
       "    }\n",
       "\n",
       "    .dataframe thead th {\n",
       "        text-align: right;\n",
       "    }\n",
       "</style>\n",
       "<table border=\"1\" class=\"dataframe\">\n",
       "  <thead>\n",
       "    <tr style=\"text-align: right;\">\n",
       "      <th></th>\n",
       "      <th>textID</th>\n",
       "      <th>text</th>\n",
       "      <th>selected_text</th>\n",
       "      <th>sentiment</th>\n",
       "      <th>text_words</th>\n",
       "      <th>text_cnt_words</th>\n",
       "      <th>selected_text_words</th>\n",
       "      <th>selected_text_cnt_words</th>\n",
       "    </tr>\n",
       "  </thead>\n",
       "  <tbody>\n",
       "    <tr>\n",
       "      <th>856</th>\n",
       "      <td>317715cbc5</td>\n",
       "      <td>can`t wait to november for Jobros concert ! In...</td>\n",
       "      <td>can`t wait to november for Jobros concert !</td>\n",
       "      <td>positive</td>\n",
       "      <td>[can`t, wait, to, november, for, Jobros, conce...</td>\n",
       "      <td>10</td>\n",
       "      <td>[can`t, wait, to, november, for, Jobros, conce...</td>\n",
       "      <td>8</td>\n",
       "    </tr>\n",
       "  </tbody>\n",
       "</table>\n",
       "</div>"
      ],
      "text/plain": [
       "         textID                                               text  \\\n",
       "856  317715cbc5  can`t wait to november for Jobros concert ! In...   \n",
       "\n",
       "                                   selected_text sentiment  \\\n",
       "856  can`t wait to november for Jobros concert !  positive   \n",
       "\n",
       "                                            text_words  text_cnt_words  \\\n",
       "856  [can`t, wait, to, november, for, Jobros, conce...              10   \n",
       "\n",
       "                                   selected_text_words  \\\n",
       "856  [can`t, wait, to, november, for, Jobros, conce...   \n",
       "\n",
       "     selected_text_cnt_words  \n",
       "856                        8  "
      ]
     },
     "execution_count": 8,
     "metadata": {},
     "output_type": "execute_result"
    }
   ],
   "source": [
    "train.sample(1)"
   ]
  },
  {
   "cell_type": "code",
   "execution_count": 9,
   "metadata": {},
   "outputs": [],
   "source": [
    "def is_subarray(text, selected_text):\n",
    "    for i in range(len(text) - len(selected_text) + 1):\n",
    "        \n",
    "        if text[i: i + len(selected_text)] == selected_text:\n",
    "            return True\n",
    "    return False"
   ]
  },
  {
   "cell_type": "code",
   "execution_count": 10,
   "metadata": {},
   "outputs": [],
   "source": [
    "train['is_subarray'] = train.apply(lambda x: is_subarray(x.text_words, x.selected_text_words), axis=1)"
   ]
  },
  {
   "cell_type": "code",
   "execution_count": 11,
   "metadata": {},
   "outputs": [
    {
     "data": {
      "text/plain": [
       "count     1000\n",
       "unique       2\n",
       "top       True\n",
       "freq       923\n",
       "Name: is_subarray, dtype: object"
      ]
     },
     "execution_count": 11,
     "metadata": {},
     "output_type": "execute_result"
    }
   ],
   "source": [
    "train.is_subarray.describe()"
   ]
  },
  {
   "cell_type": "markdown",
   "metadata": {},
   "source": [
    "### Гипотеза что расстояние джакара между selected_texts and texts маленькое для text_cnt_words < X"
   ]
  },
  {
   "cell_type": "code",
   "execution_count": 12,
   "metadata": {},
   "outputs": [
    {
     "data": {
      "image/png": "[encoded data removed]",
      "text/plain": [
       "<Figure size 432x288 with 1 Axes>"
      ]
     },
     "metadata": {
      "needs_background": "light"
     },
     "output_type": "display_data"
    }
   ],
   "source": [
    "jacard_dist = defaultdict(list)\n",
    "for sentiment in ['positive', 'negative']:\n",
    "    for i in range(1, 10):\n",
    "        msk = (train['text_cnt_words'] <= i) & (train['sentiment'] == sentiment)\n",
    "        texts = train[msk]['text']\n",
    "        selected_texts = train[msk]['selected_text']\n",
    "        jacard_dist[sentiment].append(arr_jaccard(texts, selected_texts))\n",
    "        \n",
    "for sentiment in ['positive', 'negative']:\n",
    "    plt.plot(jacard_dist[sentiment], label=sentiment)\n",
    "plt.legend()\n",
    "plt.show()"
   ]
  },
  {
   "cell_type": "code",
   "execution_count": 13,
   "metadata": {},
   "outputs": [
    {
     "name": "stdout",
     "output_type": "stream",
     "text": [
      "Created blank 'en' model\n",
      "Loaded model 'kaggle_problems/tweet_sentiment_extraction/models/ner_positive'\n",
      "Created blank 'en' model\n",
      "Loaded model 'kaggle_problems/tweet_sentiment_extraction/models/ner_negative'\n"
     ]
    },
    {
     "data": {
      "image/png": "[encoded data removed]",
      "text/plain": [
       "<Figure size 432x288 with 1 Axes>"
      ]
     },
     "metadata": {
      "needs_background": "light"
     },
     "output_type": "display_data"
    }
   ],
   "source": [
    "jacard_dist = defaultdict(list)\n",
    "for sentiment in ['positive', 'negative']:\n",
    "    model = NER()\n",
    "    model.load_model('kaggle_problems/tweet_sentiment_extraction/models/ner_{}'.format(sentiment))\n",
    "    for i in range(1, 10):\n",
    "        msk = (train['text_cnt_words'] <= i) & (train['sentiment'] == sentiment)\n",
    "        \n",
    "        predict_selected_texts = predict(model, train[msk])\n",
    "        selected_texts = train[msk].selected_text.to_numpy()\n",
    "\n",
    "        jacard_dist[sentiment].append(arr_jaccard(selected_texts, predict_selected_texts))\n",
    "        \n",
    "        \n",
    "for sentiment in ['positive', 'negative']:\n",
    "    plt.plot(jacard_dist[sentiment], label=sentiment)\n",
    "plt.legend()\n",
    "plt.show()"
   ]
  },
  {
   "cell_type": "code",
   "execution_count": 14,
   "metadata": {},
   "outputs": [],
   "source": [
    "def df_to_spacy_format(data):\n",
    "    data.reset_index(drop=True, inplace=True)\n",
    "    spacy_data  = [0] * len(data)\n",
    "    for ind, line in data.iterrows():\n",
    "#         print(\"-\" * 100)\n",
    "#         print(ind)\n",
    "        start_word, end_word = get_start_end_char(line)\n",
    "        spacy_data[ind] = (\n",
    "            line['text'], \n",
    "            {\"entities\": [(start_word, end_word, MAIN_PART_LABEL)]}\n",
    "        )\n",
    "        \n",
    "#         nlp = English()\n",
    "#         tokens = nlp(line['text'])\n",
    "#         print([t.text for t in tokens])\n",
    "#         print(line['text'])\n",
    "#         print(start_word, end_word)\n",
    "#         print(line['selected_text'])\n",
    "#         print([t.text for t in tokens][start_word: end_word])\n",
    "#         print(spacy.gold.biluo_tags_from_offsets(nlp.make_doc(line['text']), [(start_word, end_word, MAIN_PART_LABEL)]))\n",
    "#         print(\"-\" * 100)\n",
    "    return spacy_data\n"
   ]
  },
  {
   "cell_type": "markdown",
   "metadata": {},
   "source": [
    "### Training"
   ]
  },
  {
   "cell_type": "code",
   "execution_count": 15,
   "metadata": {},
   "outputs": [
    {
     "name": "stdout",
     "output_type": "stream",
     "text": [
      "Training for positive\n",
      "----------------------------------------------------------------------------------------------------\n",
      "Created blank 'en' model\n"
     ]
    },
    {
     "name": "stderr",
     "output_type": "stream",
     "text": [
      "/Users/skrrydg/anaconda3/lib/python3.7/site-packages/spacy/language.py:639: UserWarning: [W033] Training a new parser or NER using a model with no lexeme normalization table. This may degrade the performance of the model to some degree. If this is intentional or the language you're using doesn't have a normalization table, please ignore this warning. If this is surprising, make sure you have the spacy-lookups-data package installed. The languages with lexeme normalization tables are currently: da, de, el, en, id, lb, pt, ru, sr, ta, th.\n",
      "  **kwargs\n",
      "100%|██████████| 30/30 [01:13<00:00,  2.45s/it]\n"
     ]
    },
    {
     "name": "stdout",
     "output_type": "stream",
     "text": [
      "Saved model to kaggle_problems/tweet_sentiment_extraction/models/ner_positive\n",
      "----------------------------------------------------------------------------------------------------\n",
      "Training for negative\n",
      "----------------------------------------------------------------------------------------------------\n",
      "Created blank 'en' model\n"
     ]
    },
    {
     "name": "stderr",
     "output_type": "stream",
     "text": [
      "100%|██████████| 30/30 [01:04<00:00,  2.15s/it]\n"
     ]
    },
    {
     "name": "stdout",
     "output_type": "stream",
     "text": [
      "Saved model to kaggle_problems/tweet_sentiment_extraction/models/ner_negative\n",
      "----------------------------------------------------------------------------------------------------\n",
      "Training for neutral\n",
      "----------------------------------------------------------------------------------------------------\n",
      "Created blank 'en' model\n"
     ]
    },
    {
     "name": "stderr",
     "output_type": "stream",
     "text": [
      "100%|██████████| 30/30 [01:33<00:00,  3.12s/it]"
     ]
    },
    {
     "name": "stdout",
     "output_type": "stream",
     "text": [
      "Saved model to kaggle_problems/tweet_sentiment_extraction/models/ner_neutral\n",
      "----------------------------------------------------------------------------------------------------\n"
     ]
    },
    {
     "name": "stderr",
     "output_type": "stream",
     "text": [
      "\n"
     ]
    }
   ],
   "source": [
    "for sentiment in ['positive', 'negative', 'neutral']:\n",
    "    print(\"Training for {}\".format(sentiment))\n",
    "    print(\"-\" * 100)\n",
    "    model = NER(evaluate_score=evaluate_score)\n",
    "    spacy_train_pos = df_to_spacy_format(train[train['sentiment'] == sentiment])\n",
    "    train_los, validation_los = model.train(spacy_train_pos, n_iter=30)\n",
    "    model.save_model('kaggle_problems/tweet_sentiment_extraction/models/ner_{}'.format(sentiment))\n",
    "    pickle.dump(train_los, open(\"kaggle_problems/tweet_sentiment_extraction/data/baseline/train_los.pkl\", 'wb'))\n",
    "    pickle.dump(validation_los, open(\"kaggle_problems/tweet_sentiment_extraction/data/baseline/validation_los.pkl\", 'wb'))\n",
    "    \n",
    "    print(\"-\" * 100)"
   ]
  },
  {
   "cell_type": "code",
   "execution_count": 16,
   "metadata": {},
   "outputs": [
    {
     "data": {
      "text/plain": [
       "['A',\n",
       " 'little',\n",
       " 'happy',\n",
       " 'for',\n",
       " 'the',\n",
       " 'wine',\n",
       " 'jeje',\n",
       " 'ok',\n",
       " 'it`sm',\n",
       " 'my',\n",
       " 'free',\n",
       " 'time',\n",
       " 'so',\n",
       " 'who',\n",
       " 'cares',\n",
       " ',',\n",
       " 'jaja',\n",
       " 'i',\n",
       " 'love',\n",
       " 'this',\n",
       " 'day']"
      ]
     },
     "execution_count": 16,
     "metadata": {},
     "output_type": "execute_result"
    }
   ],
   "source": [
    "list(train[train['sentiment'] == 'positive'].iloc[9].text_words)"
   ]
  },
  {
   "cell_type": "code",
   "execution_count": 17,
   "metadata": {},
   "outputs": [
    {
     "data": {
      "text/plain": [
       "False"
      ]
     },
     "execution_count": 17,
     "metadata": {},
     "output_type": "execute_result"
    }
   ],
   "source": [
    "is_subarray(train[train['sentiment'] == 'positive'].iloc[9].text_words, train[train['sentiment'] == 'positive'].iloc[9].selected_text_words)\n"
   ]
  },
  {
   "cell_type": "code",
   "execution_count": 18,
   "metadata": {},
   "outputs": [
    {
     "data": {
      "image/png": "[encoded data removed]",
      "text/plain": [
       "<Figure size 432x288 with 1 Axes>"
      ]
     },
     "metadata": {
      "needs_background": "light"
     },
     "output_type": "display_data"
    }
   ],
   "source": [
    "train_los = pickle.load(open(\"kaggle_problems/tweet_sentiment_extraction/data/baseline/train_los.pkl\", 'rb'))\n",
    "validation_los =pickle.load(open(\"kaggle_problems/tweet_sentiment_extraction/data/baseline/validation_los.pkl\", 'rb'))\n",
    "    \n",
    "plt.plot(train_los, label='train_los')\n",
    "plt.plot(validation_los, label='validation_los')\n",
    "plt.legend()\n",
    "plt.show()"
   ]
  },
  {
   "cell_type": "code",
   "execution_count": 19,
   "metadata": {},
   "outputs": [
    {
     "name": "stdout",
     "output_type": "stream",
     "text": [
      "[0.9736551153313169, 0.9845231911631607, 0.98554664247901, 0.9872472231650979, 0.9892989087312759, 0.9802543947226516, 0.9902673820185898, 0.9917270781642762, 0.9888780753152735, 0.9913338513338513, 0.991935091657314, 0.9915341448674783, 0.9909624299479373, 0.988142752309419, 0.9925943192609861, 0.9895802037468704, 0.9932181720587517, 0.9960168226834895, 0.9912667579334247, 0.9938885162073567, 0.9935089780500409, 0.9952689594356261, 0.9933980422869313, 0.9925943192609858, 0.9929915119770192, 0.9918435938725794, 0.9939767331433997, 0.9966545799879133, 0.9981265647932316, 0.997119341563786] [0.9827838827838826, 0.9827838827838826, 0.9827838827838826, 0.9776556776556774, 0.9746390864037923, 0.9746390864037923, 0.9776556776556774, 0.9599918599918599, 0.9827838827838826, 0.957142857142857, 0.9827838827838826, 0.9827838827838826, 0.9827838827838826, 0.9827838827838826, 0.9827838827838826, 0.9827838827838826, 0.9827838827838826, 0.9799348799348797, 0.9799348799348797, 0.9827838827838826, 0.9827838827838826, 0.9827838827838826, 0.9827838827838826, 0.9827838827838826, 0.9776556776556774, 0.9827838827838826, 0.9827838827838826, 0.9827838827838826, 0.9827838827838826, 0.9827838827838826]\n"
     ]
    }
   ],
   "source": [
    "print(train_los, validation_los)"
   ]
  },
  {
   "cell_type": "markdown",
   "metadata": {},
   "source": [
    "### Predict on train"
   ]
  },
  {
   "cell_type": "code",
   "execution_count": 20,
   "metadata": {},
   "outputs": [
    {
     "name": "stdout",
     "output_type": "stream",
     "text": [
      "Created blank 'en' model\n",
      "Loaded model 'kaggle_problems/tweet_sentiment_extraction/models/ner_positive'\n",
      "0.7680218565686553\n",
      "Created blank 'en' model\n",
      "Loaded model 'kaggle_problems/tweet_sentiment_extraction/models/ner_negative'\n",
      "0.7714047324357698\n"
     ]
    }
   ],
   "source": [
    "prediction = {}\n",
    "for sentiment in ['positive', 'negative']:\n",
    "    model = NER()\n",
    "    model.load_model('kaggle_problems/tweet_sentiment_extraction/models/ner_{}'.format(sentiment))\n",
    "    \n",
    "    predict_selected_texts = predict(model, train[train['sentiment'] == sentiment])\n",
    "    selected_texts = train[train['sentiment'] == sentiment].selected_text.to_numpy()\n",
    "        \n",
    "    print(arr_jaccard(selected_texts, predict_selected_texts))"
   ]
  },
  {
   "cell_type": "markdown",
   "metadata": {},
   "source": [
    "### Predict on test"
   ]
  },
  {
   "cell_type": "code",
   "execution_count": 21,
   "metadata": {},
   "outputs": [
    {
     "name": "stdout",
     "output_type": "stream",
     "text": [
      "Created blank 'en' model\n",
      "Loaded model 'kaggle_problems/tweet_sentiment_extraction/models/ner_positive'\n",
      "Created blank 'en' model\n",
      "Loaded model 'kaggle_problems/tweet_sentiment_extraction/models/ner_negative'\n"
     ]
    }
   ],
   "source": [
    "result_df = pd.DataFrame(columns=['textID', 'selected_text'])\n",
    "for sentiment in ['positive', 'negative']:\n",
    "    model = NER()\n",
    "    model.load_model('kaggle_problems/tweet_sentiment_extraction/models/ner_{}'.format(sentiment))\n",
    "    \n",
    "    predict_selected_texts = predict(model, test[test['sentiment'] == sentiment])\n",
    "    \n",
    "    result_df = result_df.append(\n",
    "        pd.DataFrame(\n",
    "            data={'textID': test[test['sentiment'] == sentiment].textID.to_numpy(),\n",
    "                  'selected_text': predict_selected_texts}, \n",
    "            columns=['textID', 'selected_text'],\n",
    "        )\n",
    "    )\n",
    "    \n",
    "result_df = result_df.append(\n",
    "    pd.DataFrame(\n",
    "        data={'textID': test[test['sentiment'] == 'neutral'].textID.to_numpy(),\n",
    "              'selected_text': test[test['sentiment'] == 'neutral'].text.to_numpy()}, \n",
    "        columns=['textID', 'selected_text'],\n",
    "    )\n",
    ")\n",
    "result_df = result_df.set_index('textID')\n"
   ]
  },
  {
   "cell_type": "code",
   "execution_count": 22,
   "metadata": {},
   "outputs": [],
   "source": [
    "result_df.to_csv('kaggle_problems/tweet_sentiment_extraction/submissions/{}'.format('baseline_ner'))"
   ]
  },
  {
   "cell_type": "code",
   "execution_count": null,
   "metadata": {},
   "outputs": [],
   "source": [
    "!jupyter nbconvert --to script kaggle_problems/tweet_sentiment_extraction/baseline.ipynb"
   ]
  },
  {
   "cell_type": "code",
   "execution_count": null,
   "metadata": {},
   "outputs": [],
   "source": []
  },
  {
   "cell_type": "code",
   "execution_count": null,
   "metadata": {},
   "outputs": [],
   "source": []
  }
 ],
 "metadata": {
  "kernelspec": {
   "display_name": "Python 3",
   "language": "python",
   "name": "python3"
  },
  "language_info": {
   "codemirror_mode": {
    "name": "ipython",
    "version": 3
   },
   "file_extension": ".py",
   "mimetype": "text/x-python",
   "name": "python",
   "nbconvert_exporter": "python",
   "pygments_lexer": "ipython3",
   "version": "3.7.3"
  }
 },
 "nbformat": 4,
 "nbformat_minor": 2
}
