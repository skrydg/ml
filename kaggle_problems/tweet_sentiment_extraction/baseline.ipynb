{
 "cells": [
  {
   "cell_type": "code",
   "execution_count": 1,
   "metadata": {},
   "outputs": [],
   "source": [
    "import os\n",
    "import sys\n",
    "while not os.getcwd().endswith('ml'):\n",
    "    os.chdir('..')\n",
    "sys.path.insert(0, os.getcwd())"
   ]
  },
  {
   "cell_type": "code",
   "execution_count": 2,
   "metadata": {},
   "outputs": [],
   "source": [
    "import pandas as pd\n",
    "import numpy as np\n",
    "import copy\n",
    "import matplotlib.pyplot as plt\n",
    "import pickle\n",
    "import spacy\n",
    "import random\n",
    "import string\n",
    "from collections import defaultdict\n",
    "from spacy.util import minibatch, compounding\n",
    "from spacy.lang.en import English\n",
    "from kaggle_problems.tweet_sentiment_extraction.common import *\n",
    "\n",
    "from libs.nlp.ner.ner import NER\n",
    "from helpers.word2vec.converter import *"
   ]
  },
  {
   "cell_type": "code",
   "execution_count": 3,
   "metadata": {},
   "outputs": [],
   "source": [
    "MAIN_PART_LABEL = 'MAIN_PART_LABEL'"
   ]
  },
  {
   "cell_type": "code",
   "execution_count": 4,
   "metadata": {},
   "outputs": [],
   "source": [
    "train = pd.read_csv(\"kaggle_problems/tweet_sentiment_extraction/train.csv\")\n",
    "test = pd.read_csv(\"kaggle_problems/tweet_sentiment_extraction/test.csv\")\n",
    "\n",
    "train.dropna(inplace=True)\n",
    "train.reset_index(drop=True, inplace=True)\n",
    "test.dropna(inplace=True)\n",
    "test.reset_index(drop=True, inplace=True)\n",
    "\n",
    "tokenize_nlp = English()"
   ]
  },
  {
   "cell_type": "code",
   "execution_count": 5,
   "metadata": {},
   "outputs": [],
   "source": [
    "def preprocessing_column(column):\n",
    "    #column = column.apply(lambda x: ''.join([i for i in x if (i.isalpha() or i == ' ')]))\n",
    "    #column = column.apply(lambda x: re.sub(' +', ' ', x))\n",
    "    \n",
    "    #column = column.apply(lambda x: x[1:] if x.startswith(' ') else x)\n",
    "    #column = column.apply(lambda x: x[:-1] if x.endswith(' ') else x)\n",
    "    \n",
    "    return column\n",
    "\n",
    "def preprocessing(data):\n",
    "    data.text = preprocessing_column(data.text)\n",
    "    data['text_words'] = data['text'].apply(lambda x: list([str(i) for i in tokenize_nlp(x)]))\n",
    "    data['text_cnt_words'] = data['text'].apply(lambda x: len(list(tokenize_nlp(x))))\n",
    "    \n",
    "    if 'selected_text' in data.columns:\n",
    "        data.selected_text = preprocessing_column(data.selected_text)\n",
    "        data['selected_text_words'] = data['selected_text'].apply(lambda x: list([str(i) for i in tokenize_nlp(x)]))\n",
    "        data['selected_text_cnt_words'] = data['selected_text'].apply(lambda x: len(list(tokenize_nlp(x))))\n",
    "    \n",
    "    return data"
   ]
  },
  {
   "cell_type": "code",
   "execution_count": 6,
   "metadata": {},
   "outputs": [],
   "source": [
    "train = preprocessing(train)\n",
    "test = preprocessing(test)\n",
    "\n"
   ]
  },
  {
   "cell_type": "code",
   "execution_count": 7,
   "metadata": {},
   "outputs": [],
   "source": [
    "def clean_text(text):\n",
    "    '''Make text lowercase, remove text in square brackets,remove links,remove punctuation\n",
    "    and remove words containing numbers.'''\n",
    "    text = str(text).lower()\n",
    "    text = re.sub('\\[.*?\\]', '', text)\n",
    "    text = re.sub('https?://\\S+|www\\.\\S+', '', text)\n",
    "    text = re.sub('<.*?>+', '', text)\n",
    "    text = re.sub('[%s]' % re.escape(string.punctuation), '', text)\n",
    "    text = re.sub('\\n', '', text)\n",
    "    text = re.sub('\\w*\\d\\w*', '', text)\n",
    "    while text.startswith(' '):\n",
    "        text = text[1:]\n",
    "    while text.endswith(' '):\n",
    "        text = text[:-1]\n",
    "    return text\n",
    "\n",
    "train['text'] = train['text'].apply(lambda x:clean_text(x))\n",
    "train['selected_text'] = train['selected_text'].apply(lambda x:clean_text(x))"
   ]
  },
  {
   "cell_type": "code",
   "execution_count": 8,
   "metadata": {},
   "outputs": [
    {
     "data": {
      "text/html": [
       "<div>\n",
       "<style scoped>\n",
       "    .dataframe tbody tr th:only-of-type {\n",
       "        vertical-align: middle;\n",
       "    }\n",
       "\n",
       "    .dataframe tbody tr th {\n",
       "        vertical-align: top;\n",
       "    }\n",
       "\n",
       "    .dataframe thead th {\n",
       "        text-align: right;\n",
       "    }\n",
       "</style>\n",
       "<table border=\"1\" class=\"dataframe\">\n",
       "  <thead>\n",
       "    <tr style=\"text-align: right;\">\n",
       "      <th></th>\n",
       "      <th>textID</th>\n",
       "      <th>text</th>\n",
       "      <th>selected_text</th>\n",
       "      <th>sentiment</th>\n",
       "      <th>text_words</th>\n",
       "      <th>text_cnt_words</th>\n",
       "      <th>selected_text_words</th>\n",
       "      <th>selected_text_cnt_words</th>\n",
       "    </tr>\n",
       "  </thead>\n",
       "  <tbody>\n",
       "    <tr>\n",
       "      <th>14089</th>\n",
       "      <td>dcefaf27f5</td>\n",
       "      <td>dont we all</td>\n",
       "      <td>dont we all</td>\n",
       "      <td>neutral</td>\n",
       "      <td>[ , Don`t, we, all, !]</td>\n",
       "      <td>5</td>\n",
       "      <td>[Don`t, we, all, !]</td>\n",
       "      <td>4</td>\n",
       "    </tr>\n",
       "  </tbody>\n",
       "</table>\n",
       "</div>"
      ],
      "text/plain": [
       "           textID         text selected_text sentiment  \\\n",
       "14089  dcefaf27f5  dont we all   dont we all   neutral   \n",
       "\n",
       "                   text_words  text_cnt_words  selected_text_words  \\\n",
       "14089  [ , Don`t, we, all, !]               5  [Don`t, we, all, !]   \n",
       "\n",
       "       selected_text_cnt_words  \n",
       "14089                        4  "
      ]
     },
     "execution_count": 8,
     "metadata": {},
     "output_type": "execute_result"
    }
   ],
   "source": [
    "train.sample(1)"
   ]
  },
  {
   "cell_type": "code",
   "execution_count": 9,
   "metadata": {},
   "outputs": [],
   "source": [
    "def is_subarray(text, selected_text):\n",
    "    for i in range(len(text) - len(selected_text) + 1):\n",
    "        \n",
    "        if text[i: i + len(selected_text)] == selected_text:\n",
    "            return True\n",
    "    return False"
   ]
  },
  {
   "cell_type": "code",
   "execution_count": 10,
   "metadata": {},
   "outputs": [],
   "source": [
    "train['is_subarray'] = train.apply(lambda x: is_subarray(x.text_words, x.selected_text_words), axis=1)"
   ]
  },
  {
   "cell_type": "code",
   "execution_count": 11,
   "metadata": {},
   "outputs": [
    {
     "data": {
      "text/plain": [
       "count     27480\n",
       "unique        2\n",
       "top        True\n",
       "freq      25480\n",
       "Name: is_subarray, dtype: object"
      ]
     },
     "execution_count": 11,
     "metadata": {},
     "output_type": "execute_result"
    }
   ],
   "source": [
    "train.is_subarray.describe()"
   ]
  },
  {
   "cell_type": "markdown",
   "metadata": {},
   "source": [
    "### Гипотеза что расстояние джакара между selected_texts and texts маленькое для text_cnt_words < X"
   ]
  },
  {
   "cell_type": "code",
   "execution_count": 13,
   "metadata": {},
   "outputs": [
    {
     "data": {
      "image/png": "[encoded data removed]",
      "text/plain": [
       "<Figure size 432x288 with 1 Axes>"
      ]
     },
     "metadata": {
      "needs_background": "light"
     },
     "output_type": "display_data"
    }
   ],
   "source": [
    "jacard_dist = defaultdict(list)\n",
    "for sentiment in ['positive', 'negative']:\n",
    "    for i in range(1, 10):\n",
    "        msk = (train['text_cnt_words'] <= i) & (train['sentiment'] == sentiment)\n",
    "        texts = train[msk]['text']\n",
    "        selected_texts = train[msk]['selected_text']\n",
    "        jacard_dist[sentiment].append(arr_jaccard(texts, selected_texts))\n",
    "        \n",
    "for sentiment in ['positive', 'negative']:\n",
    "    plt.plot(jacard_dist[sentiment], label=sentiment)\n",
    "plt.legend()\n",
    "plt.show()"
   ]
  },
  {
   "cell_type": "code",
   "execution_count": 14,
   "metadata": {},
   "outputs": [
    {
     "name": "stdout",
     "output_type": "stream",
     "text": [
      "Created blank 'en' model\n",
      "Loaded model 'kaggle_problems/tweet_sentiment_extraction/models/ner_positive'\n",
      "Created blank 'en' model\n",
      "Loaded model 'kaggle_problems/tweet_sentiment_extraction/models/ner_negative'\n"
     ]
    },
    {
     "data": {
      "image/png": "[encoded data removed]",
      "text/plain": [
       "<Figure size 432x288 with 1 Axes>"
      ]
     },
     "metadata": {
      "needs_background": "light"
     },
     "output_type": "display_data"
    }
   ],
   "source": [
    "jacard_dist = defaultdict(list)\n",
    "for sentiment in ['positive', 'negative']:\n",
    "    model = NER()\n",
    "    model.load_model('kaggle_problems/tweet_sentiment_extraction/models/ner_{}'.format(sentiment))\n",
    "    for i in range(1, 10):\n",
    "        msk = (train['text_cnt_words'] <= i) & (train['sentiment'] == sentiment)\n",
    "        \n",
    "        predict_selected_texts = predict(model, train[msk])\n",
    "        selected_texts = train[msk].selected_text.to_numpy()\n",
    "\n",
    "        jacard_dist[sentiment].append(arr_jaccard(selected_texts, predict_selected_texts))\n",
    "        \n",
    "        \n",
    "for sentiment in ['positive', 'negative']:\n",
    "    plt.plot(jacard_dist[sentiment], label=sentiment)\n",
    "plt.legend()\n",
    "plt.show()"
   ]
  },
  {
   "cell_type": "code",
   "execution_count": 15,
   "metadata": {},
   "outputs": [],
   "source": [
    "def df_to_spacy_format(data):\n",
    "    data.reset_index(drop=True, inplace=True)\n",
    "    spacy_data  = [0] * len(data)\n",
    "    for ind, line in data.iterrows():\n",
    "#         print(\"-\" * 100)\n",
    "#         print(ind)\n",
    "        start_word, end_word = get_start_end_char(line)\n",
    "        spacy_data[ind] = (\n",
    "            line['text'], \n",
    "            {\"entities\": [(start_word, end_word, MAIN_PART_LABEL)]}\n",
    "        )\n",
    "        \n",
    "        #tokens = tokenize_nlp(line['text'])\n",
    "#         print([t.text for t in tokens])\n",
    "#         print(0, start_word, end_word, len(line['text']))\n",
    "#         print(line['text'][start_word:end_word])\n",
    "#         print(line['selected_text'])\n",
    "#         print(spacy.gold.biluo_tags_from_offsets(tokenize_nlp.make_doc(line['text']), [(start_word, end_word, MAIN_PART_LABEL)]))\n",
    "#         print(\"-\" * 100)\n",
    "    return spacy_data\n"
   ]
  },
  {
   "cell_type": "markdown",
   "metadata": {},
   "source": [
    "### Training"
   ]
  },
  {
   "cell_type": "code",
   "execution_count": 16,
   "metadata": {},
   "outputs": [
    {
     "name": "stdout",
     "output_type": "stream",
     "text": [
      "Training for positive\n",
      "----------------------------------------------------------------------------------------------------\n",
      "Created blank 'en' model\n"
     ]
    },
    {
     "name": "stderr",
     "output_type": "stream",
     "text": [
      "/Users/skrrydg/anaconda3/lib/python3.7/site-packages/spacy/language.py:639: UserWarning: [W033] Training a new parser or NER using a model with no lexeme normalization table. This may degrade the performance of the model to some degree. If this is intentional or the language you're using doesn't have a normalization table, please ignore this warning. If this is surprising, make sure you have the spacy-lookups-data package installed. The languages with lexeme normalization tables are currently: da, de, el, en, id, lb, pt, ru, sr, ta, th.\n",
      "  **kwargs\n",
      "100%|██████████| 30/30 [00:04<00:00,  6.12it/s]\n"
     ]
    },
    {
     "name": "stdout",
     "output_type": "stream",
     "text": [
      "Saved model to kaggle_problems/tweet_sentiment_extraction/models/ner_positive\n",
      "----------------------------------------------------------------------------------------------------\n",
      "Training for negative\n",
      "----------------------------------------------------------------------------------------------------\n",
      "Created blank 'en' model\n"
     ]
    },
    {
     "name": "stderr",
     "output_type": "stream",
     "text": [
      "  0%|          | 0/30 [00:00<?, ?it/s]/Users/skrrydg/anaconda3/lib/python3.7/site-packages/spacy/language.py:482: UserWarning: [W030] Some entities could not be aligned in the text \"i lost all my friends im alone and sleepyi wanna g...\" with entities \"[(0, 41, 'MAIN_PART_LABEL')]\". Use `spacy.gold.biluo_tags_from_offsets(nlp.make_doc(text), entities)` to check the alignment. Misaligned entities ('-') will be ignored during training.\n",
      "  gold = GoldParse(doc, **gold)\n",
      "100%|██████████| 30/30 [00:06<00:00,  4.83it/s]\n"
     ]
    },
    {
     "name": "stdout",
     "output_type": "stream",
     "text": [
      "Saved model to kaggle_problems/tweet_sentiment_extraction/models/ner_negative\n",
      "----------------------------------------------------------------------------------------------------\n",
      "Training for neutral\n",
      "----------------------------------------------------------------------------------------------------\n",
      "Created blank 'en' model\n"
     ]
    },
    {
     "name": "stderr",
     "output_type": "stream",
     "text": [
      "100%|██████████| 30/30 [00:08<00:00,  3.66it/s]"
     ]
    },
    {
     "name": "stdout",
     "output_type": "stream",
     "text": [
      "Saved model to kaggle_problems/tweet_sentiment_extraction/models/ner_neutral\n",
      "----------------------------------------------------------------------------------------------------\n"
     ]
    },
    {
     "name": "stderr",
     "output_type": "stream",
     "text": [
      "\n"
     ]
    }
   ],
   "source": [
    "for sentiment in ['positive', 'negative', 'neutral']:\n",
    "    print(\"Training for {}\".format(sentiment))\n",
    "    print(\"-\" * 100)\n",
    "    model = NER(evaluate_score=evaluate_score)\n",
    "    \n",
    "    spacy_train_pos = df_to_spacy_format(train[train['sentiment'] == sentiment])\n",
    "    train_los, validation_los = model.train(spacy_train_pos, n_iter=30)\n",
    "    model.save_model('kaggle_problems/tweet_sentiment_extraction/models/ner_{}'.format(sentiment))\n",
    "    pickle.dump(train_los, open(\"kaggle_problems/tweet_sentiment_extraction/data/baseline/train_los_{}.pkl\".format(sentiment), 'wb'))\n",
    "    pickle.dump(validation_los, open(\"kaggle_problems/tweet_sentiment_extraction/data/baseline/validation_los_{}.pkl\".format(sentiment), 'wb'))\n",
    "    \n",
    "    print(\"-\" * 100)"
   ]
  },
  {
   "cell_type": "code",
   "execution_count": 17,
   "metadata": {},
   "outputs": [
    {
     "data": {
      "image/png": "[encoded data removed]",
      "text/plain": [
       "<Figure size 432x288 with 1 Axes>"
      ]
     },
     "metadata": {
      "needs_background": "light"
     },
     "output_type": "display_data"
    },
    {
     "data": {
      "image/png": "[encoded data removed]",
      "text/plain": [
       "<Figure size 432x288 with 1 Axes>"
      ]
     },
     "metadata": {
      "needs_background": "light"
     },
     "output_type": "display_data"
    },
    {
     "data": {
      "image/png": "[encoded data removed]",
      "text/plain": [
       "<Figure size 432x288 with 1 Axes>"
      ]
     },
     "metadata": {
      "needs_background": "light"
     },
     "output_type": "display_data"
    }
   ],
   "source": [
    "for sentiment in ['positive', 'negative', 'neutral']:\n",
    "    train_los = pickle.load(open(\"kaggle_problems/tweet_sentiment_extraction/data/baseline/train_los_{}.pkl\".format(sentiment), 'rb'))\n",
    "    validation_los =pickle.load(open(\"kaggle_problems/tweet_sentiment_extraction/data/baseline/validation_los_{}.pkl\".format(sentiment), 'rb'))\n",
    "\n",
    "    plt.plot(train_los, label='train_los')\n",
    "    plt.plot(validation_los, label='validation_los')\n",
    "    plt.legend()\n",
    "    plt.show()"
   ]
  },
  {
   "cell_type": "code",
   "execution_count": 18,
   "metadata": {},
   "outputs": [
    {
     "name": "stdout",
     "output_type": "stream",
     "text": [
      "[0.9898785425101214, 0.9898785425101214, 0.9898785425101214, 0.9898785425101214, 0.9898785425101214, 0.9898785425101214, 0.9898785425101214, 0.9898785425101214, 0.9898785425101214, 0.9898785425101214, 0.9898785425101214, 0.9898785425101214, 1.0, 1.0, 1.0, 1.0, 1.0, 1.0, 1.0, 1.0, 1.0, 1.0, 1.0, 1.0, 1.0, 1.0, 1.0, 1.0, 1.0, 1.0] [1.0, 1.0, 1.0, 1.0, 1.0, 1.0, 1.0, 1.0, 1.0, 1.0, 1.0, 1.0, 1.0, 1.0, 1.0, 1.0, 1.0, 1.0, 1.0, 1.0, 1.0, 1.0, 1.0, 1.0, 1.0, 1.0, 1.0, 1.0, 1.0, 1.0]\n"
     ]
    }
   ],
   "source": [
    "print(train_los, validation_los)"
   ]
  },
  {
   "cell_type": "markdown",
   "metadata": {},
   "source": [
    "### Predict on train"
   ]
  },
  {
   "cell_type": "code",
   "execution_count": 19,
   "metadata": {},
   "outputs": [
    {
     "name": "stdout",
     "output_type": "stream",
     "text": [
      "Created blank 'en' model\n",
      "Loaded model 'kaggle_problems/tweet_sentiment_extraction/models/ner_positive'\n",
      "0.7617068117068116\n",
      "Created blank 'en' model\n",
      "Loaded model 'kaggle_problems/tweet_sentiment_extraction/models/ner_negative'\n",
      "0.79087584528761\n"
     ]
    }
   ],
   "source": [
    "prediction = {}\n",
    "for sentiment in ['positive', 'negative']:\n",
    "    model = NER()\n",
    "    model.load_model('kaggle_problems/tweet_sentiment_extraction/models/ner_{}'.format(sentiment))\n",
    "    \n",
    "    spacy_train_pos = df_to_spacy_format(train[train['sentiment'] == sentiment])\n",
    "    \n",
    "    texts, annotations = zip(*spacy_train_pos)\n",
    "    annotations = [annotation.get('entities') for annotation in annotations]\n",
    "    y_predict = model.predict(texts)\n",
    "    \n",
    "    print(evaluate_score(texts, annotations, y_predict))"
   ]
  },
  {
   "cell_type": "markdown",
   "metadata": {},
   "source": [
    "### Predict on test"
   ]
  },
  {
   "cell_type": "code",
   "execution_count": 20,
   "metadata": {},
   "outputs": [
    {
     "name": "stdout",
     "output_type": "stream",
     "text": [
      "Created blank 'en' model\n",
      "Loaded model 'kaggle_problems/tweet_sentiment_extraction/models/ner_positive'\n",
      "Created blank 'en' model\n",
      "Loaded model 'kaggle_problems/tweet_sentiment_extraction/models/ner_negative'\n"
     ]
    }
   ],
   "source": [
    "result_df = pd.DataFrame(columns=['textID', 'selected_text'])\n",
    "for sentiment in ['positive', 'negative']:\n",
    "    model = NER()\n",
    "    model.load_model('kaggle_problems/tweet_sentiment_extraction/models/ner_{}'.format(sentiment))\n",
    "    \n",
    "    predict_selected_texts = predict(model, test[test['sentiment'] == sentiment])\n",
    "    \n",
    "    result_df = result_df.append(\n",
    "        pd.DataFrame(\n",
    "            data={'textID': test[test['sentiment'] == sentiment].textID.to_numpy(),\n",
    "                  'selected_text': predict_selected_texts}, \n",
    "            columns=['textID', 'selected_text'],\n",
    "        )\n",
    "    )\n",
    "    \n",
    "result_df = result_df.append(\n",
    "    pd.DataFrame(\n",
    "        data={'textID': test[test['sentiment'] == 'neutral'].textID.to_numpy(),\n",
    "              'selected_text': test[test['sentiment'] == 'neutral'].text.to_numpy()}, \n",
    "        columns=['textID', 'selected_text'],\n",
    "    )\n",
    ")\n",
    "result_df = result_df.set_index('textID')\n"
   ]
  },
  {
   "cell_type": "code",
   "execution_count": 21,
   "metadata": {},
   "outputs": [],
   "source": [
    "result_df.to_csv('kaggle_problems/tweet_sentiment_extraction/submissions/{}'.format('baseline_ner'))"
   ]
  },
  {
   "cell_type": "code",
   "execution_count": 22,
   "metadata": {},
   "outputs": [
    {
     "name": "stdout",
     "output_type": "stream",
     "text": [
      "[NbConvertApp] Converting notebook kaggle_problems/tweet_sentiment_extraction/baseline.ipynb to script\n",
      "[NbConvertApp] Writing 8273 bytes to kaggle_problems/tweet_sentiment_extraction/baseline.py\n"
     ]
    }
   ],
   "source": [
    "!jupyter nbconvert --to script kaggle_problems/tweet_sentiment_extraction/baseline.ipynb"
   ]
  },
  {
   "cell_type": "code",
   "execution_count": null,
   "metadata": {},
   "outputs": [],
   "source": []
  },
  {
   "cell_type": "code",
   "execution_count": null,
   "metadata": {},
   "outputs": [],
   "source": []
  }
 ],
 "metadata": {
  "kernelspec": {
   "display_name": "Python 3",
   "language": "python",
   "name": "python3"
  },
  "language_info": {
   "codemirror_mode": {
    "name": "ipython",
    "version": 3
   },
   "file_extension": ".py",
   "mimetype": "text/x-python",
   "name": "python",
   "nbconvert_exporter": "python",
   "pygments_lexer": "ipython3",
   "version": "3.7.3"
  }
 },
 "nbformat": 4,
 "nbformat_minor": 2
}
