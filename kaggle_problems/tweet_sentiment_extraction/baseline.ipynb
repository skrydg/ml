{
 "cells": [
  {
   "cell_type": "code",
   "execution_count": 81,
   "metadata": {},
   "outputs": [],
   "source": [
    "import os\n",
    "import sys\n",
    "while not os.getcwd().endswith('ml'):\n",
    "    os.chdir('..')\n",
    "sys.path.insert(0, os.getcwd())"
   ]
  },
  {
   "cell_type": "code",
   "execution_count": 83,
   "metadata": {},
   "outputs": [],
   "source": [
    "import pandas as pd\n",
    "import numpy as np\n",
    "import copy\n",
    "import matplotlib.pyplot as plt\n",
    "import pickle\n",
    "import spacy\n",
    "import random\n",
    "from collections import defaultdict\n",
    "from spacy.util import minibatch, compounding\n",
    "from spacy.lang.en import English\n",
    "from kaggle_problems.tweet_sentiment_extraction.common import *\n",
    "\n",
    "from libs.nlp.ner.ner import NER\n",
    "from helpers.word2vec.converter import *"
   ]
  },
  {
   "cell_type": "code",
   "execution_count": 84,
   "metadata": {},
   "outputs": [],
   "source": [
    "MAIN_PART_LABEL = 'MAIN_PART_LABEL'"
   ]
  },
  {
   "cell_type": "code",
   "execution_count": 85,
   "metadata": {},
   "outputs": [],
   "source": [
    "train = pd.read_csv(\"kaggle_problems/tweet_sentiment_extraction/train.csv\")\n",
    "test = pd.read_csv(\"kaggle_problems/tweet_sentiment_extraction/test.csv\")\n",
    "\n",
    "train.dropna(inplace=True)\n",
    "train.reset_index(drop=True, inplace=True)\n",
    "test.dropna(inplace=True)\n",
    "test.reset_index(drop=True, inplace=True)"
   ]
  },
  {
   "cell_type": "code",
   "execution_count": 86,
   "metadata": {},
   "outputs": [],
   "source": [
    "def preprocessing_column(column):\n",
    "    #column = column.apply(lambda x: ''.join([i for i in x if (i.isalpha() or i == ' ')]))\n",
    "    #column = column.apply(lambda x: re.sub(' +', ' ', x))\n",
    "    \n",
    "    #column = column.apply(lambda x: x[1:] if x.startswith(' ') else x)\n",
    "    #column = column.apply(lambda x: x[:-1] if x.endswith(' ') else x)\n",
    "    \n",
    "    return column\n",
    "\n",
    "def preprocessing(data):\n",
    "    data.text = preprocessing_column(data.text)\n",
    "    data['text_words'] = data['text'].apply(lambda x: x.split(\" \"))\n",
    "    data['text_cnt_words'] = data['text'].apply(lambda x: len(x.split(\" \")))\n",
    "    \n",
    "    if 'selected_text' in data.columns:\n",
    "        data.selected_text = preprocessing_column(data.selected_text)\n",
    "        data['selected_text_words'] = data['selected_text'].apply(lambda x: x.split(\" \"))\n",
    "        data['selected_text_cnt_words'] = data['selected_text'].apply(lambda x: len(x.split(\" \")))\n",
    "    \n",
    "    return data"
   ]
  },
  {
   "cell_type": "code",
   "execution_count": 87,
   "metadata": {},
   "outputs": [],
   "source": [
    "train = preprocessing(train)\n",
    "test = preprocessing(test)"
   ]
  },
  {
   "cell_type": "markdown",
   "metadata": {},
   "source": [
    "### Гипотеза что расстояние джакара между selected_texts and texts маленькое для text_cnt_words < X"
   ]
  },
  {
   "cell_type": "code",
   "execution_count": 88,
   "metadata": {},
   "outputs": [
    {
     "data": {
      "image/png": "[encoded data removed]",
      "text/plain": [
       "<Figure size 432x288 with 1 Axes>"
      ]
     },
     "metadata": {
      "needs_background": "light"
     },
     "output_type": "display_data"
    }
   ],
   "source": [
    "jacard_dist = defaultdict(list)\n",
    "for sentiment in ['positive', 'negative']:\n",
    "    for i in range(1, 10):\n",
    "        msk = (train['text_cnt_words'] <= i) & (train['sentiment'] == sentiment)\n",
    "        texts = train[msk]['text']\n",
    "        selected_texts = train[msk]['selected_text']\n",
    "        jacard_dist[sentiment].append(arr_jaccard(texts, selected_texts))\n",
    "        \n",
    "for sentiment in ['positive', 'negative']:\n",
    "    plt.plot(jacard_dist[sentiment], label=sentiment)\n",
    "plt.legend()\n",
    "plt.show()"
   ]
  },
  {
   "cell_type": "code",
   "execution_count": null,
   "metadata": {},
   "outputs": [
    {
     "name": "stdout",
     "output_type": "stream",
     "text": [
      "Created blank 'en' model\n",
      "Loaded model 'kaggle_problems/tweet_sentiment_extraction/models/ner_positive'\n"
     ]
    }
   ],
   "source": [
    "jacard_dist = defaultdict(list)\n",
    "for sentiment in ['positive', 'negative']:\n",
    "    model = NER()\n",
    "    model.load_model('kaggle_problems/tweet_sentiment_extraction/models/ner_{}'.format(sentiment))\n",
    "    for i in range(1, 10):\n",
    "        msk = (train['text_cnt_words'] <= i) & (train['sentiment'] == sentiment)\n",
    "        \n",
    "        predict_selected_texts = predict(model, train[msk])\n",
    "        selected_texts = train[msk].selected_text.to_numpy()\n",
    "\n",
    "        jacard_dist[sentiment].append(arr_jaccard(selected_texts, predict_selected_texts))\n",
    "        \n",
    "        \n",
    "for sentiment in ['positive', 'negative']:\n",
    "    plt.plot(jacard_dist[sentiment], label=sentiment)\n",
    "plt.legend()\n",
    "plt.show()"
   ]
  },
  {
   "cell_type": "code",
   "execution_count": null,
   "metadata": {},
   "outputs": [],
   "source": [
    "def df_to_spacy_format(data):\n",
    "    data.reset_index(drop=True, inplace=True)\n",
    "    spacy_data  = [0] * len(data)\n",
    "    for ind, line in data.iterrows():\n",
    "#         print(\"-\" * 100)\n",
    "#         print(ind)\n",
    "        start_word, end_word = get_start_end_char(line)\n",
    "        spacy_data[ind] = (\n",
    "            line['text'], \n",
    "            {\"entities\": [(start_word, end_word, MAIN_PART_LABEL)]}\n",
    "        )\n",
    "#         nlp = English()\n",
    "#         tokens = nlp(line['text'])\n",
    "\n",
    "#         print([t.text for t in tokens])\n",
    "#         print(line['text'])\n",
    "#         print(start_word, end_word)\n",
    "#         print(line['selected_text'])\n",
    "#         print(spacy.gold.biluo_tags_from_offsets(nlp.make_doc(line['text']), [(start_word, end_word, MAIN_PART_LABEL)]))\n",
    "#         print(\"-\" * 100)\n",
    "    return spacy_data\n"
   ]
  },
  {
   "cell_type": "markdown",
   "metadata": {},
   "source": [
    "### Training"
   ]
  },
  {
   "cell_type": "code",
   "execution_count": null,
   "metadata": {},
   "outputs": [],
   "source": [
    "for sentiment in ['positive', 'negative', 'neutral']:\n",
    "    print(\"Training for {}\".format(sentiment))\n",
    "    print(\"-\" * 100)\n",
    "    model = NER(evaluate_score=evaluate_score)\n",
    "    spacy_train_pos = df_to_spacy_format(train[train['sentiment'] == sentiment])\n",
    "    train_los, validation_los = model.train(spacy_train_pos, n_iter=30)\n",
    "    model.save_model('kaggle_problems/tweet_sentiment_extraction/models/ner_{}'.format(sentiment))\n",
    "    pickle.dump(train_los, open(\"kaggle_problems/tweet_sentiment_extraction/data/baseline/train_los.pkl\", 'wb'))\n",
    "    pickle.dump(validation_los, open(\"kaggle_problems/tweet_sentiment_extraction/data/baseline/validation_los.pkl\", 'wb'))\n",
    "    \n",
    "    print(\"-\" * 100)"
   ]
  },
  {
   "cell_type": "code",
   "execution_count": null,
   "metadata": {},
   "outputs": [],
   "source": [
    "train_los = pickle.load(open(\"kaggle_problems/tweet_sentiment_extraction/data/baseline/train_los.pkl\", 'rb'))\n",
    "validation_los =pickle.load(open(\"kaggle_problems/tweet_sentiment_extraction/data/baseline/validation_los.pkl\", 'rb'))\n",
    "    \n",
    "plt.plot(train_los, label='train_los')\n",
    "plt.plot(validation_los, label='validation_los')\n",
    "plt.legend()\n",
    "plt.show()"
   ]
  },
  {
   "cell_type": "code",
   "execution_count": null,
   "metadata": {},
   "outputs": [],
   "source": [
    "print(train_los, validation_los)"
   ]
  },
  {
   "cell_type": "markdown",
   "metadata": {},
   "source": [
    "### Predict on train"
   ]
  },
  {
   "cell_type": "code",
   "execution_count": null,
   "metadata": {},
   "outputs": [],
   "source": [
    "prediction = {}\n",
    "for sentiment in ['positive', 'negative']:\n",
    "    model = NER()\n",
    "    model.load_model('kaggle_problems/tweet_sentiment_extraction/models/ner_{}'.format(sentiment))\n",
    "    \n",
    "    predict_selected_texts = predict(model, train[train['sentiment'] == sentiment])\n",
    "    selected_texts = train[train['sentiment'] == sentiment].selected_text.to_numpy()\n",
    "        \n",
    "    print(arr_jaccard(selected_texts, predict_selected_texts))"
   ]
  },
  {
   "cell_type": "markdown",
   "metadata": {},
   "source": [
    "### Predict on test"
   ]
  },
  {
   "cell_type": "code",
   "execution_count": null,
   "metadata": {},
   "outputs": [],
   "source": [
    "result_df = pd.DataFrame(columns=['textID', 'selected_text'])\n",
    "for sentiment in ['positive', 'negative']:\n",
    "    model = NER()\n",
    "    model.load_model('kaggle_problems/tweet_sentiment_extraction/models/ner_{}'.format(sentiment))\n",
    "    \n",
    "    predict_selected_texts = predict(model, test[test['sentiment'] == sentiment])\n",
    "    \n",
    "    result_df = result_df.append(\n",
    "        pd.DataFrame(\n",
    "            data={'textID': test[test['sentiment'] == sentiment].textID.to_numpy(),\n",
    "                  'selected_text': predict_selected_texts}, \n",
    "            columns=['textID', 'selected_text'],\n",
    "        )\n",
    "    )\n",
    "    \n",
    "result_df = result_df.append(\n",
    "    pd.DataFrame(\n",
    "        data={'textID': test[test['sentiment'] == 'neutral'].textID.to_numpy(),\n",
    "              'selected_text': test[test['sentiment'] == 'neutral'].text.to_numpy()}, \n",
    "        columns=['textID', 'selected_text'],\n",
    "    )\n",
    ")\n",
    "result_df = result_df.set_index('textID')\n"
   ]
  },
  {
   "cell_type": "code",
   "execution_count": null,
   "metadata": {},
   "outputs": [],
   "source": [
    "result_df.to_csv('kaggle_problems/tweet_sentiment_extraction/submissions/{}'.format('baseline_ner'))"
   ]
  },
  {
   "cell_type": "code",
   "execution_count": null,
   "metadata": {},
   "outputs": [],
   "source": [
    "!jupyter nbconvert --to script kaggle_problems/tweet_sentiment_extraction/baseline.ipynb"
   ]
  },
  {
   "cell_type": "code",
   "execution_count": null,
   "metadata": {},
   "outputs": [],
   "source": []
  },
  {
   "cell_type": "code",
   "execution_count": null,
   "metadata": {},
   "outputs": [],
   "source": []
  }
 ],
 "metadata": {
  "kernelspec": {
   "display_name": "Python 3",
   "language": "python",
   "name": "python3"
  },
  "language_info": {
   "codemirror_mode": {
    "name": "ipython",
    "version": 3
   },
   "file_extension": ".py",
   "mimetype": "text/x-python",
   "name": "python",
   "nbconvert_exporter": "python",
   "pygments_lexer": "ipython3",
   "version": "3.7.3"
  }
 },
 "nbformat": 4,
 "nbformat_minor": 2
}
