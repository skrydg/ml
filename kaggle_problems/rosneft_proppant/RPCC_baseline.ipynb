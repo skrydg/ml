{
 "cells": [
  {
   "cell_type": "code",
   "execution_count": null,
   "metadata": {},
   "outputs": [],
   "source": [
    "import pandas as pd\n",
    "import numpy as np\n",
    "import cv2\n",
    "from tqdm import tqdm_notebook as tqdm\n",
    "\n",
    "from sklearn.model_selection import train_test_split\n",
    "from RPCC_metric_utils_for_participants import contest_metric, sive_diam_pan, calc_chi_square_metric"
   ]
  },
  {
   "cell_type": "code",
   "execution_count": null,
   "metadata": {},
   "outputs": [],
   "source": [
    "train = pd.read_csv(\"RPCC_labels.csv\")"
   ]
  },
  {
   "cell_type": "code",
   "execution_count": null,
   "metadata": {},
   "outputs": [],
   "source": [
    "train_df, test_df = train_test_split(train, test_size=0.2, random_state=42)"
   ]
  },
  {
   "cell_type": "code",
   "execution_count": null,
   "metadata": {},
   "outputs": [],
   "source": [
    "train_cnt = train_df[~train_df.prop_count.isnull()]\n",
    "train_dist = train_df[~train_df.pan.isnull()]\n",
    "\n",
    "valid_cnt = test_df[~test_df.prop_count.isnull()]\n",
    "valid_dist = test_df[~test_df.pan.isnull()]"
   ]
  },
  {
   "cell_type": "markdown",
   "metadata": {},
   "source": [
    "# Count props part"
   ]
  },
  {
   "cell_type": "code",
   "execution_count": null,
   "metadata": {},
   "outputs": [],
   "source": [
    "import torch\n",
    "import torch.nn as nn\n",
    "from torch.optim import Adam\n",
    "\n",
    "import albumentations as A\n",
    "from torchvision.models import mobilenet_v2\n",
    "from torch.utils.data import DataLoader, Dataset"
   ]
  },
  {
   "cell_type": "code",
   "execution_count": null,
   "metadata": {},
   "outputs": [],
   "source": [
    "import os\n",
    "\n",
    "\n",
    "class CntDataset(Dataset):\n",
    "    def __init__(self, path, df, transforms):\n",
    "        self.path = path\n",
    "        self.df = df\n",
    "        self.transforms = transforms\n",
    "        \n",
    "    def __getitem__(self, item):\n",
    "        path = os.path.join(self.path, f\"{self.df.ImageId.iloc[item]}.jpg\")\n",
    "        label = torch.Tensor([self.df.prop_count.iloc[item]])\n",
    "        img = cv2.cvtColor(cv2.imread(path), cv2.COLOR_BGR2RGB)\n",
    "        img = self.transforms(image=img)['image']\n",
    "        img = torch.from_numpy(img)\n",
    "        return img.permute(2, 0, 1), label\n",
    "    \n",
    "    def __len__(self):\n",
    "        return len(self.df)"
   ]
  },
  {
   "cell_type": "code",
   "execution_count": null,
   "metadata": {},
   "outputs": [],
   "source": [
    "max_cnt = train_cnt.prop_count.max()\n",
    "min_cnt = train_cnt.prop_count.min()\n",
    "print(min_cnt, max_cnt)\n",
    "\n",
    "norm = lambda cnt: (cnt - min_cnt) / (max_cnt - min_cnt)\n",
    "inorm = lambda cnt: cnt * (max_cnt - min_cnt) + min_cnt\n",
    "\n",
    "assert inorm(norm(1500)) == 1500"
   ]
  },
  {
   "cell_type": "code",
   "execution_count": null,
   "metadata": {
    "scrolled": true
   },
   "outputs": [],
   "source": [
    "train_cnt.prop_count = train_cnt.prop_count.apply(norm)\n",
    "valid_cnt.prop_count = valid_cnt.prop_count.apply(norm)"
   ]
  },
  {
   "cell_type": "code",
   "execution_count": null,
   "metadata": {},
   "outputs": [],
   "source": [
    "model = mobilenet_v2(True)\n",
    "model.classifier[1] = nn.Linear(1280, 1, True)\n",
    "model = model.cuda()\n",
    "\n",
    "optimizer = Adam(model.parameters(), 1e-4)\n",
    "criterion = nn.MSELoss()"
   ]
  },
  {
   "cell_type": "code",
   "execution_count": null,
   "metadata": {},
   "outputs": [],
   "source": [
    "train_ds = CntDataset(\n",
    "    \"RPCC_train/train/\", \n",
    "    train_cnt, \n",
    "    A.Compose([\n",
    "        A.Normalize(),\n",
    "        A.HorizontalFlip(p=0.5),\n",
    "        A.VerticalFlip(p=0.5),\n",
    "        A.Resize(512, 512),\n",
    "    ]),\n",
    ")\n",
    "train_loader = DataLoader(train_ds, 16, shuffle=True)\n",
    "\n",
    "valid_ds = CntDataset(\n",
    "    \"RPCC_train/train/\", \n",
    "    valid_cnt, \n",
    "    A.Compose([\n",
    "        A.Normalize(),\n",
    "        A.Resize(512, 512),\n",
    "    ]),\n",
    ")\n",
    "\n",
    "valid_loader = DataLoader(valid_ds, 16, shuffle=False)\n",
    "\n",
    "\n",
    "test_ds = CntDataset(\n",
    "    \"RPCC_train/train/\", \n",
    "    test_df, \n",
    "    A.Compose([\n",
    "        A.Normalize(),\n",
    "        A.Resize(512, 512),\n",
    "    ]),\n",
    ")\n",
    "\n",
    "test_loader = DataLoader(test_ds, 16, shuffle=False)"
   ]
  },
  {
   "cell_type": "code",
   "execution_count": null,
   "metadata": {},
   "outputs": [],
   "source": [
    "def train_epoch(num, loader):\n",
    "    model.train()\n",
    "    running_loss = 0.\n",
    "    for i, (batch, labels) in enumerate(loader):\n",
    "        batch = batch.cuda()\n",
    "        labels = labels.cuda()\n",
    "\n",
    "        optimizer.zero_grad()\n",
    "\n",
    "        outputs = model(batch)\n",
    "        loss = criterion(outputs, labels)\n",
    "        loss.backward()\n",
    "        optimizer.step()\n",
    "\n",
    "        running_loss += loss.item()\n",
    "\n",
    "    print(\"Train Epoch: \", num + 1, \"Loss: \", running_loss / (i+1))\n",
    "\n",
    "    \n",
    "def predict(loader):\n",
    "    model.eval()\n",
    "    outputs = []\n",
    "    with torch.no_grad():\n",
    "        for i, (batch, _) in enumerate(loader):\n",
    "            batch = batch.cuda()\n",
    "            outputs.extend(model(batch).cpu().detach().numpy().squeeze().tolist())\n",
    "    return outputs\n",
    "    \n",
    "    \n",
    "def eval_epoch(num, loader):\n",
    "    outputs = predict(loader)\n",
    "    pred_cnts = np.array([inorm(x) for x in outputs])\n",
    "    gt_cnts = np.array([inorm(x) for x in loader.dataset.df.prop_count])\n",
    "    print(\"Eval Epoch: \", num + 1, \"MAPE: \", np.mean(np.abs(pred_cnts - gt_cnts) / gt_cnts))\n",
    "    \n",
    "\n",
    "def train_and_eval():\n",
    "    for epoch in range(5):\n",
    "        train_epoch(epoch, train_loader)\n",
    "        eval_epoch(epoch, valid_loader)\n",
    "        print(\"=\" * 10)\n",
    "\n",
    "\n",
    "train_and_eval()"
   ]
  },
  {
   "cell_type": "code",
   "execution_count": null,
   "metadata": {},
   "outputs": [],
   "source": [
    "outputs = predict(test_loader)\n",
    "cnt_preds = [inorm(x) for x in outputs]"
   ]
  },
  {
   "cell_type": "code",
   "execution_count": null,
   "metadata": {},
   "outputs": [],
   "source": [
    "torch.save(model.cpu(), \"model_cnts.pth\")"
   ]
  },
  {
   "cell_type": "markdown",
   "metadata": {},
   "source": [
    "# Count distr part"
   ]
  },
  {
   "cell_type": "code",
   "execution_count": null,
   "metadata": {},
   "outputs": [],
   "source": [
    "import os\n",
    "\n",
    "\n",
    "class DistDataset(Dataset):\n",
    "    def __init__(self, path, df, transforms):\n",
    "        self.path = path\n",
    "        self.df = df\n",
    "        self.transforms = transforms\n",
    "        \n",
    "    def __getitem__(self, item):\n",
    "        path = os.path.join(self.path, f\"{self.df.ImageId.iloc[item]}.jpg\")\n",
    "        label = torch.from_numpy(self.df.iloc[item, 1:-2].values.astype(np.float32))\n",
    "        img = cv2.cvtColor(cv2.imread(path), cv2.COLOR_BGR2RGB)\n",
    "        img = self.transforms(image=img)['image']\n",
    "        img = torch.from_numpy(img)\n",
    "        return img.permute(2, 0, 1), label\n",
    "    \n",
    "    def __len__(self):\n",
    "        return len(self.df)"
   ]
  },
  {
   "cell_type": "code",
   "execution_count": null,
   "metadata": {},
   "outputs": [],
   "source": [
    "model = mobilenet_v2(True)\n",
    "model.classifier[1] = nn.Linear(1280, 20, True)\n",
    "model = model.cuda()\n",
    "\n",
    "optimizer = Adam(model.parameters(), 1e-4)\n",
    "criterion = nn.MSELoss()"
   ]
  },
  {
   "cell_type": "code",
   "execution_count": null,
   "metadata": {},
   "outputs": [],
   "source": [
    "train_ds = DistDataset(\n",
    "    \"RPCC_train/train/\", \n",
    "    train_dist, \n",
    "    A.Compose([\n",
    "        A.Normalize(),\n",
    "        A.HorizontalFlip(p=0.5),\n",
    "        A.VerticalFlip(p=0.5),\n",
    "        A.Resize(512, 512),\n",
    "    ]),\n",
    ")\n",
    "train_loader = DataLoader(train_ds, 16, shuffle=True)\n",
    "\n",
    "valid_ds = DistDataset(\n",
    "    \"RPCC_train/train/\", \n",
    "    valid_dist, \n",
    "    A.Compose([\n",
    "        A.Normalize(),\n",
    "        A.Resize(512, 512),\n",
    "    ]),\n",
    ")\n",
    "\n",
    "valid_loader = DataLoader(valid_ds, 16, shuffle=False)\n",
    "\n",
    "\n",
    "test_ds = DistDataset(\n",
    "    \"RPCC_train/train/\", \n",
    "    test_df, \n",
    "    A.Compose([\n",
    "        A.Normalize(),\n",
    "        A.Resize(512, 512),\n",
    "    ]),\n",
    ")\n",
    "\n",
    "test_loader = DataLoader(test_ds, 16, shuffle=False)"
   ]
  },
  {
   "cell_type": "code",
   "execution_count": null,
   "metadata": {
    "scrolled": true
   },
   "outputs": [],
   "source": [
    "def train_epoch(num, loader):\n",
    "    model.train()\n",
    "    running_loss = 0.\n",
    "    for i, (batch, labels) in tqdm(enumerate(loader), total=len(loader)):\n",
    "        batch = batch.cuda()\n",
    "        labels = labels.cuda()\n",
    "\n",
    "        optimizer.zero_grad()\n",
    "\n",
    "        outputs = model(batch)\n",
    "        loss = criterion(outputs.softmax(dim=1), labels)\n",
    "        loss.backward()\n",
    "        optimizer.step()\n",
    "\n",
    "        running_loss += loss.item()\n",
    "\n",
    "    print(\"Train Epoch: \", num + 1, \"Loss: \", running_loss / (i+1))\n",
    "\n",
    "    \n",
    "def predict(loader):\n",
    "    model.eval()\n",
    "    outputs = []\n",
    "    with torch.no_grad():\n",
    "        for i, (batch, _) in enumerate(loader):\n",
    "            batch = batch.cuda()\n",
    "            outputs.extend(model(batch).softmax(dim=1).cpu().detach().numpy().squeeze().tolist())\n",
    "    return outputs\n",
    "    \n",
    "    \n",
    "def eval_epoch(num, loader):\n",
    "    outputs = predict(loader)\n",
    "    gt_hists = loader.dataset.df.iloc[:, 1:-2].values\n",
    "    gt_fracts = loader.dataset.df[\"fraction\"].values\n",
    "    res = []\n",
    "    for i, (hist, fracts) in enumerate(zip(gt_hists, gt_fracts)):\n",
    "        res.append(calc_chi_square_metric(hist, outputs[i], fracts))\n",
    "\n",
    "    print(\"Eval Epoch: \", num + 1, \"CHI2: \", np.mean(res))    \n",
    "\n",
    "def train_and_eval():\n",
    "    for epoch in range(3):\n",
    "        train_epoch(epoch, train_loader)\n",
    "        eval_epoch(epoch, valid_loader)\n",
    "        print(\"=\" * 10)\n",
    "\n",
    "\n",
    "train_and_eval()"
   ]
  },
  {
   "cell_type": "code",
   "execution_count": null,
   "metadata": {},
   "outputs": [],
   "source": [
    "dist_preds = predict(test_loader)"
   ]
  },
  {
   "cell_type": "code",
   "execution_count": null,
   "metadata": {},
   "outputs": [],
   "source": [
    "torch.save(model.cpu(), \"model_dists.pth\")"
   ]
  },
  {
   "cell_type": "code",
   "execution_count": null,
   "metadata": {},
   "outputs": [],
   "source": [
    "def get_submit(cnt_preds, dist_preds, indices):\n",
    "    submit = []\n",
    "    for idx, cnt, dist in zip(indices, cnt_preds, dist_preds):\n",
    "        cnt = int(cnt)\n",
    "        sizes = np.random.choice(sive_diam_pan, size=cnt, p=dist / np.sum(dist))\n",
    "        submit.extend([{\n",
    "            \"ImageId\": idx,\n",
    "            \"prop_size\": sizes[i]\n",
    "        } for i in range(cnt)])\n",
    "    return pd.DataFrame.from_records(submit)"
   ]
  },
  {
   "cell_type": "code",
   "execution_count": null,
   "metadata": {},
   "outputs": [],
   "source": [
    "predictions = get_submit(cnt_preds, dist_preds, test_loader.dataset.df.ImageId.values)"
   ]
  },
  {
   "cell_type": "code",
   "execution_count": null,
   "metadata": {},
   "outputs": [],
   "source": [
    "%%time\n",
    "contest_metric(test_df, predictions)"
   ]
  }
 ],
 "metadata": {
  "kernelspec": {
   "display_name": "Python 3",
   "language": "python",
   "name": "python3"
  },
  "language_info": {
   "codemirror_mode": {
    "name": "ipython",
    "version": 3
   },
   "file_extension": ".py",
   "mimetype": "text/x-python",
   "name": "python",
   "nbconvert_exporter": "python",
   "pygments_lexer": "ipython3",
   "version": "3.7.3"
  }
 },
 "nbformat": 4,
 "nbformat_minor": 4
}
