{
 "cells": [
  {
   "cell_type": "code",
   "execution_count": 10,
   "metadata": {},
   "outputs": [],
   "source": [
    "import pandas as pd\n",
    "import numpy as np\n",
    "import cv2\n",
    "from tqdm import tqdm_notebook as tqdm\n",
    "\n",
    "from sklearn.model_selection import train_test_split\n",
    "from RPCC_metric_utils_for_participants import contest_metric, sive_diam_pan, calc_chi_square_metric"
   ]
  },
  {
   "cell_type": "code",
   "execution_count": 11,
   "metadata": {},
   "outputs": [],
   "source": [
    "train = pd.read_csv(\"data/RPCC_labels.csv\")"
   ]
  },
  {
   "cell_type": "code",
   "execution_count": 12,
   "metadata": {},
   "outputs": [],
   "source": [
    "train_df, test_df = train_test_split(train, test_size=0.2, random_state=42)"
   ]
  },
  {
   "cell_type": "code",
   "execution_count": 13,
   "metadata": {},
   "outputs": [],
   "source": [
    "train_cnt = train_df[~train_df.prop_count.isnull()]\n",
    "train_dist = train_df[~train_df.pan.isnull()]\n",
    "\n",
    "valid_cnt = test_df[~test_df.prop_count.isnull()]\n",
    "valid_dist = test_df[~test_df.pan.isnull()]"
   ]
  },
  {
   "cell_type": "markdown",
   "metadata": {},
   "source": [
    "# Count props part"
   ]
  },
  {
   "cell_type": "code",
   "execution_count": 14,
   "metadata": {},
   "outputs": [],
   "source": [
    "import torch\n",
    "import torch.nn as nn\n",
    "from torch.optim import Adam\n",
    "\n",
    "import albumentations as A\n",
    "from torchvision.models import mobilenet_v2\n",
    "from torch.utils.data import DataLoader, Dataset"
   ]
  },
  {
   "cell_type": "code",
   "execution_count": 15,
   "metadata": {},
   "outputs": [],
   "source": [
    "import os\n",
    "\n",
    "\n",
    "class CntDataset(Dataset):\n",
    "    def __init__(self, path, df, transforms):\n",
    "        self.path = path\n",
    "        self.df = df\n",
    "        self.transforms = transforms\n",
    "        \n",
    "    def __getitem__(self, item):\n",
    "        path = os.path.join(self.path, f\"{self.df.ImageId.iloc[item]}.jpg\")\n",
    "        label = torch.Tensor([self.df.prop_count.iloc[item]])\n",
    "        img = cv2.cvtColor(cv2.imread(path), cv2.COLOR_BGR2RGB)\n",
    "        img = self.transforms(image=img)['image']\n",
    "        img = torch.from_numpy(img)\n",
    "        return img.permute(2, 0, 1), label\n",
    "    \n",
    "    def __len__(self):\n",
    "        return len(self.df)"
   ]
  },
  {
   "cell_type": "code",
   "execution_count": 16,
   "metadata": {},
   "outputs": [
    {
     "name": "stdout",
     "output_type": "stream",
     "text": [
      "688.0 3029.0\n"
     ]
    }
   ],
   "source": [
    "max_cnt = train_cnt.prop_count.max()\n",
    "min_cnt = train_cnt.prop_count.min()\n",
    "print(min_cnt, max_cnt)\n",
    "\n",
    "norm = lambda cnt: (cnt - min_cnt) / (max_cnt - min_cnt)\n",
    "inorm = lambda cnt: cnt * (max_cnt - min_cnt) + min_cnt\n",
    "\n",
    "assert inorm(norm(1500)) == 1500"
   ]
  },
  {
   "cell_type": "code",
   "execution_count": 17,
   "metadata": {
    "scrolled": true
   },
   "outputs": [],
   "source": [
    "train_cnt.prop_count = train_cnt.prop_count.apply(norm)\n",
    "valid_cnt.prop_count = valid_cnt.prop_count.apply(norm)"
   ]
  },
  {
   "cell_type": "code",
   "execution_count": 18,
   "metadata": {},
   "outputs": [],
   "source": [
    "model = mobilenet_v2(True)\n",
    "model.classifier[1] = nn.Linear(1280, 1, True)\n",
    "\n",
    "optimizer = Adam(model.parameters(), 1e-4)\n",
    "criterion = nn.MSELoss()"
   ]
  },
  {
   "cell_type": "code",
   "execution_count": 19,
   "metadata": {},
   "outputs": [],
   "source": [
    "train_ds = CntDataset(\n",
    "    \"data/train/\", \n",
    "    train_cnt, \n",
    "    A.Compose([\n",
    "        A.Normalize(),\n",
    "        A.HorizontalFlip(p=0.5),\n",
    "        A.VerticalFlip(p=0.5),\n",
    "        A.Resize(512, 512),\n",
    "    ]),\n",
    ")\n",
    "train_loader = DataLoader(train_ds, 16, shuffle=True)\n",
    "\n",
    "valid_ds = CntDataset(\n",
    "    \"data/train/\", \n",
    "    valid_cnt, \n",
    "    A.Compose([\n",
    "        A.Normalize(),\n",
    "        A.Resize(512, 512),\n",
    "    ]),\n",
    ")\n",
    "\n",
    "valid_loader = DataLoader(valid_ds, 16, shuffle=False)\n",
    "\n",
    "\n",
    "test_ds = CntDataset(\n",
    "    \"data/train/\", \n",
    "    test_df, \n",
    "    A.Compose([\n",
    "        A.Normalize(),\n",
    "        A.Resize(512, 512),\n",
    "    ]),\n",
    ")\n",
    "\n",
    "test_loader = DataLoader(test_ds, 16, shuffle=False)"
   ]
  },
  {
   "cell_type": "code",
   "execution_count": 20,
   "metadata": {},
   "outputs": [
    {
     "name": "stdout",
     "output_type": "stream",
     "text": [
      "Train Epoch:  1 Loss:  0.07735983282327652\n",
      "Eval Epoch:  1 MAPE:  0.27701051531476745\n",
      "==========\n",
      "Train Epoch:  2 Loss:  0.10064427647739649\n",
      "Eval Epoch:  2 MAPE:  0.5075636181574523\n",
      "==========\n",
      "Train Epoch:  3 Loss:  0.0652475981041789\n",
      "Eval Epoch:  3 MAPE:  0.41537436118319065\n",
      "==========\n",
      "Train Epoch:  4 Loss:  0.049172868486493826\n",
      "Eval Epoch:  4 MAPE:  0.20768126836990033\n",
      "==========\n",
      "Train Epoch:  5 Loss:  0.0627748304978013\n",
      "Eval Epoch:  5 MAPE:  0.1544142552471865\n",
      "==========\n"
     ]
    }
   ],
   "source": [
    "def train_epoch(num, loader):\n",
    "    model.train()\n",
    "    running_loss = 0.\n",
    "    for i, (batch, labels) in enumerate(loader):\n",
    "\n",
    "        optimizer.zero_grad()\n",
    "\n",
    "        outputs = model(batch)\n",
    "        loss = criterion(outputs, labels)\n",
    "        loss.backward()\n",
    "        optimizer.step()\n",
    "\n",
    "        running_loss += loss.item()\n",
    "\n",
    "    print(\"Train Epoch: \", num + 1, \"Loss: \", running_loss / (i+1))\n",
    "\n",
    "    \n",
    "def predict(loader):\n",
    "    model.eval()\n",
    "    outputs = []\n",
    "    with torch.no_grad():\n",
    "        for i, (batch, _) in enumerate(loader):\n",
    "            outputs.extend(model(batch).cpu().detach().numpy().squeeze().tolist())\n",
    "    return outputs\n",
    "    \n",
    "    \n",
    "def eval_epoch(num, loader):\n",
    "    outputs = predict(loader)\n",
    "    pred_cnts = np.array([inorm(x) for x in outputs])\n",
    "    gt_cnts = np.array([inorm(x) for x in loader.dataset.df.prop_count])\n",
    "    print(\"Eval Epoch: \", num + 1, \"MAPE: \", np.mean(np.abs(pred_cnts - gt_cnts) / gt_cnts))\n",
    "    \n",
    "\n",
    "def train_and_eval():\n",
    "    for epoch in range(5):\n",
    "        train_epoch(epoch, train_loader)\n",
    "        eval_epoch(epoch, valid_loader)\n",
    "        print(\"=\" * 10)\n",
    "\n",
    "\n",
    "train_and_eval()"
   ]
  },
  {
   "cell_type": "code",
   "execution_count": 21,
   "metadata": {},
   "outputs": [],
   "source": [
    "outputs = predict(test_loader)\n",
    "cnt_preds = [inorm(x) for x in outputs]"
   ]
  },
  {
   "cell_type": "code",
   "execution_count": 22,
   "metadata": {},
   "outputs": [],
   "source": [
    "torch.save(model.cpu(), \"model_cnts.pth\")"
   ]
  },
  {
   "cell_type": "markdown",
   "metadata": {},
   "source": [
    "# Count distr part"
   ]
  },
  {
   "cell_type": "code",
   "execution_count": 23,
   "metadata": {},
   "outputs": [],
   "source": [
    "import os\n",
    "\n",
    "\n",
    "class DistDataset(Dataset):\n",
    "    def __init__(self, path, df, transforms):\n",
    "        self.path = path\n",
    "        self.df = df\n",
    "        self.transforms = transforms\n",
    "        \n",
    "    def __getitem__(self, item):\n",
    "        path = os.path.join(self.path, f\"{self.df.ImageId.iloc[item]}.jpg\")\n",
    "        label = torch.from_numpy(self.df.iloc[item, 1:-2].values.astype(np.float32))\n",
    "        img = cv2.cvtColor(cv2.imread(path), cv2.COLOR_BGR2RGB)\n",
    "        img = self.transforms(image=img)['image']\n",
    "        img = torch.from_numpy(img)\n",
    "        return img.permute(2, 0, 1), label\n",
    "    \n",
    "    def __len__(self):\n",
    "        return len(self.df)"
   ]
  },
  {
   "cell_type": "code",
   "execution_count": 24,
   "metadata": {},
   "outputs": [],
   "source": [
    "model = mobilenet_v2(True)\n",
    "model.classifier[1] = nn.Linear(1280, 20, True)\n",
    "\n",
    "optimizer = Adam(model.parameters(), 1e-4)\n",
    "criterion = nn.MSELoss()"
   ]
  },
  {
   "cell_type": "code",
   "execution_count": 25,
   "metadata": {},
   "outputs": [],
   "source": [
    "train_ds = DistDataset(\n",
    "    \"data/train/\", \n",
    "    train_dist, \n",
    "    A.Compose([\n",
    "        A.Normalize(),\n",
    "        A.HorizontalFlip(p=0.5),\n",
    "        A.VerticalFlip(p=0.5),\n",
    "        A.Resize(512, 512),\n",
    "    ]),\n",
    ")\n",
    "train_loader = DataLoader(train_ds, 16, shuffle=True)\n",
    "\n",
    "valid_ds = DistDataset(\n",
    "    \"data/train/\", \n",
    "    valid_dist, \n",
    "    A.Compose([\n",
    "        A.Normalize(),\n",
    "        A.Resize(512, 512),\n",
    "    ]),\n",
    ")\n",
    "\n",
    "valid_loader = DataLoader(valid_ds, 16, shuffle=False)\n",
    "\n",
    "\n",
    "test_ds = DistDataset(\n",
    "    \"data/train/\", \n",
    "    test_df, \n",
    "    A.Compose([\n",
    "        A.Normalize(),\n",
    "        A.Resize(512, 512),\n",
    "    ]),\n",
    ")\n",
    "\n",
    "test_loader = DataLoader(test_ds, 16, shuffle=False)"
   ]
  },
  {
   "cell_type": "code",
   "execution_count": 26,
   "metadata": {
    "scrolled": true
   },
   "outputs": [
    {
     "name": "stderr",
     "output_type": "stream",
     "text": [
      "/Users/skrrydg/anaconda3/lib/python3.7/site-packages/ipykernel_launcher.py:4: TqdmDeprecationWarning: This function will be removed in tqdm==5.0.0\n",
      "Please use `tqdm.notebook.tqdm` instead of `tqdm.tqdm_notebook`\n",
      "  after removing the cwd from sys.path.\n"
     ]
    },
    {
     "data": {
      "application/vnd.jupyter.widget-view+json": {
       "model_id": "35706e53262a4637b9b7e024ee3725da",
       "version_major": 2,
       "version_minor": 0
      },
      "text/plain": [
       "HBox(children=(FloatProgress(value=0.0, max=38.0), HTML(value='')))"
      ]
     },
     "metadata": {},
     "output_type": "display_data"
    },
    {
     "name": "stdout",
     "output_type": "stream",
     "text": [
      "\n",
      "Train Epoch:  1 Loss:  0.008437333744950593\n",
      "Eval Epoch:  1 CHI2:  0.0742457891800781\n",
      "==========\n"
     ]
    },
    {
     "data": {
      "application/vnd.jupyter.widget-view+json": {
       "model_id": "a6ba0cc49ee842fca8450a8bfd9c791f",
       "version_major": 2,
       "version_minor": 0
      },
      "text/plain": [
       "HBox(children=(FloatProgress(value=0.0, max=38.0), HTML(value='')))"
      ]
     },
     "metadata": {},
     "output_type": "display_data"
    },
    {
     "name": "stdout",
     "output_type": "stream",
     "text": [
      "\n",
      "Train Epoch:  2 Loss:  0.0027239701104056287\n",
      "Eval Epoch:  2 CHI2:  0.053304923948917685\n",
      "==========\n"
     ]
    },
    {
     "data": {
      "application/vnd.jupyter.widget-view+json": {
       "model_id": "90dfb6573f97498f871747b34362329c",
       "version_major": 2,
       "version_minor": 0
      },
      "text/plain": [
       "HBox(children=(FloatProgress(value=0.0, max=38.0), HTML(value='')))"
      ]
     },
     "metadata": {},
     "output_type": "display_data"
    },
    {
     "name": "stdout",
     "output_type": "stream",
     "text": [
      "\n",
      "Train Epoch:  3 Loss:  0.0028299479377701096\n",
      "Eval Epoch:  3 CHI2:  0.05487749140697377\n",
      "==========\n"
     ]
    }
   ],
   "source": [
    "def train_epoch(num, loader):\n",
    "    model.train()\n",
    "    running_loss = 0.\n",
    "    for i, (batch, labels) in tqdm(enumerate(loader), total=len(loader)):\n",
    "\n",
    "        optimizer.zero_grad()\n",
    "\n",
    "        outputs = model(batch)\n",
    "        loss = criterion(outputs.softmax(dim=1), labels)\n",
    "        loss.backward()\n",
    "        optimizer.step()\n",
    "\n",
    "        running_loss += loss.item()\n",
    "\n",
    "    print(\"Train Epoch: \", num + 1, \"Loss: \", running_loss / (i+1))\n",
    "\n",
    "    \n",
    "def predict(loader):\n",
    "    model.eval()\n",
    "    outputs = []\n",
    "    with torch.no_grad():\n",
    "        for i, (batch, _) in enumerate(loader):\n",
    "            outputs.extend(model(batch).softmax(dim=1).cpu().detach().numpy().squeeze().tolist())\n",
    "    return outputs\n",
    "    \n",
    "    \n",
    "def eval_epoch(num, loader):\n",
    "    outputs = predict(loader)\n",
    "    gt_hists = loader.dataset.df.iloc[:, 1:-2].values\n",
    "    gt_fracts = loader.dataset.df[\"fraction\"].values\n",
    "    res = []\n",
    "    for i, (hist, fracts) in enumerate(zip(gt_hists, gt_fracts)):\n",
    "        res.append(calc_chi_square_metric(hist, outputs[i], fracts))\n",
    "\n",
    "    print(\"Eval Epoch: \", num + 1, \"CHI2: \", np.mean(res))    \n",
    "\n",
    "def train_and_eval():\n",
    "    for epoch in range(3):\n",
    "        train_epoch(epoch, train_loader)\n",
    "        eval_epoch(epoch, valid_loader)\n",
    "        print(\"=\" * 10)\n",
    "\n",
    "\n",
    "train_and_eval()"
   ]
  },
  {
   "cell_type": "code",
   "execution_count": 27,
   "metadata": {},
   "outputs": [],
   "source": [
    "dist_preds = predict(test_loader)"
   ]
  },
  {
   "cell_type": "code",
   "execution_count": 28,
   "metadata": {},
   "outputs": [],
   "source": [
    "torch.save(model.cpu(), \"model_dists.pth\")"
   ]
  },
  {
   "cell_type": "code",
   "execution_count": 29,
   "metadata": {},
   "outputs": [],
   "source": [
    "def get_submit(cnt_preds, dist_preds, indices):\n",
    "    submit = []\n",
    "    for idx, cnt, dist in zip(indices, cnt_preds, dist_preds):\n",
    "        cnt = int(cnt)\n",
    "        sizes = np.random.choice(sive_diam_pan, size=cnt, p=dist / np.sum(dist))\n",
    "        submit.extend([{\n",
    "            \"ImageId\": idx,\n",
    "            \"prop_size\": sizes[i]\n",
    "        } for i in range(cnt)])\n",
    "    return pd.DataFrame.from_records(submit)"
   ]
  },
  {
   "cell_type": "code",
   "execution_count": 30,
   "metadata": {},
   "outputs": [],
   "source": [
    "predictions = get_submit(cnt_preds, dist_preds, test_loader.dataset.df.ImageId.values)"
   ]
  },
  {
   "cell_type": "code",
   "execution_count": 31,
   "metadata": {},
   "outputs": [
    {
     "name": "stdout",
     "output_type": "stream",
     "text": [
      "CPU times: user 566 ms, sys: 110 ms, total: 676 ms\n",
      "Wall time: 1.1 s\n"
     ]
    },
    {
     "data": {
      "text/plain": [
       "(0.09491730378348165, 0.055173324822731774, 0.15453327222460644)"
      ]
     },
     "execution_count": 31,
     "metadata": {},
     "output_type": "execute_result"
    }
   ],
   "source": [
    "%%time\n",
    "contest_metric(test_df, predictions)"
   ]
  },
  {
   "cell_type": "code",
   "execution_count": null,
   "metadata": {},
   "outputs": [],
   "source": []
  },
  {
   "cell_type": "code",
   "execution_count": null,
   "metadata": {},
   "outputs": [],
   "source": []
  }
 ],
 "metadata": {
  "kernelspec": {
   "display_name": "Python 3",
   "language": "python",
   "name": "python3"
  },
  "language_info": {
   "codemirror_mode": {
    "name": "ipython",
    "version": 3
   },
   "file_extension": ".py",
   "mimetype": "text/x-python",
   "name": "python",
   "nbconvert_exporter": "python",
   "pygments_lexer": "ipython3",
   "version": "3.7.3"
  }
 },
 "nbformat": 4,
 "nbformat_minor": 4
}
