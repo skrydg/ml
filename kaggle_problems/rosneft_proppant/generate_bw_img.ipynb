{
 "cells": [
  {
   "cell_type": "code",
   "execution_count": 1,
   "metadata": {},
   "outputs": [],
   "source": [
    "import os\n",
    "import sys\n",
    "while not os.getcwd().endswith('ml'):\n",
    "    os.chdir('..')\n",
    "sys.path.insert(0, os.getcwd())"
   ]
  },
  {
   "cell_type": "code",
   "execution_count": 2,
   "metadata": {},
   "outputs": [],
   "source": [
    "from kaggle_problems.rosneft_proppant.workspace.common import TARGET_SHAPE, SUB_IMG_CNT\n",
    "from kaggle_problems.rosneft_proppant.workspace.helpers import get_random_color\n",
    "from kaggle_problems.rosneft_proppant.workspace.common import r2prop_size, bins2mm, bin2low, bin2high, get_sub\n",
    "from kaggle_problems.rosneft_proppant.RPCC_metric_utils_for_participants import get_bins_from_granules, sizes_to_sieve_hist, sizes_to_sieves\n",
    "from pathlib import Path\n",
    "import random\n",
    "import numpy as np\n",
    "from matplotlib import pyplot as plt\n",
    "import cv2\n",
    "import collections\n",
    "import pandas as pd\n",
    "import math"
   ]
  },
  {
   "cell_type": "code",
   "execution_count": 3,
   "metadata": {},
   "outputs": [],
   "source": [
    "GENERATED_DIR = \"kaggle_problems/rosneft_proppant/data/generated/\"\n",
    "GENERATED_IMG_DIR = GENERATED_DIR + \"bw_img\"\n",
    "GENERATED_LABELS_DIR = GENERATED_DIR + \"labels\"\n",
    "Path(GENERATED_IMG_DIR).mkdir(exist_ok=True, parents=True)\n",
    "Path(GENERATED_LABELS_DIR).mkdir(exist_ok=True, parents=True)"
   ]
  },
  {
   "cell_type": "code",
   "execution_count": 4,
   "metadata": {
    "scrolled": true
   },
   "outputs": [],
   "source": [
    "class CircleGetter:\n",
    "    CIRCLE_DIR = \"kaggle_problems/rosneft_proppant/data/bw_circles\"\n",
    "    def __init__(self):\n",
    "        random.seed()\n",
    "        self.r2circle = collections.defaultdict(list)\n",
    "        all_img = [img for img in os.listdir(self.CIRCLE_DIR) if img.endswith('.jpg')]\n",
    "        all_img = [cv2.imread(\"{}/{}\".format(self.CIRCLE_DIR, img_name)) for img_name in all_img]\n",
    "        for img in all_img:\n",
    "            assert(img.shape[0] == img.shape[1])\n",
    "            r = (img.shape[0] - 1) // 2\n",
    "            self.r2circle[r].append(img)\n",
    "        \n",
    "#         for key in sorted(self.r2circle.keys()):\n",
    "#             print(key, len(self.r2circle[key]))\n",
    "\n",
    "    def get_circle(self, r):\n",
    "        cnt = len(self.r2circle[r])\n",
    "        assert(cnt > 0)\n",
    "        i = random.randint(0, cnt - 1)\n",
    "        return self.r2circle[r][i]\n",
    "    \n",
    "    def get_r(self, r_mi, r_ma): # [r_mi, r_ma)\n",
    "        r_ma += 1\n",
    "        r_mi = math.floor(r_mi)\n",
    "        r_ma = math.ceil(r_ma)\n",
    "        total = np.sum([len(self.r2circle[r]) for r in range(r_mi, r_ma)])\n",
    "        res = np.random.choice([r for r in range(r_mi, r_ma)], 1,\n",
    "              p=[len(self.r2circle[r]) / total for r in range(r_mi, r_ma)])[0]\n",
    "        return res\n",
    "    \n",
    "circleGetter = CircleGetter()"
   ]
  },
  {
   "cell_type": "code",
   "execution_count": 5,
   "metadata": {},
   "outputs": [],
   "source": [
    "def in_range(l, s, r):\n",
    "    return l <= s and s < r\n",
    "\n",
    "class GrayCircleContour:\n",
    "    def __init__(self):\n",
    "        self.msk = []\n",
    "        for r in np.arange(0, 100):\n",
    "            img = np.zeros(shape=(2 * r + 1, 2 * r + 1), dtype=np.uint8)\n",
    "            cv2.circle(img, (r, r), r, 1, -1)\n",
    "\n",
    "            self.msk.append(img)\n",
    "\n",
    "\n",
    "    def get_msk(self, r):\n",
    "        assert(r >= 1 and r < 100)\n",
    "\n",
    "        return self.msk[r]\n",
    "\n",
    "circleContour = GrayCircleContour()\n",
    "\n",
    "def get_masked_img(img, x, y, r):\n",
    "    x_min = x - r\n",
    "    x_max = x + r + 1\n",
    "    y_min = y - r\n",
    "    y_max = y + r + 1\n",
    "    if (not in_range(0, x_min, img.shape[0])) or \\\n",
    "            (not in_range(0, x_max, img.shape[0])) or \\\n",
    "            (not in_range(0, y_min, img.shape[1])) or \\\n",
    "            (not in_range(0, y_max, img.shape[1])):\n",
    "        return None\n",
    "\n",
    "    msk = circleContour.get_msk(r)\n",
    "    sub_img = img[x_min:x_max, y_min:y_max]\n",
    "\n",
    "    sub_img = (sub_img * msk).astype(dtype=int)\n",
    "    return sub_img"
   ]
  },
  {
   "cell_type": "code",
   "execution_count": 6,
   "metadata": {},
   "outputs": [],
   "source": [
    "def get_empty_img():\n",
    "    img = np.empty(shape=(TARGET_SHAPE[0], TARGET_SHAPE[1], 3), dtype=int)\n",
    "    img[:, :, :] = 0\n",
    "    return img\n",
    "\n",
    "\n",
    "def draw_background(img, msk):\n",
    "    x_background, y_background = np.where(msk == 0)\n",
    "    grays = np.random.uniform(low=[170, 170, 170], high=[200, 200, 200], size=(len(x_background), 3))\n",
    "    img[x_background, y_background] = grays\n",
    "    return img"
   ]
  },
  {
   "cell_type": "code",
   "execution_count": 7,
   "metadata": {},
   "outputs": [],
   "source": [
    "bin2mean = {'16': 0.012460, '18': 0.386361, '20': 0.425973, '25': 0.109537, '30': 0.051580, '35': 0.011694, '40': 0.002433}\n",
    "bin2std = {'16': 0.008493, '18': 0.211471, '20': 0.212169, '25': 0.182625, '30': 0.115136, '35': 0.032932, '40': 0.009722}\n",
    "\n",
    "bin2normal = {key: (lambda key: float(np.random.normal(bin2mean[key], 3 * bin2std[key], 1)[0])) for key in bin2mean.keys()}\n"
   ]
  },
  {
   "cell_type": "code",
   "execution_count": 8,
   "metadata": {},
   "outputs": [
    {
     "name": "stdout",
     "output_type": "stream",
     "text": [
      "{'6': 53, '7': 45, '8': 38, '10': 32, '12': 27, '14': 23, '16': 19, '18': 16, '20': 14, '25': 12, '30': 10, '35': 8, '40': 7, '45': 6, '50': 5, '60': 4, '70': None, '80': 3, '100': 1} {'6': 62, '7': 52, '8': 44, '10': 37, '12': 31, '14': 26, '16': 22, '18': 18, '20': 15, '25': 13, '30': 11, '35': 9, '40': 7, '45': 6, '50': 5, '60': 4, '70': None, '80': 3, '100': 2}\n"
     ]
    }
   ],
   "source": [
    "print(bin2low, bin2high)"
   ]
  },
  {
   "cell_type": "code",
   "execution_count": 9,
   "metadata": {},
   "outputs": [],
   "source": [
    "def generate_img():\n",
    "    PERSENT_FREE = random.randint(30, 90) / 100\n",
    "    n = random.randint(2, 4)\n",
    "    xy_min = [TARGET_SHAPE[0] * 0.2, TARGET_SHAPE[1] * 0.2]\n",
    "    xy_max = [TARGET_SHAPE[0] * 0.8, TARGET_SHAPE[1] * 0.8]\n",
    "    means = np.random.uniform(low=xy_min, high=xy_max, size=(n,2))\n",
    "    \n",
    "    all_circles = []\n",
    "    img = get_empty_img()\n",
    "    for (x, y) in means:\n",
    "        CNT_CIRCLES = max(int(np.random.normal(1840, 722, 1)[0]), 1)\n",
    "        color = get_random_color()\n",
    "        centers = np.random.multivariate_normal([x, y], [[TARGET_SHAPE[0] ** 2 / 100, 0], [0, TARGET_SHAPE[1] ** 2 / 100]], size=CNT_CIRCLES)\n",
    "\n",
    "        radius = []\n",
    "        for b, pers in bin2normal.items():\n",
    "            cnt_circle = max(0, int(round(CNT_CIRCLES * pers(b))))\n",
    "            radius.extend([(bin2low[b], bin2high[b])] * cnt_circle)\n",
    "            \n",
    "        for center, r in zip(centers, radius):\n",
    "            all_circles.append((int(center[0]), int(center[1]), r))\n",
    "    random.shuffle(all_circles)\n",
    "\n",
    "    msk = np.zeros(shape=img.shape[0:2], dtype=np.uint8)\n",
    "    img = get_empty_img()\n",
    "    filtered_circles = []\n",
    "    \n",
    "    for circle in all_circles:\n",
    "        x, y, (r_mi, r_ma) = circle\n",
    "        \n",
    "        r = circleGetter.get_r(r_mi, r_ma)\n",
    "        \n",
    "        sub_img = get_masked_img(msk, x, y, r)\n",
    "        \n",
    "        circle_msk = circleContour.get_msk(r)\n",
    "\n",
    "        if sub_img is None:\n",
    "            continue\n",
    "\n",
    "        cnt_free = np.sum(np.logical_and(sub_img == 0, circle_msk == 1))\n",
    "        s = np.sum(circle_msk == 1)\n",
    "\n",
    "        if (cnt_free / s < PERSENT_FREE):\n",
    "            continue\n",
    "\n",
    "        circle = circleGetter.get_circle(r)\n",
    "        circle *= circle_msk[:, :, np.newaxis]\n",
    "        \n",
    "        msk[x - r: x + r + 1, y - r: y + r + 1] += circle_msk\n",
    "        img[x - r: x + r + 1, y - r: y + r + 1] *= (1 - circle_msk[:, :, np.newaxis])\n",
    "        img[x - r: x + r + 1, y - r: y + r + 1] += circle\n",
    "\n",
    "        filtered_circles.append((x // 4, y // 4, r))\n",
    "\n",
    "    img = draw_background(img, msk).astype(np.uint8)\n",
    "    \n",
    "    img = cv2.resize(img, (TARGET_SHAPE[1] // 4, TARGET_SHAPE[0] // 4))\n",
    "    return img, filtered_circles\n"
   ]
  },
  {
   "cell_type": "code",
   "execution_count": 10,
   "metadata": {},
   "outputs": [],
   "source": [
    "result_bins = []\n",
    "generated_train = None\n",
    "\n",
    "def append_img(img, circles, image_id, sub_image_id):\n",
    "    prop_sizes = [r2prop_size(r) for (_, _, r) in circles]\n",
    "    \n",
    "    bins_names = [i for i in bin2low.keys()]\n",
    "    bins_mm = [bins2mm[key] for key in bins_names]\n",
    "    bins_names += [0]\n",
    "    bins_mm += [0]\n",
    "        \n",
    "    if len(circles) != 0:\n",
    "        cur_bins = sizes_to_sieve_hist(pd.DataFrame({\"prop_size\": prop_sizes}), bins_mm, bins_names)\n",
    "    else:\n",
    "        cur_bins = {str(name): 0 for name in bins_names}\n",
    "        cur_bins['pan'] = 0\n",
    "        \n",
    "    cur_bins['ImageId'] = sub_image_id\n",
    "    cur_bins['RealImageId'] = image_id\n",
    "    cur_bins['prop_count'] = len(prop_sizes)\n",
    "    \n",
    "    result_bins.append(cur_bins)\n",
    "    cv2.imwrite(\"{}/{}.jpg\".format(GENERATED_IMG_DIR, sub_image_id), img)\n",
    "    \n",
    "\n",
    "    return generated_train"
   ]
  },
  {
   "cell_type": "code",
   "execution_count": 11,
   "metadata": {
    "scrolled": true
   },
   "outputs": [
    {
     "name": "stdout",
     "output_type": "stream",
     "text": [
      "CPU times: user 2min 40s, sys: 27.8 s, total: 3min 8s\n",
      "Wall time: 3min 9s\n"
     ]
    }
   ],
   "source": [
    "%%time\n",
    "for i in range(100):\n",
    "    img, circles = generate_img()\n",
    "    \n",
    "    for l in range(SUB_IMG_CNT):\n",
    "        for k in range(SUB_IMG_CNT):\n",
    "            sub_img, sub_circle = get_sub(img, circles, l, k)\n",
    "            generated_train = append_img(sub_img, sub_circle, i + 1, i * SUB_IMG_CNT * SUB_IMG_CNT + l * SUB_IMG_CNT + k)\n",
    "generated_train = pd.DataFrame(data=result_bins)\n",
    "generated_train.to_csv(GENERATED_LABELS_DIR + \"/generated_bw_train.csv\")      "
   ]
  },
  {
   "cell_type": "code",
   "execution_count": 12,
   "metadata": {},
   "outputs": [],
   "source": [
    "generated_train"
   ]
  },
  {
   "cell_type": "code",
   "execution_count": 13,
   "metadata": {},
   "outputs": [
    {
     "ename": "AttributeError",
     "evalue": "'NoneType' object has no attribute 'describe'",
     "output_type": "error",
     "traceback": [
      "\u001b[0;31m---------------------------------------------------------------------------\u001b[0m",
      "\u001b[0;31mAttributeError\u001b[0m                            Traceback (most recent call last)",
      "\u001b[0;32m<ipython-input-13-711c7220c3cf>\u001b[0m in \u001b[0;36m<module>\u001b[0;34m\u001b[0m\n\u001b[0;32m----> 1\u001b[0;31m \u001b[0mgenerated_train\u001b[0m\u001b[0;34m.\u001b[0m\u001b[0mdescribe\u001b[0m\u001b[0;34m(\u001b[0m\u001b[0;34m)\u001b[0m\u001b[0;34m\u001b[0m\u001b[0;34m\u001b[0m\u001b[0m\n\u001b[0m",
      "\u001b[0;31mAttributeError\u001b[0m: 'NoneType' object has no attribute 'describe'"
     ]
    }
   ],
   "source": [
    "generated_train.describe()"
   ]
  },
  {
   "cell_type": "code",
   "execution_count": null,
   "metadata": {},
   "outputs": [],
   "source": [
    "!jupyter nbconvert --to script kaggle_problems/rosneft_proppant/generate_bw_img.ipynb"
   ]
  },
  {
   "cell_type": "code",
   "execution_count": null,
   "metadata": {},
   "outputs": [],
   "source": []
  }
 ],
 "metadata": {
  "kernelspec": {
   "display_name": "Python 3",
   "language": "python",
   "name": "python3"
  },
  "language_info": {
   "codemirror_mode": {
    "name": "ipython",
    "version": 3
   },
   "file_extension": ".py",
   "mimetype": "text/x-python",
   "name": "python",
   "nbconvert_exporter": "python",
   "pygments_lexer": "ipython3",
   "version": "3.7.3"
  }
 },
 "nbformat": 4,
 "nbformat_minor": 2
}
