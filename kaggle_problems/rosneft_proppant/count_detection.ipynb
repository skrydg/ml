{
 "cells": [
  {
   "cell_type": "code",
   "execution_count": 1,
   "metadata": {},
   "outputs": [],
   "source": [
    "import os\n",
    "import sys\n",
    "while not os.getcwd().endswith('ml'):\n",
    "    os.chdir('..')\n",
    "sys.path.insert(0, os.getcwd())"
   ]
  },
  {
   "cell_type": "code",
   "execution_count": 2,
   "metadata": {},
   "outputs": [],
   "source": [
    "import math\n",
    "import copy\n",
    "import cv2\n",
    "import pandas as pd\n",
    "import numpy as np\n",
    "import random\n",
    "from shutil import copyfile\n",
    "from pathlib import Path\n",
    "from matplotlib import pyplot as plt\n",
    "\n",
    "import tensorflow as tf\n",
    "from tensorflow.keras import Model\n",
    "from tensorflow.keras.preprocessing.image import ImageDataGenerator\n",
    "\n",
    "from ml_helpers.image_helpers import display_images\n",
    "from ml_helpers.common_helpers import display_history_metrics\n",
    "\n",
    "from sklearn.model_selection import train_test_split\n",
    "import pickle\n",
    "\n",
    "from kaggle_problems.rosneft_proppant.workspace.common import bins\n",
    "\n",
    "from kaggle_problems.rosneft_proppant.workspace.common import TARGET_SHAPE\n",
    "from kaggle_problems.rosneft_proppant.workspace.common import prop_size2r, bin2low, bin2high"
   ]
  },
  {
   "cell_type": "code",
   "execution_count": null,
   "metadata": {},
   "outputs": [],
   "source": []
  },
  {
   "cell_type": "code",
   "execution_count": 3,
   "metadata": {},
   "outputs": [],
   "source": [
    "COLORED_IMG_DIR = \"kaggle_problems/rosneft_proppant/data/colored_main_area\"\n",
    "BW_IMG_DIR = \"kaggle_problems/rosneft_proppant/data/bw_main_area\"\n",
    "\n",
    "sieves_names = [6,7,8,10,12,14,16,18,20,25,30,35,40,45,50,60,70,80,100]\n",
    "sieves_names = [str(i) for i in sieves_names]\n",
    "\n",
    "sive_diam = [3.35,2.8, 2.36, 2, 1.7, 1.4, 1.18, 1, 0.85, 0.71, 0.6, 0.5, 0.425, 0.355, 0.3, 0.25, 0.212, 0.18, 0.15]\n",
    "sive_diam = np.array(sive_diam)\n"
   ]
  },
  {
   "cell_type": "code",
   "execution_count": 4,
   "metadata": {},
   "outputs": [],
   "source": [
    "colored_img = [img[:-len(\".jpg\")] for img in os.listdir(COLORED_IMG_DIR) if img.endswith('.jpg')]\n",
    "bw_img = [img[:-len(\".jpg\")] for img in os.listdir(BW_IMG_DIR) if img.endswith('.jpg')]"
   ]
  },
  {
   "cell_type": "code",
   "execution_count": 5,
   "metadata": {},
   "outputs": [],
   "source": [
    "train = pd.read_csv(\"kaggle_problems/rosneft_proppant/workspace/data/labels/train.csv\")"
   ]
  },
  {
   "cell_type": "code",
   "execution_count": 6,
   "metadata": {},
   "outputs": [],
   "source": [
    "bw_train = train[train.ImageId.isin(bw_img)]\n",
    "bw_train = bw_train[~bw_train.prop_count.isna()]\n",
    "bw_train = bw_train[~bw_train['18'].isna()]"
   ]
  },
  {
   "cell_type": "code",
   "execution_count": 7,
   "metadata": {},
   "outputs": [],
   "source": [
    "def get_bw_prop_count(img, bins):\n",
    "    gray = cv2.cvtColor(img, cv2.COLOR_RGB2GRAY)\n",
    "    _, threshed = cv2.threshold(gray, 0, 255, cv2.THRESH_BINARY_INV | cv2.THRESH_OTSU)\n",
    "\n",
    "    #splt.imshow(threshed, cmap='gray')\n",
    "    s = np.sum(threshed == 255)\n",
    "    pred_s = 0\n",
    "    \n",
    "    for b, diam in zip(sieves_names, sive_diam):\n",
    "        persent = float(bins[b])\n",
    "        if persent > 1e-5:\n",
    "            r = (bin2low[b] + bin2high[b]) / 2\n",
    "            #print(persent, r)\n",
    "            pred_s += (r ** 2) * math.pi * persent\n",
    "    \n",
    "    return s / pred_s"
   ]
  },
  {
   "cell_type": "code",
   "execution_count": 9,
   "metadata": {},
   "outputs": [
    {
     "name": "stdout",
     "output_type": "stream",
     "text": [
      "41\n",
      "(4305, 2595, 3)\n",
      "42\n",
      "(4305, 2595, 3)\n",
      "47\n",
      "(4305, 2595, 3)\n",
      "73\n",
      "(4305, 2595, 3)\n",
      "100\n",
      "(4305, 2595, 3)\n",
      "min: 100\n",
      "112\n",
      "(4305, 2595, 3)\n",
      "151\n",
      "(4305, 2595, 3)\n",
      "152\n",
      "(4305, 2595, 3)\n",
      "179\n",
      "(4305, 2595, 3)\n",
      "191\n",
      "(4305, 2595, 3)\n",
      "214\n",
      "(4305, 2595, 3)\n",
      "215\n",
      "(4305, 2595, 3)\n",
      "227\n",
      "(4305, 2595, 3)\n",
      "237\n",
      "(4305, 2595, 3)\n",
      "308\n",
      "(4305, 2595, 3)\n",
      "348\n",
      "(4305, 2595, 3)\n",
      "max: 348\n",
      "416\n",
      "(4305, 2595, 3)\n",
      "424\n",
      "(4305, 2595, 3)\n",
      "440\n",
      "(4305, 2595, 3)\n",
      "492\n",
      "(4305, 2595, 3)\n",
      "496\n",
      "(4305, 2595, 3)\n",
      "524\n",
      "(4305, 2595, 3)\n",
      "max: 524\n",
      "553\n",
      "(4305, 2595, 3)\n",
      "592\n",
      "(4305, 2595, 3)\n",
      "616\n",
      "(4305, 2595, 3)\n",
      "655\n",
      "(4305, 2595, 3)\n",
      "714\n",
      "(4305, 2595, 3)\n"
     ]
    }
   ],
   "source": [
    "diff = []\n",
    "for img_number in bw_train.ImageId:\n",
    "    print(img_number)\n",
    "    img = cv2.imread(\"{}/{}.jpg\".format(BW_IMG_DIR, img_number))\n",
    "    bins = bw_train[bw_train['ImageId'].isin([img_number])]\n",
    "    \n",
    "    real_prop_count = float(bins['prop_count'])\n",
    "    bins = bins[sieves_names]\n",
    "    \n",
    "    pred_prop_count = get_bw_prop_count(img, bins)\n",
    "    diff.append(real_prop_count - pred_prop_count)\n",
    "    if (real_prop_count - pred_prop_count < -1000):\n",
    "        print(\"min:\", img_number)\n",
    "        \n",
    "    if (real_prop_count - pred_prop_count > 400):\n",
    "        print(\"max:\", img_number)"
   ]
  },
  {
   "cell_type": "code",
   "execution_count": 143,
   "metadata": {},
   "outputs": [
    {
     "data": {
      "image/png": "[encoded data removed]",
      "text/plain": [
       "<Figure size 432x288 with 1 Axes>"
      ]
     },
     "metadata": {
      "needs_background": "light"
     },
     "output_type": "display_data"
    }
   ],
   "source": [
    "plt.hist(diff, bins=100)\n",
    "plt.show()"
   ]
  },
  {
   "cell_type": "code",
   "execution_count": 139,
   "metadata": {},
   "outputs": [
    {
     "data": {
      "text/plain": [
       "0.10934066535604547"
      ]
     },
     "execution_count": 139,
     "metadata": {},
     "output_type": "execute_result"
    }
   ],
   "source": [
    "np.mean(diff)"
   ]
  },
  {
   "cell_type": "code",
   "execution_count": null,
   "metadata": {},
   "outputs": [],
   "source": []
  }
 ],
 "metadata": {
  "kernelspec": {
   "display_name": "Python 3",
   "language": "python",
   "name": "python3"
  },
  "language_info": {
   "codemirror_mode": {
    "name": "ipython",
    "version": 3
   },
   "file_extension": ".py",
   "mimetype": "text/x-python",
   "name": "python",
   "nbconvert_exporter": "python",
   "pygments_lexer": "ipython3",
   "version": "3.7.3"
  }
 },
 "nbformat": 4,
 "nbformat_minor": 2
}
