{
 "cells": [
  {
   "cell_type": "code",
   "execution_count": 1,
   "metadata": {},
   "outputs": [],
   "source": [
    "import os\n",
    "import sys\n",
    "while not os.getcwd().endswith('ml'):\n",
    "    os.chdir('..')\n",
    "sys.path.insert(0, os.getcwd())"
   ]
  },
  {
   "cell_type": "code",
   "execution_count": 29,
   "metadata": {},
   "outputs": [],
   "source": [
    "import math\n",
    "import copy\n",
    "import cv2\n",
    "import numpy as np\n",
    "import random\n",
    "from shutil import copyfile\n",
    "from pathlib import Path\n",
    "from matplotlib import pyplot as plt\n",
    "from kaggle_problems.rosneft_proppant.helpers import *"
   ]
  },
  {
   "cell_type": "code",
   "execution_count": 25,
   "metadata": {},
   "outputs": [],
   "source": [
    "DATA_DIR = \"kaggle_problems/rosneft_proppant/data\"\n",
    "ORIGINAL_IMG_DIR = \"kaggle_problems/rosneft_proppant/data/train\"\n",
    "DEBUG_IMG_DIR = \"kaggle_problems/rosneft_proppant/data/debug\""
   ]
  },
  {
   "cell_type": "code",
   "execution_count": 179,
   "metadata": {},
   "outputs": [],
   "source": []
  },
  {
   "cell_type": "code",
   "execution_count": 396,
   "metadata": {},
   "outputs": [],
   "source": [
    "# def almost_equal(a, b, e):\n",
    "#     return abs(a - b) < e\n",
    "\n",
    "# def get_circle_diff(contour):\n",
    "#     s = cv2.contourArea(contour) # pi * R ^ 2\n",
    "#     p = cv2.arcLength(contour, True) # 2 * pi * R\n",
    "    \n",
    "#     s /= math.pi\n",
    "#     p /= math.pi * 2\n",
    "#     if (s + p * p < 1e-5):\n",
    "#         return 1. # MAX\n",
    "    \n",
    "#     return abs(s - p * p) / (s + p * p)\n",
    "\n",
    "# def is_circle(contour):\n",
    "#     s = cv2.contourArea(contour)\n",
    "#     if (s > 20):\n",
    "#         return get_circle_diff(contour) < 0.1\n",
    "#     else:\n",
    "#         return False\n",
    "\n",
    "\n",
    "# def get_almost_convex(contour):\n",
    "#     convex = cv2.convexHull(contour)\n",
    "#     origin_area = cv2.contourArea(contour)\n",
    "#     conveex_area = cv2.contourArea(convex)\n",
    "#     return origin_area / max(1, conveex_area)\n",
    "\n",
    "# def is_almost_convex(contour):\n",
    "#     return get_almost_convex(contour) >= 0.9\n",
    "    "
   ]
  },
  {
   "cell_type": "code",
   "execution_count": 412,
   "metadata": {},
   "outputs": [],
   "source": [
    "# def get_contour_color(img, contour):\n",
    "#     if (len(contour) == 0):\n",
    "#         return None\n",
    "#     return img[contour[0][0][1], contour[0][0][0]]\n",
    "\n",
    "# def get_contour_center(contour):\n",
    "#     if (len(contour) == 0):\n",
    "#         return None\n",
    "#     x, y = 0, 0\n",
    "#     for sell in contour:\n",
    "#         x += sell[0][1]\n",
    "#         y += sell[0][0]\n",
    "#     return (y / len(contour), x / len(contour))\n"
   ]
  },
  {
   "cell_type": "code",
   "execution_count": null,
   "metadata": {},
   "outputs": [],
   "source": []
  },
  {
   "cell_type": "code",
   "execution_count": 12,
   "metadata": {},
   "outputs": [],
   "source": [
    "def process_bw_img(original_img, img_number):\n",
    "    result_circles = []\n",
    "    os.mkdir(\"{}/{}\".format(DEBUG_IMG_DIR, img_number)) # create debug dir\n",
    "    \n",
    "    img_with_circle = copy.deepcopy(img)\n",
    "    img = copy.deepcopy(original_img)\n",
    "\n",
    "    gaussian_3 = cv2.GaussianBlur(img, (0, 0), 2.0)\n",
    "    img = cv2.addWeighted(img, 1.5, gaussian_3, -0.5, 0, img)\n",
    "    cv2.imwrite(\"{}/img.jpg\".format(DEBUG_IMG_DIR), gray)\n",
    "\n",
    "    gray = cv2.cvtColor(img, cv2.COLOR_RGB2GRAY)\n",
    "\n",
    "    th, threshed = cv2.threshold(gray, 50, 255, cv2.THRESH_BINARY_INV | cv2.THRESH_OTSU)\n",
    "\n",
    "    it = 0\n",
    "    for r in range(15, 2, -1):\n",
    "        print('-' * 30)\n",
    "        # Выделение кругов\n",
    "        circles = cv2.HoughCircles(threshed,cv2.HOUGH_GRADIENT,0.5,minDist=r,\n",
    "                                param1=200,param2=1,minRadius=r,maxRadius=r)\n",
    "        circles = circles[0]\n",
    "        print(\"Circle count: {}. r: {}\".format(len(circles), r))\n",
    "        filtered_circle = [(int(circle[0]), int(circle[1]), int(circle[2])) for circle in circles]\n",
    "\n",
    "        filtered_circle = [circle for circle in filtered_circle \\\n",
    "        if is_convex_in_circle(threshed, circle[0], circle[1], circle[2])]\n",
    "\n",
    "        print(\"After first filter: {}. r: {}\".format(len(filtered_circle), r))\n",
    "\n",
    "        filtered_circle = [circle for circle in filtered_circle \\\n",
    "            if is_border_white_circle(threshed, circle[0], circle[1], circle[2])]\n",
    "\n",
    "        print(\"After second filter: {}. r: {}\".format(len(filtered_circle), r))\n",
    "\n",
    "        for circle in filtered_circle:\n",
    "            cv2.circle(threshed,(circle[0],circle[1]),circle[2], 0, -1) # fill with 0 because of THRESH_BINARY_INV\n",
    "            cv2.circle(original_img,(circle[0],circle[1]),circle[2],(255, 255, 255),-1)\n",
    "            cv2.circle(img_with_circle,(circle[0],circle[1]),circle[2], get_random_color(),1)\n",
    "\n",
    "        cv2.imwrite(\"{}/{}/original_img_{}.jpg\".format(DEBUG_IMG_DIR, img_number, it), original_img)\n",
    "        cv2.imwrite(\"{}/{}/img_with_circle_{}.jpg\".format(DEBUG_IMG_DIR, img_number, it), img_with_circle)\n",
    "        cv2.imwrite(\"{}/{}/threshed_{}.jpg\".format(DEBUG_IMG_DIR, img_number, it), threshed)\n",
    "        it += 1\n",
    "        result_circles.extend(filtered_circle)\n",
    "        \n",
    "    return result_circles"
   ]
  },
  {
   "cell_type": "code",
   "execution_count": null,
   "metadata": {},
   "outputs": [],
   "source": []
  },
  {
   "cell_type": "code",
   "execution_count": 30,
   "metadata": {},
   "outputs": [
    {
     "ename": "TypeError",
     "evalue": "'NoneType' object is not subscriptable",
     "output_type": "error",
     "traceback": [
      "\u001b[0;31m---------------------------------------------------------------------------\u001b[0m",
      "\u001b[0;31mTypeError\u001b[0m                                 Traceback (most recent call last)",
      "\u001b[0;32m<ipython-input-30-3bf8084679c6>\u001b[0m in \u001b[0;36m<module>\u001b[0;34m\u001b[0m\n\u001b[1;32m      7\u001b[0m     \u001b[0mPath\u001b[0m\u001b[0;34m(\u001b[0m\u001b[0;34m\"{}/processing/color_images\"\u001b[0m\u001b[0;34m.\u001b[0m\u001b[0mformat\u001b[0m\u001b[0;34m(\u001b[0m\u001b[0mDATA_DIR\u001b[0m\u001b[0;34m)\u001b[0m\u001b[0;34m)\u001b[0m\u001b[0;34m.\u001b[0m\u001b[0mmkdir\u001b[0m\u001b[0;34m(\u001b[0m\u001b[0mexist_ok\u001b[0m\u001b[0;34m=\u001b[0m\u001b[0;32mTrue\u001b[0m\u001b[0;34m,\u001b[0m \u001b[0mparents\u001b[0m\u001b[0;34m=\u001b[0m\u001b[0;32mTrue\u001b[0m\u001b[0;34m)\u001b[0m\u001b[0;34m\u001b[0m\u001b[0;34m\u001b[0m\u001b[0m\n\u001b[1;32m      8\u001b[0m \u001b[0;34m\u001b[0m\u001b[0m\n\u001b[0;32m----> 9\u001b[0;31m     \u001b[0;32mif\u001b[0m \u001b[0mis_grey_img\u001b[0m\u001b[0;34m(\u001b[0m\u001b[0moriginal_img\u001b[0m\u001b[0;34m)\u001b[0m\u001b[0;34m:\u001b[0m\u001b[0;34m\u001b[0m\u001b[0;34m\u001b[0m\u001b[0m\n\u001b[0m\u001b[1;32m     10\u001b[0m         \u001b[0mcopyfile\u001b[0m\u001b[0;34m(\u001b[0m\u001b[0;34m\"{}/{}\"\u001b[0m\u001b[0;34m.\u001b[0m\u001b[0mformat\u001b[0m\u001b[0;34m(\u001b[0m\u001b[0mORIGINAL_IMG_DIR\u001b[0m\u001b[0;34m,\u001b[0m \u001b[0mimg_name\u001b[0m\u001b[0;34m)\u001b[0m\u001b[0;34m,\u001b[0m \u001b[0;34m\"{}/processing/bw_images/{}\"\u001b[0m\u001b[0;34m.\u001b[0m\u001b[0mformat\u001b[0m\u001b[0;34m(\u001b[0m\u001b[0mDATA_DIR\u001b[0m\u001b[0;34m,\u001b[0m \u001b[0mimg_name\u001b[0m\u001b[0;34m)\u001b[0m\u001b[0;34m)\u001b[0m\u001b[0;34m\u001b[0m\u001b[0;34m\u001b[0m\u001b[0m\n\u001b[1;32m     11\u001b[0m     \u001b[0;32melse\u001b[0m\u001b[0;34m:\u001b[0m\u001b[0;34m\u001b[0m\u001b[0;34m\u001b[0m\u001b[0m\n",
      "\u001b[0;32m~/Desktop/Code/ml/kaggle_problems/rosneft_proppant/helpers.py\u001b[0m in \u001b[0;36mis_grey_img\u001b[0;34m(image)\u001b[0m\n\u001b[1;32m    114\u001b[0m \u001b[0;34m\u001b[0m\u001b[0m\n\u001b[1;32m    115\u001b[0m \u001b[0;32mdef\u001b[0m \u001b[0mis_grey_img\u001b[0m\u001b[0;34m(\u001b[0m\u001b[0mimage\u001b[0m\u001b[0;34m)\u001b[0m\u001b[0;34m:\u001b[0m\u001b[0;34m\u001b[0m\u001b[0;34m\u001b[0m\u001b[0m\n\u001b[0;32m--> 116\u001b[0;31m     \u001b[0mgr\u001b[0m \u001b[0;34m=\u001b[0m \u001b[0mnp\u001b[0m\u001b[0;34m.\u001b[0m\u001b[0mabsolute\u001b[0m\u001b[0;34m(\u001b[0m\u001b[0mnp\u001b[0m\u001b[0;34m.\u001b[0m\u001b[0marray\u001b[0m\u001b[0;34m(\u001b[0m\u001b[0mimage\u001b[0m\u001b[0;34m[\u001b[0m\u001b[0;34m:\u001b[0m\u001b[0;34m,\u001b[0m \u001b[0;34m:\u001b[0m\u001b[0;34m,\u001b[0m \u001b[0;36m0\u001b[0m\u001b[0;34m]\u001b[0m\u001b[0;34m,\u001b[0m \u001b[0mdtype\u001b[0m\u001b[0;34m=\u001b[0m\u001b[0mint\u001b[0m\u001b[0;34m)\u001b[0m \u001b[0;34m-\u001b[0m \u001b[0mnp\u001b[0m\u001b[0;34m.\u001b[0m\u001b[0marray\u001b[0m\u001b[0;34m(\u001b[0m\u001b[0mimage\u001b[0m\u001b[0;34m[\u001b[0m\u001b[0;34m:\u001b[0m\u001b[0;34m,\u001b[0m \u001b[0;34m:\u001b[0m\u001b[0;34m,\u001b[0m \u001b[0;36m1\u001b[0m\u001b[0;34m]\u001b[0m\u001b[0;34m,\u001b[0m \u001b[0mdtype\u001b[0m\u001b[0;34m=\u001b[0m\u001b[0mint\u001b[0m\u001b[0;34m)\u001b[0m\u001b[0;34m)\u001b[0m\u001b[0;34m\u001b[0m\u001b[0;34m\u001b[0m\u001b[0m\n\u001b[0m\u001b[1;32m    117\u001b[0m     \u001b[0mgr\u001b[0m \u001b[0;34m+=\u001b[0m \u001b[0mnp\u001b[0m\u001b[0;34m.\u001b[0m\u001b[0mabsolute\u001b[0m\u001b[0;34m(\u001b[0m\u001b[0mnp\u001b[0m\u001b[0;34m.\u001b[0m\u001b[0marray\u001b[0m\u001b[0;34m(\u001b[0m\u001b[0mimage\u001b[0m\u001b[0;34m[\u001b[0m\u001b[0;34m:\u001b[0m\u001b[0;34m,\u001b[0m \u001b[0;34m:\u001b[0m\u001b[0;34m,\u001b[0m \u001b[0;36m1\u001b[0m\u001b[0;34m]\u001b[0m\u001b[0;34m,\u001b[0m \u001b[0mdtype\u001b[0m\u001b[0;34m=\u001b[0m\u001b[0mint\u001b[0m\u001b[0;34m)\u001b[0m \u001b[0;34m-\u001b[0m \u001b[0mnp\u001b[0m\u001b[0;34m.\u001b[0m\u001b[0marray\u001b[0m\u001b[0;34m(\u001b[0m\u001b[0mimage\u001b[0m\u001b[0;34m[\u001b[0m\u001b[0;34m:\u001b[0m\u001b[0;34m,\u001b[0m \u001b[0;34m:\u001b[0m\u001b[0;34m,\u001b[0m \u001b[0;36m2\u001b[0m\u001b[0;34m]\u001b[0m\u001b[0;34m,\u001b[0m \u001b[0mdtype\u001b[0m\u001b[0;34m=\u001b[0m\u001b[0mint\u001b[0m\u001b[0;34m)\u001b[0m\u001b[0;34m)\u001b[0m\u001b[0;34m\u001b[0m\u001b[0;34m\u001b[0m\u001b[0m\n\u001b[1;32m    118\u001b[0m     \u001b[0mgr\u001b[0m \u001b[0;34m+=\u001b[0m \u001b[0mnp\u001b[0m\u001b[0;34m.\u001b[0m\u001b[0mabsolute\u001b[0m\u001b[0;34m(\u001b[0m\u001b[0mnp\u001b[0m\u001b[0;34m.\u001b[0m\u001b[0marray\u001b[0m\u001b[0;34m(\u001b[0m\u001b[0mimage\u001b[0m\u001b[0;34m[\u001b[0m\u001b[0;34m:\u001b[0m\u001b[0;34m,\u001b[0m \u001b[0;34m:\u001b[0m\u001b[0;34m,\u001b[0m \u001b[0;36m2\u001b[0m\u001b[0;34m]\u001b[0m\u001b[0;34m,\u001b[0m \u001b[0mdtype\u001b[0m\u001b[0;34m=\u001b[0m\u001b[0mint\u001b[0m\u001b[0;34m)\u001b[0m \u001b[0;34m-\u001b[0m \u001b[0mnp\u001b[0m\u001b[0;34m.\u001b[0m\u001b[0marray\u001b[0m\u001b[0;34m(\u001b[0m\u001b[0mimage\u001b[0m\u001b[0;34m[\u001b[0m\u001b[0;34m:\u001b[0m\u001b[0;34m,\u001b[0m \u001b[0;34m:\u001b[0m\u001b[0;34m,\u001b[0m \u001b[0;36m0\u001b[0m\u001b[0;34m]\u001b[0m\u001b[0;34m,\u001b[0m \u001b[0mdtype\u001b[0m\u001b[0;34m=\u001b[0m\u001b[0mint\u001b[0m\u001b[0;34m)\u001b[0m\u001b[0;34m)\u001b[0m\u001b[0;34m\u001b[0m\u001b[0;34m\u001b[0m\u001b[0m\n",
      "\u001b[0;31mTypeError\u001b[0m: 'NoneType' object is not subscriptable"
     ]
    }
   ],
   "source": [
    "all_img = os.listdir(ORIGINAL_IMG_DIR)\n",
    "\n",
    "for img_name in all_img:\n",
    "    img_number, _ = img_name.split('.')\n",
    "    original_img = cv2.imread(\"{}/{}\".format(ORIGINAL_IMG_DIR, img_name)) \n",
    "    Path(\"{}/processing/bw_images\".format(DATA_DIR)).mkdir(exist_ok=True, parents=True)\n",
    "    Path(\"{}/processing/color_images\".format(DATA_DIR)).mkdir(exist_ok=True, parents=True)\n",
    "    \n",
    "    if is_grey_img(original_img):\n",
    "        copyfile(\"{}/{}\".format(ORIGINAL_IMG_DIR, img_name), \"{}/processing/bw_images/{}\".format(DATA_DIR, img_name))\n",
    "    else:\n",
    "        copyfile(\"{}/{}\".format(ORIGINAL_IMG_DIR, img_name), \"{}/processing/color_images/{}\".format(DATA_DIR, img_name))\n"
   ]
  },
  {
   "cell_type": "code",
   "execution_count": 19,
   "metadata": {},
   "outputs": [],
   "source": [
    "a = [1, 2]\n",
    "b, c = a"
   ]
  },
  {
   "cell_type": "code",
   "execution_count": null,
   "metadata": {},
   "outputs": [],
   "source": []
  }
 ],
 "metadata": {
  "kernelspec": {
   "display_name": "Python 3",
   "language": "python",
   "name": "python3"
  },
  "language_info": {
   "codemirror_mode": {
    "name": "ipython",
    "version": 3
   },
   "file_extension": ".py",
   "mimetype": "text/x-python",
   "name": "python",
   "nbconvert_exporter": "python",
   "pygments_lexer": "ipython3",
   "version": "3.7.3"
  }
 },
 "nbformat": 4,
 "nbformat_minor": 2
}
