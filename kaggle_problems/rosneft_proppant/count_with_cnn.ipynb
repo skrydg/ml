{
 "cells": [
  {
   "cell_type": "code",
   "execution_count": 1,
   "metadata": {},
   "outputs": [],
   "source": [
    "import os\n",
    "import sys\n",
    "while not os.getcwd().endswith('ml'):\n",
    "    os.chdir('..')\n",
    "sys.path.insert(0, os.getcwd())\n",
    "\n",
    "# import os\n",
    "# os.environ[\"CUDA_VISIBLE_DEVICES\"] = \"-1\""
   ]
  },
  {
   "cell_type": "code",
   "execution_count": 2,
   "metadata": {},
   "outputs": [],
   "source": [
    "import math\n",
    "import collections\n",
    "import copy\n",
    "import cv2\n",
    "import pandas as pd\n",
    "import numpy as np\n",
    "import random\n",
    "from shutil import copyfile\n",
    "from pathlib import Path\n",
    "from matplotlib import pyplot as plt\n",
    "\n",
    "import tensorflow as tf\n",
    "from tensorflow.keras import Model\n",
    "from tensorflow.keras.preprocessing.image import ImageDataGenerator\n",
    "\n",
    "from ml_helpers.image_helpers import display_images\n",
    "from ml_helpers.common_helpers import display_history_metrics\n",
    "\n",
    "from sklearn.model_selection import train_test_split\n",
    "import pickle\n",
    "\n",
    "from kaggle_problems.rosneft_proppant.workspace.common import bins, bin2high, TARGET_SHAPE, SUB_IMG_CNT\n"
   ]
  },
  {
   "cell_type": "code",
   "execution_count": 3,
   "metadata": {},
   "outputs": [],
   "source": [
    "DATA_DIR = \"kaggle_problems/rosneft_proppant/workspace/data/\"\n",
    "MODEL_DIR = \"kaggle_problems/rosneft_proppant/workspace/models\"\n",
    "GENERATED_DIR = \"kaggle_problems/rosneft_proppant/data/generated/\"\n",
    "GENERATED_LABELS_DIR = GENERATED_DIR + \"labels\"\n",
    "DF_RATE = 1\n",
    "\n",
    "sources = ['bw'] #'colored']\n",
    "source_to_fraction = {\n",
    "    'bw': 'bw',\n",
    "    'colored': 'colored',\n",
    "    'threshed': 'bw'\n",
    "}\n",
    "\n",
    "fraction_sievs = {\n",
    "    'bw': ['16', '18', '20', '25', '30', '35', '40']\n",
    "}\n",
    "\n",
    "COEF_COMPRESS = 4"
   ]
  },
  {
   "cell_type": "code",
   "execution_count": 4,
   "metadata": {},
   "outputs": [],
   "source": [
    "def enrich_fraction(train):\n",
    "    for fraction in source_to_fraction.values():\n",
    "        img_numbers = set([int(img[0:-len(\".jpg\")]) // SUB_IMG_CNT // SUB_IMG_CNT for img in os.listdir(DATA_DIR + fraction + \"_main_area\") if img.endswith('.jpg')])\n",
    "        train.loc[train.ImageId.isin(img_numbers), 'fraction'] = fraction\n",
    "    return train\n",
    "\n",
    "def get_fraction_sievs(data, fraction):\n",
    "    data_fraction = data[data.fraction == fraction]\n",
    "    result_bins = []\n",
    "    for b in bins:\n",
    "        if data_fraction[b].sum() > 1e-5:\n",
    "            result_bins.append(b)\n",
    "    return result_bins\n",
    "        \n",
    "\n",
    "def common_df_processing(data):\n",
    "    data = data[~data['prop_count'].isnull()]\n",
    "\n",
    "    data[\"filename\"] = data['ImageId'].astype(str) + '.jpg'\n",
    "    return data\n",
    "\n",
    "def get_test(source):\n",
    "    validation = pd.read_csv(\"{}labels/train.csv\".format(DATA_DIR))\n",
    "    \n",
    "    validation.fraction = None\n",
    "    validation = enrich_fraction(validation)\n",
    "\n",
    "    validation = validation[~validation.fraction.isnull()]\n",
    "    \n",
    "    fraction = source_to_fraction[source]\n",
    "    validation = validation[validation['fraction'] == source_to_fraction[source]]\n",
    "\n",
    "    validation = common_df_processing(validation)\n",
    "    return validation\n",
    "\n",
    "def get_train(source):\n",
    "    train = pd.read_csv(\"{}/generated_{}_train.csv\".format(GENERATED_LABELS_DIR, source))\n",
    "    train.prop_count = train.prop_count.astype(np.float64)\n",
    "    \n",
    "    train = common_df_processing(train)\n",
    "    return train"
   ]
  },
  {
   "cell_type": "markdown",
   "metadata": {},
   "source": [
    "### Model"
   ]
  },
  {
   "cell_type": "code",
   "execution_count": null,
   "metadata": {},
   "outputs": [],
   "source": []
  },
  {
   "cell_type": "code",
   "execution_count": null,
   "metadata": {},
   "outputs": [],
   "source": []
  },
  {
   "cell_type": "code",
   "execution_count": 5,
   "metadata": {},
   "outputs": [],
   "source": [
    "class CntExtraction(Model):\n",
    "    def __init__(self, fraction):\n",
    "        super(CntExtraction, self).__init__()\n",
    "        self.FilterSize1 = 10\n",
    "\n",
    "\n",
    "        self.pipes = [\n",
    "            tf.keras.layers.Conv2D(filters=self.FilterSize1, kernel_size=(3, 3), strides=(2, 2), activation='relu'),\n",
    "            tf.keras.layers.BatchNormalization(),\n",
    "            tf.keras.layers.MaxPool2D(pool_size=(2, 2)),\n",
    "            tf.keras.layers.Dropout(rate=0.3),\n",
    "\n",
    "            tf.keras.layers.Conv2D(filters=self.FilterSize1, kernel_size=(3, 3), strides=(2, 2), activation='tanh'),\n",
    "            tf.keras.layers.BatchNormalization(),\n",
    "            tf.keras.layers.MaxPool2D(pool_size=(2, 2)),\n",
    "            tf.keras.layers.Dropout(rate=0.3),\n",
    "\n",
    "            tf.keras.layers.Conv2D(filters=self.FilterSize1, kernel_size=(3, 3), strides=(2, 2), activation='tanh'),\n",
    "            tf.keras.layers.BatchNormalization(),\n",
    "            tf.keras.layers.MaxPool2D(pool_size=(2, 2)),\n",
    "            tf.keras.layers.Dropout(rate=0.3),\n",
    "\n",
    "            tf.keras.layers.Flatten(),\n",
    "            tf.keras.layers.Dense(100, activation='relu'),\n",
    "            tf.keras.layers.Dense(1, activation='relu'),\n",
    "        ]\n",
    "        \n",
    "\n",
    "    def call(self, x, *args, **kwargs):\n",
    "        for pipe in self.pipes:\n",
    "            x = pipe(x)\n",
    "        return x\n",
    "    "
   ]
  },
  {
   "cell_type": "code",
   "execution_count": 6,
   "metadata": {},
   "outputs": [],
   "source": [
    "model = CntExtraction('bw')"
   ]
  },
  {
   "cell_type": "markdown",
   "metadata": {},
   "source": [
    "#### Train Input Generator"
   ]
  },
  {
   "cell_type": "code",
   "execution_count": 7,
   "metadata": {},
   "outputs": [],
   "source": [
    "def get_train_val_datagen(train, source, train_size=0.8):\n",
    "    train_fraction, val_fraction = train_test_split(train, train_size=train_size, random_state=123)\n",
    "    \n",
    "    bins_fraction = fraction_sievs[fraction]\n",
    "    \n",
    "    datagen = ImageDataGenerator()\n",
    "\n",
    "    train_generator = datagen.flow_from_dataframe(\n",
    "            train_fraction.sample(n=int(len(train_fraction) * DF_RATE)),\n",
    "            directory=\"kaggle_problems/rosneft_proppant/data/generated/{}_img\".format(source),\n",
    "            x_col='filename', \n",
    "            y_col='prop_count',\n",
    "            target_size=(TARGET_SHAPE[0] // COEF_COMPRESS // SUB_IMG_CNT, TARGET_SHAPE[1] // COEF_COMPRESS // SUB_IMG_CNT),\n",
    "            batch_size=64,\n",
    "            class_mode=\"other\"\n",
    "    )\n",
    "    \n",
    "    val_generator = datagen.flow_from_dataframe(\n",
    "        val_fraction.sample(n=int(len(val_fraction) * DF_RATE)),\n",
    "        directory=\"kaggle_problems/rosneft_proppant/data/generated/{}_img\".format(source),\n",
    "        x_col='filename', \n",
    "        y_col='prop_count',\n",
    "        target_size=(TARGET_SHAPE[0] // COEF_COMPRESS // SUB_IMG_CNT, TARGET_SHAPE[1] // COEF_COMPRESS // SUB_IMG_CNT),\n",
    "        batch_size=64,\n",
    "        class_mode=\"other\"\n",
    "    )\n",
    "    return train_generator, val_generator"
   ]
  },
  {
   "cell_type": "code",
   "execution_count": 8,
   "metadata": {},
   "outputs": [],
   "source": [
    "# def get_train_val_datagen(train, validation, source):\n",
    "#     fraction = source_to_fraction[source]\n",
    "#     bins_fraction = fraction_sievs[fraction]\n",
    "    \n",
    "#     datagen = ImageDataGenerator()\n",
    "\n",
    "#     train_generator = datagen.flow_from_dataframe(\n",
    "#             train.sample(n=int(len(train) * DF_RATE)),\n",
    "#             directory=\"kaggle_problems/rosneft_proppant/data/generated/{}_img\".format(source),\n",
    "#             x_col='filename', \n",
    "#             y_col=bins_fraction,\n",
    "#             target_size=(TARGET_SHAPE[0] // COEF_COMPRESS, TARGET_SHAPE[1] // COEF_COMPRESS),\n",
    "#             batch_size=64,\n",
    "#             class_mode='other',\n",
    "#     )\n",
    "    \n",
    "#     validation_generator = datagen.flow_from_dataframe(\n",
    "#             validation.sample(n=int(len(validation) * DF_RATE)),\n",
    "#             directory=\"kaggle_problems/rosneft_proppant/data/{}_main_area\".format(source),\n",
    "#             x_col='filename', \n",
    "#             y_col=bins_fraction,\n",
    "#             target_size=(TARGET_SHAPE[0] // COEF_COMPRESS, TARGET_SHAPE[1] // COEF_COMPRESS),\n",
    "#             batch_size=64,\n",
    "#             class_mode='other',\n",
    "#     )\n",
    "    \n",
    "#     return train_generator, validation_generator"
   ]
  },
  {
   "cell_type": "markdown",
   "metadata": {},
   "source": [
    "#### Input generator checking"
   ]
  },
  {
   "cell_type": "code",
   "execution_count": 9,
   "metadata": {},
   "outputs": [],
   "source": [
    "# img, labels = get_train_val_datagen(train, 'bw')[0].next()\n",
    "# display_images(img[0:8].astype(int), 4)"
   ]
  },
  {
   "cell_type": "markdown",
   "metadata": {},
   "source": [
    "#### Callbacks"
   ]
  },
  {
   "cell_type": "code",
   "execution_count": 10,
   "metadata": {},
   "outputs": [],
   "source": [
    "from tensorflow.keras.callbacks import EarlyStopping, ReduceLROnPlateau"
   ]
  },
  {
   "cell_type": "code",
   "execution_count": 11,
   "metadata": {},
   "outputs": [],
   "source": [
    "learning_rate_reduction = ReduceLROnPlateau(monitor='val_loss', \n",
    "                                            patience=3, \n",
    "                                            verbose=1, \n",
    "                                            factor=0.5, \n",
    "                                            min_lr=0.00001)\n",
    "\n",
    "earlystop = EarlyStopping(patience=10)\n",
    "\n",
    "callbacks = [earlystop, learning_rate_reduction]"
   ]
  },
  {
   "cell_type": "code",
   "execution_count": 12,
   "metadata": {},
   "outputs": [],
   "source": [
    "EPS = 1e-5\n",
    "def metric(true, predicted):\n",
    "    true = tf.math.maximum(true,tf.ones_like( true ))\n",
    "    return tf.keras.backend.mean(tf.math.abs(true - predicted) / true)\n"
   ]
  },
  {
   "cell_type": "code",
   "execution_count": 13,
   "metadata": {},
   "outputs": [
    {
     "name": "stderr",
     "output_type": "stream",
     "text": [
      "/Users/skrrydg/anaconda3/lib/python3.7/site-packages/sklearn/model_selection/_split.py:2179: FutureWarning: From version 0.21, test_size will always complement train_size unless both are specified.\n",
      "  FutureWarning)\n"
     ]
    },
    {
     "name": "stdout",
     "output_type": "stream",
     "text": [
      "Found 720 validated image filenames.\n",
      "Found 180 validated image filenames.\n",
      "WARNING:tensorflow:sample_weight modes were coerced from\n",
      "  ...\n",
      "    to  \n",
      "  ['...']\n",
      "Train for 12 steps, validate for 3 steps\n",
      "Epoch 1/100\n",
      "12/12 [==============================] - 4s 374ms/step - loss: 187881.5134 - val_loss: 197545.7812\n",
      "Epoch 2/100\n",
      "12/12 [==============================] - 3s 288ms/step - loss: 163474.8839 - val_loss: 197500.4375\n",
      "Epoch 3/100\n",
      "12/12 [==============================] - 3s 286ms/step - loss: 140530.3209 - val_loss: 197231.9583\n",
      "Epoch 4/100\n",
      "12/12 [==============================] - 3s 291ms/step - loss: 118235.5247 - val_loss: 195968.6146\n",
      "Epoch 5/100\n",
      "12/12 [==============================] - 3s 285ms/step - loss: 95427.5614 - val_loss: 195619.0781\n",
      "Epoch 6/100\n",
      "12/12 [==============================] - 3s 285ms/step - loss: 74205.5856 - val_loss: 188199.0781\n",
      "Epoch 7/100\n",
      "12/12 [==============================] - 3s 287ms/step - loss: 54192.6868 - val_loss: 181919.5260\n",
      "Epoch 8/100\n",
      "12/12 [==============================] - 3s 287ms/step - loss: 37929.9755 - val_loss: 170376.5990\n",
      "Epoch 9/100\n",
      "12/12 [==============================] - 3s 286ms/step - loss: 23623.4771 - val_loss: 168103.9896\n",
      "Epoch 10/100\n",
      "12/12 [==============================] - 3s 285ms/step - loss: 15731.3488 - val_loss: 154536.1875\n",
      "Epoch 11/100\n",
      "12/12 [==============================] - 3s 288ms/step - loss: 10557.8191 - val_loss: 142263.2344\n",
      "Epoch 12/100\n",
      "12/12 [==============================] - 3s 289ms/step - loss: 8286.4203 - val_loss: 99471.5234\n",
      "Epoch 13/100\n",
      "12/12 [==============================] - 3s 289ms/step - loss: 8584.3918 - val_loss: 99369.7214\n",
      "Epoch 14/100\n",
      "12/12 [==============================] - 3s 291ms/step - loss: 7965.3794 - val_loss: 91169.9219\n",
      "Epoch 15/100\n",
      "12/12 [==============================] - 3s 290ms/step - loss: 7123.6804 - val_loss: 84819.1354\n",
      "Epoch 16/100\n",
      "12/12 [==============================] - 4s 295ms/step - loss: 7154.7830 - val_loss: 59124.7318\n",
      "Epoch 17/100\n",
      "12/12 [==============================] - 3s 291ms/step - loss: 6987.6489 - val_loss: 53257.7604\n",
      "Epoch 18/100\n",
      "12/12 [==============================] - 4s 294ms/step - loss: 7192.4112 - val_loss: 62626.0755\n",
      "Epoch 19/100\n",
      "12/12 [==============================] - 3s 291ms/step - loss: 7149.3093 - val_loss: 25850.2520\n",
      "Epoch 20/100\n",
      "12/12 [==============================] - 4s 297ms/step - loss: 7287.1918 - val_loss: 49209.2109\n",
      "Epoch 21/100\n",
      "12/12 [==============================] - 4s 293ms/step - loss: 7239.9877 - val_loss: 21134.1276\n",
      "Epoch 22/100\n",
      "12/12 [==============================] - 4s 296ms/step - loss: 6451.9727 - val_loss: 67273.5078\n",
      "Epoch 23/100\n",
      "12/12 [==============================] - 4s 304ms/step - loss: 5913.0732 - val_loss: 57654.6224\n",
      "Epoch 24/100\n",
      "11/12 [==========================>...] - ETA: 0s - loss: 6124.2471\n",
      "Epoch 00024: ReduceLROnPlateau reducing learning rate to 0.0005000000237487257.\n",
      "12/12 [==============================] - 4s 315ms/step - loss: 6317.6244 - val_loss: 53698.0547\n",
      "Epoch 25/100\n",
      "12/12 [==============================] - 4s 337ms/step - loss: 5637.6014 - val_loss: 25026.6999\n",
      "Epoch 26/100\n",
      "12/12 [==============================] - 4s 353ms/step - loss: 6109.8654 - val_loss: 35462.2396\n",
      "Epoch 27/100\n",
      "12/12 [==============================] - 4s 311ms/step - loss: 5893.8748 - val_loss: 14930.6706\n",
      "Epoch 28/100\n",
      "12/12 [==============================] - 4s 351ms/step - loss: 5917.4385 - val_loss: 11650.8311\n",
      "Epoch 29/100\n",
      "12/12 [==============================] - 4s 323ms/step - loss: 5858.7862 - val_loss: 4973.5633\n",
      "Epoch 30/100\n",
      "12/12 [==============================] - 4s 307ms/step - loss: 6327.7124 - val_loss: 2786.5531\n",
      "Epoch 31/100\n",
      "12/12 [==============================] - 4s 308ms/step - loss: 5815.4306 - val_loss: 3741.1699\n",
      "Epoch 32/100\n",
      "12/12 [==============================] - 4s 313ms/step - loss: 5726.7626 - val_loss: 3539.2474\n",
      "Epoch 33/100\n",
      "11/12 [==========================>...] - ETA: 0s - loss: 5861.2242\n",
      "Epoch 00033: ReduceLROnPlateau reducing learning rate to 0.0002500000118743628.\n",
      "12/12 [==============================] - 4s 302ms/step - loss: 5731.3575 - val_loss: 3018.9998\n",
      "Epoch 34/100\n",
      "12/12 [==============================] - 4s 305ms/step - loss: 5736.2735 - val_loss: 2612.8569\n",
      "Epoch 35/100\n",
      "12/12 [==============================] - 4s 310ms/step - loss: 5547.1283 - val_loss: 2298.7156\n",
      "Epoch 36/100\n",
      "12/12 [==============================] - 4s 305ms/step - loss: 5290.7200 - val_loss: 2419.1900\n",
      "Epoch 37/100\n",
      "12/12 [==============================] - 4s 308ms/step - loss: 5561.9585 - val_loss: 2789.0797\n",
      "Epoch 38/100\n",
      "11/12 [==========================>...] - ETA: 0s - loss: 5120.1951\n",
      "Epoch 00038: ReduceLROnPlateau reducing learning rate to 0.0001250000059371814.\n",
      "12/12 [==============================] - 4s 302ms/step - loss: 5117.6933 - val_loss: 3931.5211\n",
      "Epoch 39/100\n",
      "12/12 [==============================] - 4s 310ms/step - loss: 5379.0358 - val_loss: 3169.7938\n",
      "Epoch 40/100\n",
      "12/12 [==============================] - 4s 302ms/step - loss: 5305.5643 - val_loss: 3409.6360\n",
      "Epoch 41/100\n",
      "11/12 [==========================>...] - ETA: 0s - loss: 5090.1406\n",
      "Epoch 00041: ReduceLROnPlateau reducing learning rate to 6.25000029685907e-05.\n",
      "12/12 [==============================] - 4s 309ms/step - loss: 5305.8183 - val_loss: 3384.5281\n",
      "Epoch 42/100\n",
      "12/12 [==============================] - 4s 305ms/step - loss: 5320.3634 - val_loss: 3476.9451\n",
      "Epoch 43/100\n",
      "12/12 [==============================] - 4s 307ms/step - loss: 5249.1618 - val_loss: 3457.2728\n",
      "Epoch 44/100\n",
      "11/12 [==========================>...] - ETA: 0s - loss: 4576.9758\n",
      "Epoch 00044: ReduceLROnPlateau reducing learning rate to 3.125000148429535e-05.\n",
      "12/12 [==============================] - 4s 303ms/step - loss: 4667.4061 - val_loss: 3431.7510\n",
      "Epoch 45/100\n",
      "12/12 [==============================] - 4s 305ms/step - loss: 5554.6206 - val_loss: 3758.6969\n",
      "WARNING:tensorflow:From /Users/skrrydg/anaconda3/lib/python3.7/site-packages/tensorflow_core/python/ops/resource_variable_ops.py:1786: calling BaseResourceVariable.__init__ (from tensorflow.python.ops.resource_variable_ops) with constraint is deprecated and will be removed in a future version.\n",
      "Instructions for updating:\n",
      "If using Keras pass *_constraint arguments to layers.\n",
      "INFO:tensorflow:Assets written to: kaggle_problems/rosneft_proppant/workspace/models/model_benchmark_bw/assets\n"
     ]
    }
   ],
   "source": [
    "for source, i in zip(sources, range(len(sources))):\n",
    "    train = get_train(source)\n",
    "    fraction = source_to_fraction[source]\n",
    "    \n",
    "    \n",
    "    model = CntExtraction(fraction)\n",
    "    model.compile(\n",
    "        loss='mse',\n",
    "        optimizer='rmsprop',\n",
    "    )\n",
    "\n",
    "    train_datagen, val_datagen = get_train_val_datagen(train, source)\n",
    "    \n",
    "    history = model.fit(\n",
    "        x=train_datagen,\n",
    "        epochs=100,\n",
    "        validation_data=val_datagen,\n",
    "        callbacks=callbacks\n",
    "    )\n",
    "    \n",
    "    Path(MODEL_DIR).mkdir(exist_ok=True, parents=True)\n",
    "    \n",
    "    with open(MODEL_DIR + \"/history_model_benchmark_{}.pickle\".format(source), 'wb') as f:\n",
    "        pickle.dump(history.history, f)\n",
    "        \n",
    "    model.save(MODEL_DIR + \"/model_benchmark_{}\".format(source))"
   ]
  },
  {
   "cell_type": "code",
   "execution_count": 14,
   "metadata": {},
   "outputs": [
    {
     "name": "stderr",
     "output_type": "stream",
     "text": [
      "/Users/skrrydg/anaconda3/lib/python3.7/site-packages/sklearn/model_selection/_split.py:2179: FutureWarning: From version 0.21, test_size will always complement train_size unless both are specified.\n",
      "  FutureWarning)\n"
     ]
    },
    {
     "name": "stdout",
     "output_type": "stream",
     "text": [
      "Found 720 validated image filenames.\n",
      "Found 180 validated image filenames.\n"
     ]
    }
   ],
   "source": [
    "img, labels = get_train_val_datagen(train, 'bw')[0].next()\n",
    "\n",
    "res = model.predict(x=img)"
   ]
  },
  {
   "cell_type": "code",
   "execution_count": 15,
   "metadata": {},
   "outputs": [
    {
     "data": {
      "text/plain": [
       "<tf.Tensor: shape=(), dtype=float64, numpy=33.93138974280649>"
      ]
     },
     "execution_count": 15,
     "metadata": {},
     "output_type": "execute_result"
    }
   ],
   "source": [
    "metric(labels, res)"
   ]
  },
  {
   "cell_type": "code",
   "execution_count": 16,
   "metadata": {},
   "outputs": [],
   "source": [
    "# [(int(true), float(pred)) for (true, pred) in zip(labels, res)]"
   ]
  },
  {
   "cell_type": "code",
   "execution_count": null,
   "metadata": {},
   "outputs": [],
   "source": []
  },
  {
   "cell_type": "markdown",
   "metadata": {},
   "source": [
    "### TEST"
   ]
  },
  {
   "cell_type": "code",
   "execution_count": 17,
   "metadata": {},
   "outputs": [],
   "source": [
    "def get_test_datagen(test, source):\n",
    "    fraction = source_to_fraction[source]\n",
    "    \n",
    "    datagen = ImageDataGenerator()\n",
    "\n",
    "    test_generator = datagen.flow_from_dataframe(\n",
    "            test.sample(n=int(len(test))),\n",
    "            directory=\"kaggle_problems/rosneft_proppant/workspace/data/{}_main_area\".format(fraction),\n",
    "            x_col='filename',\n",
    "            y_col='ImageId',\n",
    "            target_size=(TARGET_SHAPE[0] // COEF_COMPRESS // SUB_IMG_CNT, TARGET_SHAPE[1] // COEF_COMPRESS // SUB_IMG_CNT),\n",
    "            batch_size=512,\n",
    "            class_mode='other',\n",
    "    )\n",
    "    return test_generator\n"
   ]
  },
  {
   "cell_type": "code",
   "execution_count": 18,
   "metadata": {},
   "outputs": [
    {
     "name": "stderr",
     "output_type": "stream",
     "text": [
      "/Users/skrrydg/anaconda3/lib/python3.7/site-packages/ipykernel_launcher.py:19: SettingWithCopyWarning: \n",
      "A value is trying to be set on a copy of a slice from a DataFrame.\n",
      "Try using .loc[row_indexer,col_indexer] = value instead\n",
      "\n",
      "See the caveats in the documentation: http://pandas.pydata.org/pandas-docs/stable/indexing.html#indexing-view-versus-copy\n"
     ]
    }
   ],
   "source": [
    "test = get_test(\"bw\")"
   ]
  },
  {
   "cell_type": "code",
   "execution_count": 19,
   "metadata": {},
   "outputs": [],
   "source": [
    "sub_imgs = []\n",
    "real_img = []\n",
    "for img in test.ImageId:\n",
    "    sub_imgs.extend(range(img * SUB_IMG_CNT * SUB_IMG_CNT, (img + 1) * SUB_IMG_CNT * SUB_IMG_CNT))\n",
    "    real_img.extend([img for i in range(SUB_IMG_CNT * SUB_IMG_CNT)])\n",
    "sub_imgs = [str(i) + \".jpg\" for i in sub_imgs]"
   ]
  },
  {
   "cell_type": "code",
   "execution_count": 20,
   "metadata": {},
   "outputs": [
    {
     "name": "stdout",
     "output_type": "stream",
     "text": [
      "Found 549 validated image filenames.\n"
     ]
    }
   ],
   "source": [
    "test_datagen = get_test_datagen(pd.DataFrame({\"filename\": sub_imgs, \"ImageId\": real_img}), 'bw')"
   ]
  },
  {
   "cell_type": "code",
   "execution_count": 21,
   "metadata": {},
   "outputs": [],
   "source": [
    "model = tf.keras.models.load_model(MODEL_DIR + \"/model_benchmark_{}\".format('bw'))"
   ]
  },
  {
   "cell_type": "code",
   "execution_count": 22,
   "metadata": {},
   "outputs": [
    {
     "name": "stdout",
     "output_type": "stream",
     "text": [
      "Found 720 validated image filenames.\n",
      "Found 180 validated image filenames.\n",
      "WARNING:tensorflow:sample_weight modes were coerced from\n",
      "  ...\n",
      "    to  \n",
      "  ['...']\n",
      "12/12 [==============================] - 2s 150ms/step - loss: 3587.0138\n"
     ]
    },
    {
     "data": {
      "text/plain": [
       "3587.0137532552085"
      ]
     },
     "execution_count": 22,
     "metadata": {},
     "output_type": "execute_result"
    }
   ],
   "source": [
    "train = get_train('bw')\n",
    "model.evaluate(get_train_val_datagen(train, 'bw')[0])"
   ]
  },
  {
   "cell_type": "code",
   "execution_count": 23,
   "metadata": {},
   "outputs": [],
   "source": [
    "preds = model.predict(test_datagen)"
   ]
  },
  {
   "cell_type": "code",
   "execution_count": 24,
   "metadata": {},
   "outputs": [
    {
     "name": "stdout",
     "output_type": "stream",
     "text": [
      "[1376.1759]\n"
     ]
    }
   ],
   "source": [
    "print(max(preds))"
   ]
  },
  {
   "cell_type": "code",
   "execution_count": 25,
   "metadata": {},
   "outputs": [
    {
     "name": "stdout",
     "output_type": "stream",
     "text": [
      "defaultdict(<class 'int'>, {6: 2097, 31: 2315, 41: 1906, 42: 4103, 47: 1931, 69: 4786, 71: 2776, 73: 1793, 100: 3564, 112: 4058, 117: 3522, 151: 3050, 152: 3840, 161: 3964, 179: 1412, 186: 2465, 191: 3887, 199: 3896, 205: 2946, 214: 2155, 215: 1807, 216: 2658, 227: 3953, 237: 3364, 240: 4423, 307: 2826, 308: 4332, 312: 2773, 348: 1459, 351: 5161, 359: 4144, 383: 5052, 416: 2395, 424: 3729, 440: 2600, 449: 3331, 452: 3667, 492: 1929, 496: 2050, 498: 3380, 524: 3471, 547: 2900, 553: 2290, 579: 4267, 592: 4082, 616: 2951, 653: 3642, 655: 3733, 674: 2223, 678: 3143, 682: 2319, 683: 5551, 689: 3124, 709: 2221, 711: 5947, 714: 3250, 732: 4595, 736: 5183, 751: 3770, 768: 2058, 776: 2366})\n"
     ]
    }
   ],
   "source": [
    "aggreg_cnt = collections.defaultdict(int)\n",
    "for image_num, pred in zip(real_img, preds):\n",
    "    aggreg_cnt[image_num] += int(pred)\n",
    "    \n",
    "print(aggreg_cnt)"
   ]
  },
  {
   "cell_type": "code",
   "execution_count": 26,
   "metadata": {},
   "outputs": [
    {
     "ename": "SyntaxError",
     "evalue": "invalid syntax (<ipython-input-26-95d810cafca5>, line 1)",
     "output_type": "error",
     "traceback": [
      "\u001b[0;36m  File \u001b[0;32m\"<ipython-input-26-95d810cafca5>\"\u001b[0;36m, line \u001b[0;32m1\u001b[0m\n\u001b[0;31m    defaultdict(<class 'int'>, {6: 7549, 31: 11275, 41: 5850, 42: 5875, 47: 11829, 69: 9829, 71: 7550, 73: 9170, 100: 10823, 112: 5889, 117: 9189, 151: 13850, 152: 8307, 161: 10690, 179: 8785, 186: 8090, 191: 13614, 199: 9164, 205: 9314, 214: 8934, 215: 11915, 216: 7945, 227: 8223, 237: 11938, 240: 8155, 307: 12821, 308: 6196, 312: 8587, 348: 8558, 351: 9712, 359: 7594, 383: 11820, 416: 9806, 424: 8824, 440: 11779, 449: 10007, 452: 8605, 492: 9129, 496: 5592, 498: 7969, 524: 10570, 547: 11009, 553: 9549, 579: 10877, 592: 7845, 616: 6783, 653: 11501, 655: 11596, 674: 12109, 678: 9458, 682: 8411, 683: 7279, 689: 8084, 709: 11495, 711: 8775, 714: 10245, 732: 11428, 736: 6242, 751: 6232, 768: 8550, 776: 6410})\u001b[0m\n\u001b[0m                ^\u001b[0m\n\u001b[0;31mSyntaxError\u001b[0m\u001b[0;31m:\u001b[0m invalid syntax\n"
     ]
    }
   ],
   "source": [
    "defaultdict(<class 'int'>, {6: 7549, 31: 11275, 41: 5850, 42: 5875, 47: 11829, 69: 9829, 71: 7550, 73: 9170, 100: 10823, 112: 5889, 117: 9189, 151: 13850, 152: 8307, 161: 10690, 179: 8785, 186: 8090, 191: 13614, 199: 9164, 205: 9314, 214: 8934, 215: 11915, 216: 7945, 227: 8223, 237: 11938, 240: 8155, 307: 12821, 308: 6196, 312: 8587, 348: 8558, 351: 9712, 359: 7594, 383: 11820, 416: 9806, 424: 8824, 440: 11779, 449: 10007, 452: 8605, 492: 9129, 496: 5592, 498: 7969, 524: 10570, 547: 11009, 553: 9549, 579: 10877, 592: 7845, 616: 6783, 653: 11501, 655: 11596, 674: 12109, 678: 9458, 682: 8411, 683: 7279, 689: 8084, 709: 11495, 711: 8775, 714: 10245, 732: 11428, 736: 6242, 751: 6232, 768: 8550, 776: 6410})\n",
    "\n",
    "\n"
   ]
  },
  {
   "cell_type": "code",
   "execution_count": null,
   "metadata": {},
   "outputs": [],
   "source": [
    "test"
   ]
  },
  {
   "cell_type": "code",
   "execution_count": null,
   "metadata": {},
   "outputs": [],
   "source": [
    "print(res)"
   ]
  },
  {
   "cell_type": "code",
   "execution_count": null,
   "metadata": {},
   "outputs": [],
   "source": [
    "model.summary()"
   ]
  },
  {
   "cell_type": "code",
   "execution_count": null,
   "metadata": {},
   "outputs": [],
   "source": [
    "def get_bins_metric(predicted, true):\n",
    "    return 0.5 * np.sum((predicted - true) ** 2 / (predicted + true)) / predicted.shape[0]\n",
    "\n",
    "def get_bins_metric_by_image(predicted, true):\n",
    "    return np.sum(0.5 * (predicted - true) ** 2 / (predicted + true), axis=1)\n",
    "\n",
    "def get_bins_metric_by_bins(predicted, true):\n",
    "    return np.sum(0.5 * (predicted - true) ** 2 / (predicted + true), axis=0)"
   ]
  },
  {
   "cell_type": "code",
   "execution_count": null,
   "metadata": {},
   "outputs": [],
   "source": [
    "#print(\"Total bin loss: {}\".format(get_bins_metric(predicted_labels, all_labels)))"
   ]
  },
  {
   "cell_type": "code",
   "execution_count": null,
   "metadata": {},
   "outputs": [],
   "source": [
    "# for source, i in zip(sources, range(len(sources))):\n",
    "#     fraction = source_to_fraction[source]\n",
    "#     print(source + \"-\" * 100)\n",
    "#     from keras.utils.generic_utils import get_custom_objects\n",
    "\n",
    "#     get_custom_objects().update({'metric': metric})\n",
    "\n",
    "#     with open(MODEL_DIR + \"/history_model_benchmark_{}.pickle\".format(source), 'rb') as f:\n",
    "#         history = pickle.load(f)\n",
    "\n",
    "#     model = tf.keras.models.load_model(MODEL_DIR + \"/model_benchmark_{}\".format(source), \n",
    "#                                        compile=False)\n",
    "#     model.compile(\n",
    "#         loss=metric,\n",
    "#         optimizer='rmsprop',\n",
    "#        # metrics=['mse']\n",
    "#     )                                                                               \n",
    "\n",
    "#     display_history_metrics(history, source)\n",
    "#     print(source + '-' * 100)\n",
    "    \n",
    "#     train_datagen = get_train_val_datagen(train, fraction)[0]\n",
    "\n",
    "#     predicted_labels = []\n",
    "#     all_labels = []\n",
    "#     train_fraction = train[train['fraction'] == fraction]\n",
    "\n",
    "#     for i in range(int(train_fraction.shape[0]) // 16):\n",
    "#         imgs, labels = train_datagen.next()\n",
    "#         predicted_labels.extend(model.predict(imgs))\n",
    "#         all_labels.extend(labels)\n",
    "#     predicted_labels = np.array(predicted_labels)\n",
    "#     all_labels = np.array(all_labels)\n",
    "\n",
    "#     losses_by_img = get_bins_metric_by_image(predicted_labels, all_labels)\n",
    "#     plt.hist(losses_by_img, bins=100)\n",
    "#     plt.show()\n",
    "\n",
    "#     losses_by_bins = get_bins_metric_by_bins(predicted_labels, all_labels)\n",
    "#     plt.hist(losses_by_bins, bins=100)\n",
    "#     plt.show()\n",
    "#     print(\"-\" * 50)"
   ]
  },
  {
   "cell_type": "code",
   "execution_count": null,
   "metadata": {},
   "outputs": [],
   "source": [
    "!jupyter nbconvert --to script kaggle_problems/rosneft_proppant/cnn_try.ipynb"
   ]
  },
  {
   "cell_type": "code",
   "execution_count": null,
   "metadata": {},
   "outputs": [],
   "source": []
  },
  {
   "cell_type": "code",
   "execution_count": null,
   "metadata": {},
   "outputs": [],
   "source": []
  }
 ],
 "metadata": {
  "kernelspec": {
   "display_name": "Python 3",
   "language": "python",
   "name": "python3"
  },
  "language_info": {
   "codemirror_mode": {
    "name": "ipython",
    "version": 3
   },
   "file_extension": ".py",
   "mimetype": "text/x-python",
   "name": "python",
   "nbconvert_exporter": "python",
   "pygments_lexer": "ipython3",
   "version": "3.7.3"
  }
 },
 "nbformat": 4,
 "nbformat_minor": 2
}
