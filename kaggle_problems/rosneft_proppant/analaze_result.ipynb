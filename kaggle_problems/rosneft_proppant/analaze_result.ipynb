{
 "cells": [
  {
   "cell_type": "code",
   "execution_count": 464,
   "metadata": {},
   "outputs": [],
   "source": [
    "import os\n",
    "import sys\n",
    "while not os.getcwd().endswith('ml'):\n",
    "    os.chdir('..')\n",
    "sys.path.insert(0, os.getcwd())"
   ]
  },
  {
   "cell_type": "code",
   "execution_count": 465,
   "metadata": {},
   "outputs": [],
   "source": [
    "import kaggle_problems.rosneft_proppant.RPCC_metric_utils_for_participants as metrics\n",
    "from kaggle_problems.rosneft_proppant.workspace.common import bins_dict\n",
    "import pandas as pd\n",
    "import numpy as np\n",
    "import copy\n",
    "from matplotlib import pyplot as plt"
   ]
  },
  {
   "cell_type": "code",
   "execution_count": 466,
   "metadata": {},
   "outputs": [],
   "source": [
    "predicted = pd.read_csv(\"kaggle_problems/rosneft_proppant/workspace/answers.csv\")\n",
    "train = pd.read_csv(\"kaggle_problems/rosneft_proppant/workspace/data/labels/labels.csv\")"
   ]
  },
  {
   "cell_type": "code",
   "execution_count": 460,
   "metadata": {},
   "outputs": [
    {
     "data": {
      "text/plain": [
       "array([ 41,  42,  47,  73, 100, 112, 151, 152, 179, 191, 214, 215, 227,\n",
       "       237, 308, 348, 416, 424, 440, 492, 496, 524, 553, 592, 616, 655,\n",
       "       714])"
      ]
     },
     "execution_count": 460,
     "metadata": {},
     "output_type": "execute_result"
    }
   ],
   "source": [
    "predicted.ImageId.unique()"
   ]
  },
  {
   "cell_type": "code",
   "execution_count": 422,
   "metadata": {},
   "outputs": [],
   "source": [
    "imgs = train[np.logical_and(~train.prop_count.isnull(), ~train['16'].isnull())]['ImageId'].to_numpy()"
   ]
  },
  {
   "cell_type": "code",
   "execution_count": 423,
   "metadata": {},
   "outputs": [
    {
     "name": "stdout",
     "output_type": "stream",
     "text": [
      "['41.jpg', '42.jpg', '47.jpg', '53.jpg', '73.jpg', '100.jpg', '112.jpg', '151.jpg', '152.jpg', '179.jpg', '191.jpg', '214.jpg', '215.jpg', '227.jpg', '237.jpg', '265.jpg', '308.jpg', '348.jpg', '382.jpg', '416.jpg', '424.jpg', '440.jpg', '492.jpg', '496.jpg', '524.jpg', '553.jpg', '592.jpg', '616.jpg', '655.jpg', '714.jpg']\n"
     ]
    }
   ],
   "source": [
    "print([str(i) + \".jpg\"  for i in train[np.logical_and(~train.prop_count.isnull(), ~train['16'].isnull())]['ImageId'].to_numpy()])"
   ]
  },
  {
   "cell_type": "code",
   "execution_count": 424,
   "metadata": {},
   "outputs": [],
   "source": [
    "train = train[train.ImageId == 41]\n",
    "predicted = predicted[predicted.ImageId == 41]"
   ]
  },
  {
   "cell_type": "code",
   "execution_count": 425,
   "metadata": {},
   "outputs": [
    {
     "data": {
      "image/png": "[encoded data removed]",
      "text/plain": [
       "<Figure size 432x288 with 1 Axes>"
      ]
     },
     "metadata": {
      "needs_background": "light"
     },
     "output_type": "display_data"
    }
   ],
   "source": [
    "plt.hist(predicted.prop_size.values, bins=100)\n",
    "plt.show()"
   ]
  },
  {
   "cell_type": "code",
   "execution_count": 426,
   "metadata": {},
   "outputs": [
    {
     "name": "stdout",
     "output_type": "stream",
     "text": [
      "2842\n"
     ]
    }
   ],
   "source": [
    "print(len(predicted))"
   ]
  },
  {
   "cell_type": "code",
   "execution_count": 427,
   "metadata": {},
   "outputs": [
    {
     "data": {
      "text/html": [
       "<div>\n",
       "<style scoped>\n",
       "    .dataframe tbody tr th:only-of-type {\n",
       "        vertical-align: middle;\n",
       "    }\n",
       "\n",
       "    .dataframe tbody tr th {\n",
       "        vertical-align: top;\n",
       "    }\n",
       "\n",
       "    .dataframe thead th {\n",
       "        text-align: right;\n",
       "    }\n",
       "</style>\n",
       "<table border=\"1\" class=\"dataframe\">\n",
       "  <thead>\n",
       "    <tr style=\"text-align: right;\">\n",
       "      <th></th>\n",
       "      <th>ImageId</th>\n",
       "      <th>6</th>\n",
       "      <th>7</th>\n",
       "      <th>8</th>\n",
       "      <th>10</th>\n",
       "      <th>12</th>\n",
       "      <th>14</th>\n",
       "      <th>16</th>\n",
       "      <th>18</th>\n",
       "      <th>20</th>\n",
       "      <th>...</th>\n",
       "      <th>40</th>\n",
       "      <th>45</th>\n",
       "      <th>50</th>\n",
       "      <th>60</th>\n",
       "      <th>70</th>\n",
       "      <th>80</th>\n",
       "      <th>100</th>\n",
       "      <th>pan</th>\n",
       "      <th>prop_count</th>\n",
       "      <th>fraction</th>\n",
       "    </tr>\n",
       "  </thead>\n",
       "  <tbody>\n",
       "    <tr>\n",
       "      <th>40</th>\n",
       "      <td>41</td>\n",
       "      <td>0.0</td>\n",
       "      <td>0.0</td>\n",
       "      <td>0.0</td>\n",
       "      <td>0.0</td>\n",
       "      <td>0.0</td>\n",
       "      <td>0.0</td>\n",
       "      <td>0.0212</td>\n",
       "      <td>0.4803</td>\n",
       "      <td>0.4557</td>\n",
       "      <td>...</td>\n",
       "      <td>0.0002</td>\n",
       "      <td>0.0</td>\n",
       "      <td>0.0</td>\n",
       "      <td>0.0</td>\n",
       "      <td>0.0</td>\n",
       "      <td>0.0</td>\n",
       "      <td>0.0</td>\n",
       "      <td>0.0</td>\n",
       "      <td>2835.0</td>\n",
       "      <td>16/20</td>\n",
       "    </tr>\n",
       "  </tbody>\n",
       "</table>\n",
       "<p>1 rows × 23 columns</p>\n",
       "</div>"
      ],
      "text/plain": [
       "    ImageId    6    7    8   10   12   14      16      18      20  ...  \\\n",
       "40       41  0.0  0.0  0.0  0.0  0.0  0.0  0.0212  0.4803  0.4557  ...   \n",
       "\n",
       "        40   45   50   60   70   80  100  pan  prop_count  fraction  \n",
       "40  0.0002  0.0  0.0  0.0  0.0  0.0  0.0  0.0      2835.0     16/20  \n",
       "\n",
       "[1 rows x 23 columns]"
      ]
     },
     "execution_count": 427,
     "metadata": {},
     "output_type": "execute_result"
    }
   ],
   "source": [
    "train[~train.prop_count.isnull()]"
   ]
  },
  {
   "cell_type": "code",
   "execution_count": 461,
   "metadata": {},
   "outputs": [
    {
     "name": "stdout",
     "output_type": "stream",
     "text": [
      "41\n",
      "42\n",
      "47\n",
      "73\n",
      "100\n",
      "112\n",
      "151\n",
      "152\n",
      "179\n",
      "191\n",
      "214\n",
      "215\n",
      "227\n",
      "237\n",
      "308\n",
      "348\n",
      "416\n",
      "424\n",
      "440\n",
      "492\n",
      "496\n",
      "524\n",
      "553\n",
      "592\n",
      "616\n",
      "655\n",
      "714\n"
     ]
    }
   ],
   "source": [
    "# best_mi_c = []\n",
    "# for img in [ 41,  42,  47,  73, 100, 112, 151, 152, 179, 191, 214, 215, 227, 237, 308, 348, 416, 424, 440, 492, 496, 524, 553, 592, 616, 655, 714]:\n",
    "\n",
    "#     print(img)\n",
    "#     predicted = pd.read_csv(\"kaggle_problems/rosneft_proppant/workspace/answers.csv\")\n",
    "#     train = pd.read_csv(\"kaggle_problems/rosneft_proppant/workspace/data/labels/labels.csv\")\n",
    "\n",
    "#     train = train[train.ImageId == img]\n",
    "#     predicted = predicted[predicted.ImageId == img]\n",
    "\n",
    "#     mi = 10\n",
    "#     mi_c = -1\n",
    "#     for c in np.arange(0.5, 1., 0.01):\n",
    "#         _predicted = copy.deepcopy(predicted)\n",
    "#         _predicted['prop_size'] *= c;\n",
    "#         res = metrics.contest_metric(train, _predicted)\n",
    "#         if (mi > res[0]):\n",
    "#             mi = res[0]\n",
    "#             mi_c = c;\n",
    "#     best_mi_c.append(mi_c)"
   ]
  },
  {
   "cell_type": "code",
   "execution_count": 463,
   "metadata": {},
   "outputs": [
    {
     "name": "stdout",
     "output_type": "stream",
     "text": [
      "0.780740740740741\n"
     ]
    }
   ],
   "source": [
    "print(np.mean(best_mi_c))"
   ]
  },
  {
   "cell_type": "code",
   "execution_count": 469,
   "metadata": {},
   "outputs": [
    {
     "data": {
      "text/plain": [
       "(0.05472041894605728, 0.06030080849243959, 0.046349834626483816)"
      ]
     },
     "execution_count": 469,
     "metadata": {},
     "output_type": "execute_result"
    }
   ],
   "source": [
    "predicted.prop_size *= 0.78\n",
    "metrics.contest_metric(train, predicted)"
   ]
  },
  {
   "cell_type": "code",
   "execution_count": 374,
   "metadata": {},
   "outputs": [
    {
     "data": {
      "text/plain": [
       "2209.072203437452"
      ]
     },
     "execution_count": 374,
     "metadata": {},
     "output_type": "execute_result"
    }
   ],
   "source": [
    "(2200 ** 2 + 200 ** 2) ** 0.5"
   ]
  },
  {
   "cell_type": "code",
   "execution_count": 375,
   "metadata": {},
   "outputs": [
    {
     "data": {
      "text/plain": [
       "15.447552447552448"
      ]
     },
     "execution_count": 375,
     "metadata": {},
     "output_type": "execute_result"
    }
   ],
   "source": [
    "2209 / 143"
   ]
  },
  {
   "cell_type": "code",
   "execution_count": 377,
   "metadata": {},
   "outputs": [
    {
     "data": {
      "text/plain": [
       "0.9710276143051154"
      ]
     },
     "execution_count": 377,
     "metadata": {},
     "output_type": "execute_result"
    }
   ],
   "source": [
    "15 / (15.447552447552448)"
   ]
  },
  {
   "cell_type": "code",
   "execution_count": 378,
   "metadata": {},
   "outputs": [
    {
     "data": {
      "text/plain": [
       "0.9666666666666667"
      ]
     },
     "execution_count": 378,
     "metadata": {},
     "output_type": "execute_result"
    }
   ],
   "source": [
    "29 / 30"
   ]
  },
  {
   "cell_type": "code",
   "execution_count": 358,
   "metadata": {},
   "outputs": [
    {
     "name": "stdout",
     "output_type": "stream",
     "text": [
      "0.022608490303457754 0.7799999999999997\n"
     ]
    }
   ],
   "source": [
    "print(mi, mi_c)"
   ]
  },
  {
   "cell_type": "code",
   "execution_count": 333,
   "metadata": {},
   "outputs": [],
   "source": [
    "# Для 714 картинки - 0.72 коеффицент\n",
    "# Для 41 картинки - 0.78 \n",
    "# Для 592 картинки - 0.82"
   ]
  },
  {
   "cell_type": "code",
   "execution_count": null,
   "metadata": {},
   "outputs": [],
   "source": []
  }
 ],
 "metadata": {
  "kernelspec": {
   "display_name": "Python 3",
   "language": "python",
   "name": "python3"
  },
  "language_info": {
   "codemirror_mode": {
    "name": "ipython",
    "version": 3
   },
   "file_extension": ".py",
   "mimetype": "text/x-python",
   "name": "python",
   "nbconvert_exporter": "python",
   "pygments_lexer": "ipython3",
   "version": "3.7.3"
  }
 },
 "nbformat": 4,
 "nbformat_minor": 2
}
