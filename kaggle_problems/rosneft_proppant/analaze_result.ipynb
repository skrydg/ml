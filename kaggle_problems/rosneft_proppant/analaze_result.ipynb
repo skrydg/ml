{
 "cells": [
  {
   "cell_type": "code",
   "execution_count": 433,
   "metadata": {},
   "outputs": [],
   "source": [
    "import os\n",
    "import sys\n",
    "while not os.getcwd().endswith('ml'):\n",
    "    os.chdir('..')\n",
    "sys.path.insert(0, os.getcwd())"
   ]
  },
  {
   "cell_type": "code",
   "execution_count": 434,
   "metadata": {},
   "outputs": [],
   "source": [
    "import kaggle_problems.rosneft_proppant.RPCC_metric_utils_for_participants as metrics\n",
    "from kaggle_problems.rosneft_proppant.workspace.common import bins_dict\n",
    "import pandas as pd\n",
    "import numpy as np\n",
    "import copy\n",
    "from matplotlib import pyplot as plt\n",
    "pd.set_option('display.max_columns', 100)"
   ]
  },
  {
   "cell_type": "code",
   "execution_count": 435,
   "metadata": {},
   "outputs": [],
   "source": [
    "COLORED_IMG_DIR = \"kaggle_problems/rosneft_proppant/workspace/data/colored_main_area\"\n",
    "BW_IMG_DIR = \"kaggle_problems/rosneft_proppant/workspace/data/bw_main_area\"\n",
    "colored_img = [int(img[:-len(\".jpg\")]) for img in os.listdir(COLORED_IMG_DIR) if img.endswith('.jpg')]\n",
    "bw_img = [int(img[:-len(\".jpg\")]) for img in os.listdir(BW_IMG_DIR) if img.endswith('.jpg')]"
   ]
  },
  {
   "cell_type": "code",
   "execution_count": 436,
   "metadata": {},
   "outputs": [
    {
     "name": "stdout",
     "output_type": "stream",
     "text": [
      "['189.jpg', '77.jpg', '360.jpg', '412.jpg', '599.jpg', '200.jpg', '573.jpg', '598.jpg', '361.jpg', '74.jpg', '439.jpg', '377.jpg', '411.jpg', '766.jpg', '202.jpg', '558.jpg', '612.jpg', '372.jpg', '428.jpg', '206.jpg', '213.jpg', '398.jpg', '159.jpg', '72.jpg', '99.jpg', '588.jpg', '775.jpg', '748.jpg', '760.jpg', '614.jpg', '166.jpg', '9.jpg', '129.jpg', '673.jpg', '317.jpg', '511.jpg', '464.jpg', '699.jpg', '116.jpg', '670.jpg', '102.jpg', '314.jpg', '301.jpg', '473.jpg', '659.jpg', '311.jpg', '265.jpg', '502.jpg', '338.jpg', '648.jpg', '39.jpg', '11.jpg', '299.jpg', '500.jpg', '717.jpg', '501.jpg', '273.jpg', '10.jpg', '134.jpg', '487.jpg', '322.jpg', '336.jpg', '281.jpg', '445.jpg', '479.jpg', '135.jpg', '647.jpg', '309.jpg', '321.jpg', '282.jpg', '533.jpg', '526.jpg', '644.jpg', '122.jpg', '687.jpg', '668.jpg', '318.jpg', '278.jpg', '279.jpg', '331.jpg', '457.jpg', '127.jpg', '133.jpg', '657.jpg', '482.jpg', '290.jpg', '247.jpg', '737.jpg', '508.jpg', '483.jpg', '656.jpg', '19.jpg', '180.jpg', '625.jpg', '157.jpg', '631.jpg', '382.jpg', '590.jpg', '778.jpg', '787.jpg', '220.jpg', '234.jpg', '208.jpg', '618.jpg', '5.jpg', '57.jpg', '7.jpg', '96.jpg', '632.jpg', '381.jpg', '430.jpg', '753.jpg', '223.jpg', '343.jpg', '141.jpg', '155.jpg', '196.jpg', '40.jpg', '2.jpg', '145.jpg', '390.jpg', '347.jpg', '421.jpg', '233.jpg', '555.jpg', '568.jpg', '232.jpg', '540.jpg', '226.jpg', '597.jpg', '178.jpg', '92.jpg', '636.jpg', '3.jpg', '51.jpg', '79.jpg', '53.jpg', '422.jpg', '224.jpg', '740.jpg']\n"
     ]
    }
   ],
   "source": [
    "print(os.listdir(COLORED_IMG_DIR))"
   ]
  },
  {
   "cell_type": "code",
   "execution_count": 437,
   "metadata": {},
   "outputs": [],
   "source": [
    "predicted = pd.read_csv(\"kaggle_problems/rosneft_proppant/workspace/answers.csv\")\n",
    "train = pd.read_csv(\"kaggle_problems/rosneft_proppant/workspace/data/labels/train.csv\")"
   ]
  },
  {
   "cell_type": "code",
   "execution_count": 438,
   "metadata": {},
   "outputs": [],
   "source": [
    "# train = train[~train.prop_count.isna()]\n",
    "# train = train[~train['30'].isna()]\n",
    "# train"
   ]
  },
  {
   "cell_type": "code",
   "execution_count": 439,
   "metadata": {},
   "outputs": [],
   "source": [
    "# train[train.ImageId.isin(predicted.ImageId.unique())]"
   ]
  },
  {
   "cell_type": "code",
   "execution_count": 440,
   "metadata": {},
   "outputs": [
    {
     "name": "stdout",
     "output_type": "stream",
     "text": [
      "1870\n"
     ]
    }
   ],
   "source": [
    "print(len(predicted[predicted.ImageId == 112]))"
   ]
  },
  {
   "cell_type": "code",
   "execution_count": 441,
   "metadata": {},
   "outputs": [
    {
     "data": {
      "text/plain": [
       "(0.06559767259912958, 0.080245598738849, 0.043625783389550435)"
      ]
     },
     "execution_count": 441,
     "metadata": {},
     "output_type": "execute_result"
    }
   ],
   "source": [
    "#predicted = predicted[predicted.ImageId.isin(bw_img)]\n",
    "#predicted.prop_size *= 0.79\n",
    "metrics.contest_metric(train, predicted)"
   ]
  },
  {
   "cell_type": "code",
   "execution_count": 414,
   "metadata": {},
   "outputs": [],
   "source": [
    "metric1 = {}\n",
    "metric2 = {}\n",
    "for img in predicted.ImageId.unique():\n",
    "    img_predicted = predicted[predicted.ImageId==img]\n",
    "    img_train = train[train.ImageId==img] \n",
    "    \n",
    "    if (np.any(img_train['20'].isna())):\n",
    "        continue\n",
    "    \n",
    "    metric = metrics.contest_metric(img_train, img_predicted)\n",
    "    \n",
    "    metric1[img] = metric[1]\n",
    "    metric2[img] = metric[2]"
   ]
  },
  {
   "cell_type": "code",
   "execution_count": 365,
   "metadata": {},
   "outputs": [
    {
     "data": {
      "text/plain": [
       "{766: 0.8318248390095944,\n",
       " 202: 0.7721086306958109,\n",
       " 748: 0.7723672737156486,\n",
       " 598: 0.8320320429400101,\n",
       " 479: 0.7717958696368745,\n",
       " 223: 0.7714907923235816}"
      ]
     },
     "execution_count": 365,
     "metadata": {},
     "output_type": "execute_result"
    }
   ],
   "source": [
    "{key: value for (key, value) in metric1.items() if value > 0.5}"
   ]
  },
  {
   "cell_type": "code",
   "execution_count": null,
   "metadata": {},
   "outputs": [],
   "source": []
  },
  {
   "cell_type": "code",
   "execution_count": 366,
   "metadata": {},
   "outputs": [
    {
     "data": {
      "image/png": "[encoded data removed]",
      "text/plain": [
       "<Figure size 432x288 with 1 Axes>"
      ]
     },
     "metadata": {
      "needs_background": "light"
     },
     "output_type": "display_data"
    }
   ],
   "source": [
    "plt.hist(metric1.values(), bins=10)\n",
    "plt.show()"
   ]
  },
  {
   "cell_type": "code",
   "execution_count": 367,
   "metadata": {},
   "outputs": [
    {
     "data": {
      "image/png": "[encoded data removed]",
      "text/plain": [
       "<Figure size 432x288 with 1 Axes>"
      ]
     },
     "metadata": {
      "needs_background": "light"
     },
     "output_type": "display_data"
    }
   ],
   "source": [
    "plt.hist(metric2.values(), bins=10)\n",
    "plt.show()"
   ]
  },
  {
   "cell_type": "code",
   "execution_count": 95,
   "metadata": {},
   "outputs": [],
   "source": [
    "# (0.11196267576564962, 0.15300247324857455, 0.05040297954126225)"
   ]
  },
  {
   "cell_type": "code",
   "execution_count": 107,
   "metadata": {},
   "outputs": [
    {
     "name": "stdout",
     "output_type": "stream",
     "text": [
      "0.9500000000000004 0.07639451056616114\n"
     ]
    }
   ],
   "source": [
    "predicted = pd.read_csv(\"kaggle_problems/rosneft_proppant/workspace/answers.csv\")\n",
    "predicted = predicted[predicted.ImageId.isin(bw_img)]\n",
    "mi = 10\n",
    "mi_c = -1\n",
    "for c in np.arange(0.5, 1.3, 0.01):\n",
    "\n",
    "    _predicted = copy.deepcopy(predicted)\n",
    "    _predicted['prop_size'] *= c;\n",
    "    res = metrics.contest_metric(train, _predicted)\n",
    "    if (mi > res[1]):\n",
    "        mi = res[1]\n",
    "        mi_c = c;\n",
    "        \n",
    "print(mi_c, mi)\n"
   ]
  },
  {
   "cell_type": "code",
   "execution_count": 1174,
   "metadata": {},
   "outputs": [
    {
     "ename": "NameError",
     "evalue": "name 'best_mi_c' is not defined",
     "output_type": "error",
     "traceback": [
      "\u001b[0;31m---------------------------------------------------------------------------\u001b[0m",
      "\u001b[0;31mNameError\u001b[0m                                 Traceback (most recent call last)",
      "\u001b[0;32m<ipython-input-1174-d25fa088d3cd>\u001b[0m in \u001b[0;36m<module>\u001b[0;34m\u001b[0m\n\u001b[0;32m----> 1\u001b[0;31m \u001b[0mprint\u001b[0m\u001b[0;34m(\u001b[0m\u001b[0mbest_mi_c\u001b[0m\u001b[0;34m)\u001b[0m\u001b[0;34m\u001b[0m\u001b[0;34m\u001b[0m\u001b[0m\n\u001b[0m",
      "\u001b[0;31mNameError\u001b[0m: name 'best_mi_c' is not defined"
     ]
    }
   ],
   "source": [
    "print(best_mi_c)"
   ]
  },
  {
   "cell_type": "code",
   "execution_count": 1175,
   "metadata": {},
   "outputs": [
    {
     "name": "stdout",
     "output_type": "stream",
     "text": [
      "1\n"
     ]
    }
   ],
   "source": [
    "print(len(predicted.ImageId.unique()))"
   ]
  },
  {
   "cell_type": "code",
   "execution_count": null,
   "metadata": {},
   "outputs": [],
   "source": [
    "colored_img = [img[:-len(\".jpg\")] for img in os.listdir(COLORED_IMG_DIR) if img.endswith('.jpg')]\n",
    "bw_img = [img[:-len(\".jpg\")] for img in os.listdir(BW_IMG_DIR) if img.endswith('.jpg')]"
   ]
  },
  {
   "cell_type": "code",
   "execution_count": null,
   "metadata": {},
   "outputs": [],
   "source": [
    "#train = train[np.logical_and(~train.prop_count.isnull(), ~train['16'].isnull())]"
   ]
  },
  {
   "cell_type": "code",
   "execution_count": null,
   "metadata": {},
   "outputs": [],
   "source": []
  },
  {
   "cell_type": "code",
   "execution_count": null,
   "metadata": {},
   "outputs": [],
   "source": [
    "train[train.ImageId.isin(colored_img)].describe()"
   ]
  },
  {
   "cell_type": "code",
   "execution_count": null,
   "metadata": {},
   "outputs": [],
   "source": [
    "bins = ['6', '7', '8', '10', '12', '14', '16', '18', '20', '25', '30', '35', '40', '45', '50', '60', '70', '80', '100']\n",
    "bins_mm = [\n",
    "    3.35,\n",
    "    2.8,\n",
    "    2.36,\n",
    "    2.,\n",
    "    1.7,\n",
    "    1.4,\n",
    "    1.18,\n",
    "    1.,\n",
    "    0.85,\n",
    "    0.71,\n",
    "    0.6,\n",
    "    0.5,\n",
    "    0.425,\n",
    "    0.355,\n",
    "    0.3,\n",
    "    0.25,\n",
    "    0.212,\n",
    "    0.18,\n",
    "    0.15\n",
    "]\n",
    "bins_pixel = [b * 30 for b in bins_mm]\n",
    "bins_dict = {key: value for key, value in zip(bins, bins_pixel)}\n",
    "print(bins_dict)"
   ]
  },
  {
   "cell_type": "code",
   "execution_count": null,
   "metadata": {},
   "outputs": [],
   "source": [
    "#print([str(i) + \".jpg\"  for i in train[np.logical_and(~train.prop_count.isnull(), ~train['16'].isnull())]['ImageId'].to_numpy()])"
   ]
  },
  {
   "cell_type": "code",
   "execution_count": null,
   "metadata": {},
   "outputs": [],
   "source": [
    "train = train[train.ImageId == 8]\n",
    "predicted = predicted[predicted.ImageId == 8]"
   ]
  },
  {
   "cell_type": "code",
   "execution_count": null,
   "metadata": {},
   "outputs": [],
   "source": [
    "print(train)"
   ]
  },
  {
   "cell_type": "code",
   "execution_count": null,
   "metadata": {},
   "outputs": [],
   "source": [
    "plt.hist(predicted.prop_size.values, bins=100)\n",
    "plt.show()"
   ]
  },
  {
   "cell_type": "code",
   "execution_count": null,
   "metadata": {},
   "outputs": [],
   "source": [
    "print(len(predicted))"
   ]
  },
  {
   "cell_type": "code",
   "execution_count": null,
   "metadata": {},
   "outputs": [],
   "source": [
    "train[~train.prop_count.isnull()]"
   ]
  },
  {
   "cell_type": "code",
   "execution_count": null,
   "metadata": {},
   "outputs": [],
   "source": [
    "# best_mi_c = []\n",
    "# for img in [ 41,  42,  47,  73, 100, 112, 151, 152, 179, 191, 214, 215, 227, 237, 308, 348, 416, 424, 440, 492, 496, 524, 553, 592, 616, 655, 714]:\n",
    "\n",
    "#     print(img)\n",
    "#     predicted = pd.read_csv(\"kaggle_problems/rosneft_proppant/workspace/answers.csv\")\n",
    "#     train = pd.read_csv(\"kaggle_problems/rosneft_proppant/workspace/data/labels/labels.csv\")\n",
    "\n",
    "#     train = train[train.ImageId == img]\n",
    "#     predicted = predicted[predicted.ImageId == img]\n",
    "\n",
    "#     mi = 10\n",
    "#     mi_c = -1\n",
    "#     for c in np.arange(0.5, 1., 0.01):\n",
    "#         _predicted = copy.deepcopy(predicted)\n",
    "#         _predicted['prop_size'] *= c;\n",
    "#         res = metrics.contest_metric(train, _predicted)\n",
    "#         if (mi > res[0]):\n",
    "#             mi = res[0]\n",
    "#             mi_c = c;\n",
    "#     best_mi_c.append(mi_c)"
   ]
  }
 ],
 "metadata": {
  "kernelspec": {
   "display_name": "Python 3",
   "language": "python",
   "name": "python3"
  },
  "language_info": {
   "codemirror_mode": {
    "name": "ipython",
    "version": 3
   },
   "file_extension": ".py",
   "mimetype": "text/x-python",
   "name": "python",
   "nbconvert_exporter": "python",
   "pygments_lexer": "ipython3",
   "version": "3.7.3"
  }
 },
 "nbformat": 4,
 "nbformat_minor": 2
}
