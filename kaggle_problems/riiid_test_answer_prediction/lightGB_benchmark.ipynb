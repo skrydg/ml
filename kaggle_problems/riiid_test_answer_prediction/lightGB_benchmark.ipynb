{
 "cells": [
  {
   "cell_type": "code",
   "execution_count": 1,
   "metadata": {},
   "outputs": [],
   "source": [
    "kaggle_env = 0"
   ]
  },
  {
   "cell_type": "code",
   "execution_count": 2,
   "metadata": {},
   "outputs": [],
   "source": [
    "if not kaggle_env:\n",
    "    import os\n",
    "    import sys\n",
    "    while not os.getcwd().endswith('ml'):\n",
    "        os.chdir('..')\n",
    "    sys.path.insert(0, os.getcwd())"
   ]
  },
  {
   "cell_type": "code",
   "execution_count": 3,
   "metadata": {},
   "outputs": [],
   "source": [
    "import pandas as pd\n",
    "import numpy as np\n",
    "import pickle\n",
    "from pathlib import Path\n",
    "import matplotlib.pyplot as plt\n",
    "from sys import getsizeof\n",
    "import gc"
   ]
  },
  {
   "cell_type": "code",
   "execution_count": 4,
   "metadata": {},
   "outputs": [],
   "source": [
    "if kaggle_env:\n",
    "    COUNT_BATCH_USING = 10\n",
    "else:\n",
    "    COUNT_BATCH_USING = 2\n",
    "TEST_SIZE = 0.1\n",
    "\n",
    "if kaggle_env:\n",
    "    input_dir = Path('../input/riiid-test-answer-prediction')\n",
    "    batched_dir = Path('../input/riiid-split-input-data') / \"batched_by_user_train\"\n",
    "    model_dir = Path('../input/lightgb-benchmark')\n",
    "else:\n",
    "    input_dir = Path('kaggle_problems/riiid_test_answer_prediction/workspace/data')\n",
    "    batched_dir = Path('kaggle_problems/riiid_test_answer_prediction/workspace/data') / \"batched_by_user_train\"\n",
    "    model_dir = Path('kaggle_problems/riiid_test_answer_prediction/models')\n",
    "\n",
    "FILE_LIST = [i for i in batched_dir.glob(\"*.pkl\")]\n"
   ]
  },
  {
   "cell_type": "code",
   "execution_count": 5,
   "metadata": {},
   "outputs": [
    {
     "name": "stdout",
     "output_type": "stream",
     "text": [
      "len of lectures=418, len of questions=13523\n"
     ]
    }
   ],
   "source": [
    "lectures = pd.read_csv(\"{}/lectures.csv\".format(input_dir))\n",
    "questions = pd.read_csv(\"{}/questions.csv\".format(input_dir))\n",
    "\n",
    "print(\"len of lectures={}, len of questions={}\".format(len(lectures), len(questions)))\n",
    "\n",
    "def apply_to_train(files, f):\n",
    "    for file in files:\n",
    "        train = pickle.load(open(file, 'rb'))\n",
    "        yield f(train)"
   ]
  },
  {
   "cell_type": "code",
   "execution_count": 6,
   "metadata": {},
   "outputs": [],
   "source": [
    "START_INTERVAL = 4 * 365 * 24 * 60 * 60 * 1000\n",
    "def enrich_event_time(train, seed):\n",
    "    np.random.seed(seed)\n",
    "    \n",
    "    time_on_server = train.groupby('user_id')['timestamp'].max()\n",
    "        \n",
    "    users = train['user_id'].unique()\n",
    "    start_time = (np.random.rand(len(users)) * (START_INTERVAL - time_on_server)).astype(np.int)\n",
    "    #np.ones(len(users)) * (START_INTERVAL - time_on_server)\n",
    "    \n",
    "    \n",
    "    user_start_time = pd.DataFrame(data={\"user_id\": users, \"join_time\": start_time}).set_index(['user_id'])\n",
    "\n",
    "    train = pd.concat([train.reset_index(drop=True), \n",
    "           user_start_time.reindex(train['user_id'].values).reset_index(drop=True)], axis=1)\n",
    "    \n",
    "    #print(train['join_time'].mean())\n",
    "    #print(train['timestamp'].mean())\n",
    "    train['event_time'] = train['join_time'] + train['timestamp']\n",
    "    return train\n",
    "\n",
    "def train_test_split(data, test_size, seed=42):\n",
    "    data = enrich_event_time(data, seed)\n",
    "    data = data.sort_values('event_time')\n",
    "    \n",
    "    test_size = int(len(data) * test_size)\n",
    "    train_size = len(data) - test_size\n",
    "    #return data, data[0:0]\n",
    "    return data[:train_size], data[train_size: ]"
   ]
  },
  {
   "cell_type": "code",
   "execution_count": 7,
   "metadata": {},
   "outputs": [],
   "source": [
    "def enrich_content(train):\n",
    "    lecture_train = train[train.content_type_id != 0]\n",
    "    question_train = train[train.content_type_id == 0]\n",
    "    \n",
    "    lecture_train = pd.concat([lecture_train.reset_index(drop=True), \n",
    "       lectures.reindex(lecture_train['content_id'].values).reset_index(drop=True)], axis=1)\n",
    "    \n",
    "    question_train = pd.concat([question_train.reset_index(drop=True), \n",
    "       questions.reindex(question_train['content_id'].values).reset_index(drop=True)], axis=1)\n",
    "    \n",
    "    question_train = question_train.loc[:,~question_train.columns.duplicated()]\n",
    "    lecture_train = lecture_train.loc[:,~lecture_train.columns.duplicated()]\n",
    "    \n",
    "    return lecture_train.append(question_train, ignore_index = True, sort=True)\n"
   ]
  },
  {
   "cell_type": "code",
   "execution_count": 8,
   "metadata": {},
   "outputs": [],
   "source": [
    "class EnrichContentFeatures():\n",
    "    def __init__(self, train_test_split):\n",
    "        self.train_test_split = train_test_split\n",
    "        self.lectures = pd.read_csv(\"{}/lectures.csv\".format(input_dir))\n",
    "        self.questions = pd.read_csv(\"{}/questions.csv\".format(input_dir))\n",
    "\n",
    "        train_name = FILE_LIST\n",
    "            \n",
    "        self.feature_df = pd.concat(apply_to_train(train_name[0:COUNT_BATCH_USING], self.get_stats), axis=0)\n",
    "        self.feature_df = self.feature_df.groupby('content_id').agg({'content_count': ['sum'], 'content_sum': ['sum']}).reset_index()\n",
    "        self.feature_df.columns = ['content_id', 'content_count', 'content_sum']\n",
    "        self.feature_df['content_mean'] = self.feature_df['content_sum'] / self.feature_df['content_count']\n",
    "        \n",
    "    def get_stats(self, data):\n",
    "        data, _ = self.train_test_split(data)\n",
    "        \n",
    "        data = data[data.content_type_id == 0]\n",
    "        data = enrich_content(data)\n",
    "        \n",
    "        user_df = data[data.answered_correctly != -1].groupby('content_id').agg({'answered_correctly': ['count', 'sum']}).reset_index()\n",
    "        user_df.columns = ['content_id', 'content_count', 'content_sum']\n",
    "        return user_df\n",
    "        \n",
    "    def update(self, data):\n",
    "        stats = self.get_stats(data)\n",
    "        self.feature_df = pd.concat([self.feature_df, stats], axis=0)\n",
    "        self.feature_df = self.feature_df.groupby('content_id').agg({'content_count': ['sum'], 'content_sum': ['sum']}).reset_index()\n",
    "        self.feature_df.columns = ['content_id', 'content_count', 'content_sum']\n",
    "        self.feature_df['content_mean'] = self.feature_df['content_sum'] / self.feature_df['content_count']\n",
    "        \n",
    "    def enrich(self, data):\n",
    "        data = data.join(self.feature_df.set_index('content_id'), on='content_id')\n",
    "        data['content_sum'] = data['content_sum'].fillna(0)\n",
    "        data['content_count'] = data['content_count'].fillna(0)\n",
    "        data['content_mean'] = data['content_mean'].fillna(0.5)\n",
    "        \n",
    "        return data"
   ]
  },
  {
   "cell_type": "code",
   "execution_count": 9,
   "metadata": {},
   "outputs": [
    {
     "data": {
      "text/html": [
       "<div>\n",
       "<style scoped>\n",
       "    .dataframe tbody tr th:only-of-type {\n",
       "        vertical-align: middle;\n",
       "    }\n",
       "\n",
       "    .dataframe tbody tr th {\n",
       "        vertical-align: top;\n",
       "    }\n",
       "\n",
       "    .dataframe thead th {\n",
       "        text-align: right;\n",
       "    }\n",
       "</style>\n",
       "<table border=\"1\" class=\"dataframe\">\n",
       "  <thead>\n",
       "    <tr style=\"text-align: right;\">\n",
       "      <th></th>\n",
       "      <th>content_id</th>\n",
       "      <th>content_count</th>\n",
       "      <th>content_sum</th>\n",
       "      <th>content_mean</th>\n",
       "    </tr>\n",
       "  </thead>\n",
       "  <tbody>\n",
       "    <tr>\n",
       "      <th>424</th>\n",
       "      <td>424</td>\n",
       "      <td>330</td>\n",
       "      <td>236</td>\n",
       "      <td>0.715152</td>\n",
       "    </tr>\n",
       "    <tr>\n",
       "      <th>12894</th>\n",
       "      <td>13071</td>\n",
       "      <td>1</td>\n",
       "      <td>1</td>\n",
       "      <td>1.000000</td>\n",
       "    </tr>\n",
       "    <tr>\n",
       "      <th>4794</th>\n",
       "      <td>4816</td>\n",
       "      <td>53</td>\n",
       "      <td>44</td>\n",
       "      <td>0.830189</td>\n",
       "    </tr>\n",
       "  </tbody>\n",
       "</table>\n",
       "</div>"
      ],
      "text/plain": [
       "       content_id  content_count  content_sum  content_mean\n",
       "424           424            330          236      0.715152\n",
       "12894       13071              1            1      1.000000\n",
       "4794         4816             53           44      0.830189"
      ]
     },
     "execution_count": 9,
     "metadata": {},
     "output_type": "execute_result"
    }
   ],
   "source": [
    "contentFeatures = EnrichContentFeatures(lambda x: train_test_split(x, TEST_SIZE))\n",
    "contentFeatures.feature_df.sample(3)"
   ]
  },
  {
   "cell_type": "code",
   "execution_count": 10,
   "metadata": {},
   "outputs": [],
   "source": [
    "class EnrichUserFeatures():\n",
    "    def __init__(self, train_test_split):\n",
    "        self.train_test_split = train_test_split\n",
    "        self.lectures = pd.read_csv(\"{}/lectures.csv\".format(input_dir))\n",
    "        self.questions = pd.read_csv(\"{}/questions.csv\".format(input_dir))\n",
    "\n",
    "        train_name = FILE_LIST\n",
    "        self.feature_df = pd.concat(apply_to_train(train_name[0:COUNT_BATCH_USING], self.get_stats), axis=0).set_index('user_id')\n",
    "        self.feature_df = self.feature_df.groupby('user_id').agg({'user_count': ['sum'], 'user_sum': ['sum']}).reset_index()\n",
    "        self.feature_df.columns = ['user_id', 'user_count', 'user_sum']\n",
    "        self.feature_df['user_mean'] = self.feature_df['user_sum'].astype(np.double) / self.feature_df['user_count']\n",
    "                 \n",
    "    def get_stats(self, data):\n",
    "        data, _ = self.train_test_split(data)\n",
    "        \n",
    "        question_data = data[data.content_type_id == 0] # stay only questions\n",
    "        lectures_data = data[data.content_type_id != 0]\n",
    "        question_data = question_data.sort_values('timestamp')\n",
    "\n",
    "        user_df = data[data.answered_correctly != -1].groupby('user_id').agg({'answered_correctly': ['count', 'sum']}).reset_index()\n",
    "        user_df.columns = ['user_id', 'user_count', 'user_sum']\n",
    "        return user_df\n",
    "    \n",
    "    def update(self, data):\n",
    "        stats = self.get_stats(data)\n",
    "        self.feature_df = pd.concat([self.feature_df, stats], axis=0)\n",
    "        self.feature_df = self.feature_df.groupby('user_id').agg({'user_count': ['sum'], 'user_sum': ['sum']}).reset_index()\n",
    "        self.feature_df.columns = ['user_id', 'user_count', 'user_sum']\n",
    "        self.feature_df['user_mean'] = self.feature_df['user_sum'].astype(np.double) / self.feature_df['user_count']\n",
    "        \n",
    "    def enrich(self, data):\n",
    "        data = data.join(self.feature_df.set_index('user_id'), on='user_id')\n",
    "        data['user_sum'] = data['user_sum'].fillna(0)\n",
    "        data['user_count'] = data['user_count'].fillna(0)\n",
    "        data['user_mean'] = data['user_mean'].fillna(0.5)\n",
    "        \n",
    "        return data"
   ]
  },
  {
   "cell_type": "code",
   "execution_count": 11,
   "metadata": {},
   "outputs": [],
   "source": [
    "userFeatures = EnrichUserFeatures(lambda x: train_test_split(x, TEST_SIZE))"
   ]
  },
  {
   "cell_type": "code",
   "execution_count": 12,
   "metadata": {},
   "outputs": [],
   "source": [
    "def enrich_features(train):\n",
    "    train = enrich_content(train)\n",
    "    train = contentFeatures.enrich(train)\n",
    "    train = userFeatures.enrich(train)\n",
    "    return train"
   ]
  },
  {
   "cell_type": "code",
   "execution_count": 13,
   "metadata": {},
   "outputs": [],
   "source": [
    "def feature_transform(train, is_train=True):\n",
    "    train = train[train.content_type_id == 0]\n",
    "    train.fillna({\"prior_question_elapsed_time\": 0}, inplace=True)\n",
    "    train['prior_question_elapsed_time'] /= 1000\n",
    "\n",
    "    train = train.astype({\n",
    "        \"user_sum\": np.uint16,\n",
    "        \"user_count\": np.uint16,\n",
    "        \"user_mean\": np.float16,\n",
    "        \"content_id\": np.uint16,\n",
    "        \"content_mean\": np.float16,\n",
    "        \"content_sum\": np.uint16,\n",
    "        \"prior_question_elapsed_time\": np.float16,\n",
    "#        \"user_id\": np.uint64\n",
    "    })\n",
    "    if is_train:\n",
    "        train = train.astype({\"answered_correctly\": np.bool})\n",
    "    \n",
    "    return train\n",
    "\n",
    "features = [\n",
    "#    'user_id',\n",
    "    'user_sum', \n",
    "    'user_count', \n",
    "    'user_mean', \n",
    "    'content_id', \n",
    "    'content_mean',\n",
    "    'content_sum', \n",
    "    'prior_question_elapsed_time'\n",
    "]\n",
    "\n",
    "def preprocessing(train):\n",
    "    train = enrich_features(train)\n",
    "    train = feature_transform(train)\n",
    "\n",
    "    train_dataset, test_dataset = train_test_split(train, test_size=TEST_SIZE)\n",
    "    y_train = train_dataset['answered_correctly'].reset_index(drop=True)\n",
    "    X_train = train_dataset[features].reset_index(drop=True)\n",
    "\n",
    "    y_test = test_dataset['answered_correctly'].reset_index(drop=True)\n",
    "    X_test = test_dataset[features].reset_index(drop=True)\n",
    "    return (X_train, y_train), (X_test, y_test)"
   ]
  },
  {
   "cell_type": "code",
   "execution_count": 14,
   "metadata": {
    "scrolled": true
   },
   "outputs": [
    {
     "name": "stderr",
     "output_type": "stream",
     "text": [
      "/Users/skrrydg/anaconda3/lib/python3.7/site-packages/pandas/core/generic.py:6130: SettingWithCopyWarning: \n",
      "A value is trying to be set on a copy of a slice from a DataFrame\n",
      "\n",
      "See the caveats in the documentation: http://pandas.pydata.org/pandas-docs/stable/indexing.html#indexing-view-versus-copy\n",
      "  self._update_inplace(new_data)\n",
      "/Users/skrrydg/anaconda3/lib/python3.7/site-packages/ipykernel_launcher.py:4: SettingWithCopyWarning: \n",
      "A value is trying to be set on a copy of a slice from a DataFrame.\n",
      "Try using .loc[row_indexer,col_indexer] = value instead\n",
      "\n",
      "See the caveats in the documentation: http://pandas.pydata.org/pandas-docs/stable/indexing.html#indexing-view-versus-copy\n",
      "  after removing the cwd from sys.path.\n",
      "/Users/skrrydg/anaconda3/lib/python3.7/site-packages/pandas/core/generic.py:6130: SettingWithCopyWarning: \n",
      "A value is trying to be set on a copy of a slice from a DataFrame\n",
      "\n",
      "See the caveats in the documentation: http://pandas.pydata.org/pandas-docs/stable/indexing.html#indexing-view-versus-copy\n",
      "  self._update_inplace(new_data)\n",
      "/Users/skrrydg/anaconda3/lib/python3.7/site-packages/ipykernel_launcher.py:4: SettingWithCopyWarning: \n",
      "A value is trying to be set on a copy of a slice from a DataFrame.\n",
      "Try using .loc[row_indexer,col_indexer] = value instead\n",
      "\n",
      "See the caveats in the documentation: http://pandas.pydata.org/pandas-docs/stable/indexing.html#indexing-view-versus-copy\n",
      "  after removing the cwd from sys.path.\n"
     ]
    },
    {
     "name": "stdout",
     "output_type": "stream",
     "text": [
      "memory usage X_train: 23 Mb, y_train: 1 Mb, X_test: 2 Mb, y_test: 0 Mb\n"
     ]
    }
   ],
   "source": [
    "train_name = FILE_LIST\n",
    "    \n",
    "X_train = []\n",
    "y_train = []\n",
    "X_test = []\n",
    "y_test = []\n",
    "\n",
    "for (X_train_batch, y_train_batch), (X_test_batch, y_test_batch) in apply_to_train(train_name[0:COUNT_BATCH_USING], preprocessing):\n",
    "    X_train.append(X_train_batch)\n",
    "    y_train.append(y_train_batch)\n",
    "    X_test.append(X_test_batch)\n",
    "    y_test.append(y_test_batch)\n",
    "\n",
    "\n",
    "X_train = pd.concat(X_train, axis=0, ignore_index=True)\n",
    "y_train = pd.concat(y_train, axis=0, ignore_index=True)\n",
    "X_test = pd.concat(X_test, axis=0, ignore_index=True)\n",
    "y_test = pd.concat(y_test, axis=0, ignore_index=True)\n",
    "\n",
    "\n",
    "print(\"memory usage X_train: {} Mb, y_train: {} Mb, X_test: {} Mb, y_test: {} Mb\".format(\n",
    "    int(getsizeof(X_train) / 1024 / 1024),\n",
    "    int(getsizeof(y_train) / 1024 / 1024),\n",
    "    int(getsizeof(X_test) / 1024 / 1024),\n",
    "    int(getsizeof(y_test) / 1024 / 1024))\n",
    ")"
   ]
  },
  {
   "cell_type": "code",
   "execution_count": 15,
   "metadata": {},
   "outputs": [],
   "source": [
    "#test_unique = set(X_test.user_id.unique())\n",
    "#train_unique = set(X_train.user_id.unique())\n",
    "#print(\"All: {}, Train: {}, Test: {}\".format(len(test_unique | train_unique), len(train_unique), len(test_unique)))"
   ]
  },
  {
   "cell_type": "code",
   "execution_count": 16,
   "metadata": {},
   "outputs": [
    {
     "data": {
      "text/html": [
       "<style type='text/css'>\n",
       ".datatable table.frame { margin-bottom: 0; }\n",
       ".datatable table.frame thead { border-bottom: none; }\n",
       ".datatable table.frame tr.coltypes td {  color: #FFFFFF;  line-height: 6px;  padding: 0 0.5em;}\n",
       ".datatable .bool    { background: #DDDD99; }\n",
       ".datatable .object  { background: #565656; }\n",
       ".datatable .int     { background: #5D9E5D; }\n",
       ".datatable .float   { background: #4040CC; }\n",
       ".datatable .str     { background: #CC4040; }\n",
       ".datatable .row_index {  background: var(--jp-border-color3);  border-right: 1px solid var(--jp-border-color0);  color: var(--jp-ui-font-color3);  font-size: 9px;}\n",
       ".datatable .frame tr.coltypes .row_index {  background: var(--jp-border-color0);}\n",
       ".datatable th:nth-child(2) { padding-left: 12px; }\n",
       ".datatable .hellipsis {  color: var(--jp-cell-editor-border-color);}\n",
       ".datatable .vellipsis {  background: var(--jp-layout-color0);  color: var(--jp-cell-editor-border-color);}\n",
       ".datatable .na {  color: var(--jp-cell-editor-border-color);  font-size: 80%;}\n",
       ".datatable .footer { font-size: 9px; }\n",
       ".datatable .frame_dimensions {  background: var(--jp-border-color3);  border-top: 1px solid var(--jp-border-color0);  color: var(--jp-ui-font-color3);  display: inline-block;  opacity: 0.6;  padding: 1px 10px 1px 5px;}\n",
       "</style>\n"
      ],
      "text/plain": [
       "<IPython.core.display.HTML object>"
      ]
     },
     "metadata": {},
     "output_type": "display_data"
    },
    {
     "name": "stdout",
     "output_type": "stream",
     "text": [
      "[LightGBM] [Info] Number of positive: 1158261, number of negative: 607532\n",
      "[LightGBM] [Warning] Auto-choosing row-wise multi-threading, the overhead of testing was 0.006506 seconds.\n",
      "You can set `force_row_wise=true` to remove the overhead.\n",
      "And if memory is not enough, you can set `force_col_wise=true`.\n",
      "[LightGBM] [Info] Total Bins 1760\n",
      "[LightGBM] [Info] Number of data points in the train set: 1765793, number of used features: 7\n",
      "[LightGBM] [Info] [binary:BoostFromScore]: pavg=0.655944 -> initscore=0.645270\n",
      "[LightGBM] [Info] Start training from score 0.645270\n",
      "Training until validation scores don't improve for 10 rounds\n",
      "[10]\ttraining's auc: 0.758101\tvalid_1's auc: 0.707784\n",
      "Early stopping, best iteration is:\n",
      "[5]\ttraining's auc: 0.757089\tvalid_1's auc: 0.70895\n"
     ]
    }
   ],
   "source": [
    "import lightgbm as lgb\n",
    "\n",
    "\n",
    "lgb_train = lgb.Dataset(X_train, y_train, categorical_feature = None)\n",
    "lgb_test = lgb.Dataset(X_test, y_test, categorical_feature = None)\n",
    "del X_train, y_train, X_test, y_test\n",
    "gc.collect()\n",
    "\n",
    "params = {'objective': 'binary',\n",
    "          'metric': 'auc',\n",
    "          'seed': 2020,\n",
    "          'learning_rate': 0.1, #default\n",
    "          \"boosting_type\": \"gbdt\", #defaults\n",
    "}\n",
    "\n",
    "\n",
    "model = lgb.train(\n",
    "    params, lgb_train,\n",
    "    valid_sets=[lgb_train, lgb_test],\n",
    "    verbose_eval=10,\n",
    "    num_boost_round=100,\n",
    "    early_stopping_rounds=10,\n",
    ")"
   ]
  },
  {
   "cell_type": "code",
   "execution_count": 17,
   "metadata": {},
   "outputs": [],
   "source": [
    "model_dir.mkdir(parents=True, exist_ok=True)\n",
    "pickle.dump(model, open(model_dir / \"benchmark_model.pkl\", 'wb'))"
   ]
  },
  {
   "cell_type": "code",
   "execution_count": 18,
   "metadata": {},
   "outputs": [
    {
     "data": {
      "image/png": "[encoded data removed]",
      "text/plain": [
       "<Figure size 432x288 with 1 Axes>"
      ]
     },
     "metadata": {
      "needs_background": "light"
     },
     "output_type": "display_data"
    }
   ],
   "source": [
    "lgb.plot_importance(model)\n",
    "plt.show()"
   ]
  },
  {
   "cell_type": "code",
   "execution_count": 19,
   "metadata": {},
   "outputs": [
    {
     "name": "stdout",
     "output_type": "stream",
     "text": [
      "[NbConvertApp] Converting notebook kaggle_problems/riiid_test_answer_prediction/lightGB_benchmark.ipynb to script\n",
      "[NbConvertApp] Writing 11267 bytes to kaggle_problems/riiid_test_answer_prediction/lightGB_benchmark.py\n"
     ]
    }
   ],
   "source": [
    "if not kaggle_env:\n",
    "    !jupyter nbconvert --to script kaggle_problems/riiid_test_answer_prediction/lightGB_benchmark.ipynb"
   ]
  },
  {
   "cell_type": "code",
   "execution_count": null,
   "metadata": {},
   "outputs": [],
   "source": []
  },
  {
   "cell_type": "code",
   "execution_count": 20,
   "metadata": {},
   "outputs": [],
   "source": [
    "# model = pickle.load(open(model_dir / \"benchmark_model.pkl\", 'rb'))\n",
    "# data = pickle.load(open(FILE_LIST[-1], 'rb'))\n",
    "# data = enrich_features(data)\n",
    "# data = feature_transform(data)\n",
    "# data = data[features].reset_index(drop=True)"
   ]
  },
  {
   "cell_type": "code",
   "execution_count": 21,
   "metadata": {},
   "outputs": [],
   "source": [
    "# data.sample(1)"
   ]
  },
  {
   "cell_type": "code",
   "execution_count": 22,
   "metadata": {},
   "outputs": [],
   "source": [
    "# model.predict(data)"
   ]
  },
  {
   "cell_type": "code",
   "execution_count": null,
   "metadata": {},
   "outputs": [],
   "source": []
  }
 ],
 "metadata": {
  "kernelspec": {
   "display_name": "Python 3",
   "language": "python",
   "name": "python3"
  },
  "language_info": {
   "codemirror_mode": {
    "name": "ipython",
    "version": 3
   },
   "file_extension": ".py",
   "mimetype": "text/x-python",
   "name": "python",
   "nbconvert_exporter": "python",
   "pygments_lexer": "ipython3",
   "version": "3.7.3"
  }
 },
 "nbformat": 4,
 "nbformat_minor": 2
}
