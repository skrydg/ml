{
 "cells": [
  {
   "cell_type": "code",
   "execution_count": 1,
   "metadata": {},
   "outputs": [],
   "source": [
    "import os\n",
    "import sys\n",
    "while not os.getcwd().endswith('ml'):\n",
    "    os.chdir('..')\n",
    "sys.path.insert(0, os.getcwd())"
   ]
  },
  {
   "cell_type": "code",
   "execution_count": 6,
   "metadata": {},
   "outputs": [],
   "source": [
    "import pandas as pd\n",
    "import numpy as np\n",
    "import copy\n",
    "\n",
    "from sklearn.ensemble import RandomForestRegressor\n",
    "from sklearn.model_selection import train_test_split\n",
    "from sklearn.metrics import mean_squared_error\n",
    "from sklearn.preprocessing import MultiLabelBinarizer\n",
    "from sklearn.preprocessing import OneHotEncoder\n",
    "from sklearn.model_selection import cross_validate\n",
    "from sklearn.linear_model import LinearRegression\n",
    "from sklearn.model_selection import GridSearchCV, validation_curve\n",
    "\n",
    "import xgboost as xgb\n",
    "\n",
    "import matplotlib.pyplot as plt\n",
    "\n",
    "from kaggle.walmart_recruiting_sales_in_stormy_weather import common"
   ]
  },
  {
   "cell_type": "markdown",
   "metadata": {},
   "source": [
    "#### Считывание данных"
   ]
  },
  {
   "cell_type": "code",
   "execution_count": 7,
   "metadata": {},
   "outputs": [],
   "source": [
    "key = pd.read_csv(\"kaggle/walmart_recruiting_sales_in_stormy_weather/key.csv\")\n",
    "train = pd.read_csv(\"kaggle/walmart_recruiting_sales_in_stormy_weather/train.csv\")\n",
    "test = pd.read_csv(\"kaggle/walmart_recruiting_sales_in_stormy_weather/test.csv\")\n",
    "weather = pd.read_csv(\"kaggle/walmart_recruiting_sales_in_stormy_weather/weather.csv\")"
   ]
  },
  {
   "cell_type": "markdown",
   "metadata": {},
   "source": [
    "#### Удаление товаров которые никогда не торговались"
   ]
  },
  {
   "cell_type": "code",
   "execution_count": 9,
   "metadata": {},
   "outputs": [],
   "source": [
    "common.add_id_field(train)\n",
    "common.add_id_field(test)\n",
    "\n",
    "unclaimed_products = common.get_unclaimed_products(train)\n",
    "unclaimed_ids_from_test = test[test['product'].isin(unclaimed_products)]['id']\n"
   ]
  },
  {
   "cell_type": "markdown",
   "metadata": {},
   "source": [
    "#### Предобработка данных"
   ]
  },
  {
   "cell_type": "code",
   "execution_count": 11,
   "metadata": {},
   "outputs": [
    {
     "name": "stderr",
     "output_type": "stream",
     "text": [
      "/home/skrrydg/.local/lib/python3.7/site-packages/pandas/core/ops/array_ops.py:253: FutureWarning: elementwise comparison failed; returning scalar instead, but in the future will perform elementwise comparison\n",
      "  res_values = method(rvalues)\n"
     ]
    },
    {
     "name": "stdout",
     "output_type": "stream",
     "text": [
      "Diff of columns []\n"
     ]
    }
   ],
   "source": [
    "weather = weather.replace('M', -1)\n",
    "weather = weather.replace('  T', 0.001)\n",
    "\n",
    "for c in set(weather.columns) - set(['date', 'codesum', 'sunrise', 'sunset']):\n",
    "    weather[c] = pd.to_numeric(weather[c])\n",
    "    \n",
    "common.convert_to_minutes(weather['sunrise'])\n",
    "common.convert_to_minutes(weather['sunset'])\n",
    "\n",
    "mlb = MultiLabelBinarizer()\n",
    "codesum_data = pd.DataFrame(mlb.fit_transform(weather['codesum'].str.split()),columns=mlb.classes_)\n",
    "weather_codesum = weather.join(codesum_data.sort_index(axis=1))\n",
    "\n",
    "\n",
    "preprocessed_train = common.preprocessing(train[~train['product'].isin(unclaimed_products)], key, weather_codesum)\n",
    "preprocessed_test = common.preprocessing(test[~test['product'].isin(unclaimed_products)], key, weather_codesum)\n",
    "\n",
    "train_columns = preprocessed_train.columns\n",
    "test_columns = preprocessed_test.columns\n",
    "diff_columns = list(set(train_columns) - set(test_columns))\n",
    "diff_columns.remove(common.TARGET_NAME)\n",
    "print(\"Diff of columns {}\". format(diff_columns))\n",
    "for column in diff_columns:\n",
    "    preprocessed_test[column] = 0 # Add missing field after onehot encoding"
   ]
  },
  {
   "cell_type": "markdown",
   "metadata": {},
   "source": [
    "#### Валидационнная кривая"
   ]
  },
  {
   "cell_type": "code",
   "execution_count": 26,
   "metadata": {},
   "outputs": [],
   "source": [
    "persent = 0.1\n",
    "\n",
    "y = preprocessed_train['units']\n",
    "X = preprocessed_train.loc[:, preprocessed_train.columns != 'units']\n",
    "\n",
    "samples = np.random.choice(X.shape[0], int(X.shape[0] * persent), replace=False)\n",
    "\n",
    "X = X.iloc[samples]\n",
    "y = y.iloc[samples]"
   ]
  },
  {
   "cell_type": "code",
   "execution_count": 28,
   "metadata": {},
   "outputs": [
    {
     "data": {
      "image/png": "[encoded data removed]",
      "text/plain": [
       "<Figure size 432x288 with 1 Axes>"
      ]
     },
     "metadata": {
      "needs_background": "light"
     },
     "output_type": "display_data"
    }
   ],
   "source": [
    "data = np.geomspace(0.002, 0.6, 10)\n",
    "train_scoreNum, test_scoreNum = validation_curve(\n",
    "                                xgb.XGBRegressor(booster=\"gbtree\", eval_metric=\"rmse\"),\n",
    "                                X = X, y = y, \n",
    "                                param_name = 'learning_rate', \n",
    "                                param_range = data,\n",
    "                                cv = 3,\n",
    "                                scoring='neg_mean_squared_error')\n",
    "\n",
    "train_scoreNum = -np.mean(train_scoreNum, axis=1)\n",
    "test_scoreNum = -np.mean(test_scoreNum, axis=1)\n",
    "\n",
    "plt.plot(data, train_scoreNum)\n",
    "plt.plot(data, test_scoreNum)\n",
    "plt.legend([\"train\", \"test\"])\n",
    "plt.title(\"learning_rate\")\n",
    "plt.show()"
   ]
  },
  {
   "cell_type": "code",
   "execution_count": 30,
   "metadata": {},
   "outputs": [
    {
     "data": {
      "image/png": "[encoded data removed]",
      "text/plain": [
       "<Figure size 432x288 with 1 Axes>"
      ]
     },
     "metadata": {
      "needs_background": "light"
     },
     "output_type": "display_data"
    }
   ],
   "source": [
    "data = np.arange(2, 10, 1)\n",
    "train_scoreNum, test_scoreNum = validation_curve(\n",
    "                                xgb.XGBRegressor(booster=\"gbtree\", eval_metric=\"rmse\"),\n",
    "                                X = X, y = y, \n",
    "                                param_name = \"max_depth\", \n",
    "                                param_range = data,\n",
    "                                cv = 3,\n",
    "                                scoring='neg_mean_squared_error')\n",
    "\n",
    "train_scoreNum = -np.mean(train_scoreNum, axis=1)\n",
    "test_scoreNum = -np.mean(test_scoreNum, axis=1)\n",
    "\n",
    "plt.plot(data, train_scoreNum)\n",
    "plt.plot(data, test_scoreNum)\n",
    "plt.legend([\"train\", \"test\"])\n",
    "plt.title(\"max_depth\")\n",
    "plt.show()"
   ]
  },
  {
   "cell_type": "code",
   "execution_count": 34,
   "metadata": {},
   "outputs": [
    {
     "data": {
      "image/png": "[encoded data removed]",
      "text/plain": [
       "<Figure size 432x288 with 1 Axes>"
      ]
     },
     "metadata": {
      "needs_background": "light"
     },
     "output_type": "display_data"
    }
   ],
   "source": [
    "data = np.geomspace(0.0001, 1, 10)\n",
    "train_scoreNum, test_scoreNum = validation_curve(\n",
    "                                xgb.XGBRegressor(booster=\"gbtree\", eval_metric=\"rmse\"),\n",
    "                                X = X, y = y, \n",
    "                                param_name = \"min_split_loss\", \n",
    "                                param_range = data,\n",
    "                                cv = 3,\n",
    "                                scoring='neg_mean_squared_error')\n",
    "\n",
    "train_scoreNum = -np.mean(train_scoreNum, axis=1)\n",
    "test_scoreNum = -np.mean(test_scoreNum, axis=1)\n",
    "\n",
    "plt.plot(data, train_scoreNum)\n",
    "plt.plot(data, test_scoreNum)\n",
    "plt.legend([\"train\", \"test\"])\n",
    "plt.title(\"min_split_loss\")\n",
    "plt.show()"
   ]
  },
  {
   "cell_type": "code",
   "execution_count": 33,
   "metadata": {},
   "outputs": [
    {
     "data": {
      "image/png": "[encoded data removed]",
      "text/plain": [
       "<Figure size 432x288 with 1 Axes>"
      ]
     },
     "metadata": {
      "needs_background": "light"
     },
     "output_type": "display_data"
    }
   ],
   "source": [
    "data = np.geomspace(0.5, 1, 10)\n",
    "train_scoreNum, test_scoreNum = validation_curve(\n",
    "                                xgb.XGBRegressor(booster=\"gbtree\", eval_metric=\"rmse\"),\n",
    "                                X = X, y = y, \n",
    "                                param_name = \"subsample\", \n",
    "                                param_range = data,\n",
    "                                cv = 3,\n",
    "                                scoring='neg_mean_squared_error')\n",
    "\n",
    "train_scoreNum = -np.mean(train_scoreNum, axis=1)\n",
    "test_scoreNum = -np.mean(test_scoreNum, axis=1)\n",
    "\n",
    "plt.plot(data, train_scoreNum)\n",
    "plt.plot(data, test_scoreNum)\n",
    "plt.legend([\"train\", \"test\"])\n",
    "plt.title(\"subsample\")\n",
    "plt.show()"
   ]
  },
  {
   "cell_type": "code",
   "execution_count": 36,
   "metadata": {},
   "outputs": [
    {
     "data": {
      "image/png": "[encoded data removed]",
      "text/plain": [
       "<Figure size 432x288 with 1 Axes>"
      ]
     },
     "metadata": {
      "needs_background": "light"
     },
     "output_type": "display_data"
    }
   ],
   "source": [
    "data = np.arange(1, 10)\n",
    "train_scoreNum, test_scoreNum = validation_curve(\n",
    "                                xgb.XGBRegressor(booster=\"gbtree\", eval_metric=\"rmse\"),\n",
    "                                X = X, y = y, \n",
    "                                param_name = \"lambda\", \n",
    "                                param_range = data,\n",
    "                                cv = 3,\n",
    "                                scoring='neg_mean_squared_error')\n",
    "\n",
    "train_scoreNum = -np.mean(train_scoreNum, axis=1)\n",
    "test_scoreNum = -np.mean(test_scoreNum, axis=1)\n",
    "\n",
    "plt.plot(data, train_scoreNum)\n",
    "plt.plot(data, test_scoreNum)\n",
    "plt.legend([\"train\", \"test\"])\n",
    "plt.title(\"lambda\")\n",
    "plt.show()"
   ]
  },
  {
   "cell_type": "markdown",
   "metadata": {},
   "source": [
    "#### Кросвалидация"
   ]
  },
  {
   "cell_type": "code",
   "execution_count": null,
   "metadata": {},
   "outputs": [
    {
     "name": "stdout",
     "output_type": "stream",
     "text": [
      "Fitting 3 folds for each of 50 candidates, totalling 150 fits\n"
     ]
    },
    {
     "name": "stderr",
     "output_type": "stream",
     "text": [
      "[Parallel(n_jobs=1)]: Using backend SequentialBackend with 1 concurrent workers.\n"
     ]
    }
   ],
   "source": [
    "persent = 0.1\n",
    "\n",
    "y = preprocessed_train['units']\n",
    "X = preprocessed_train.loc[:, preprocessed_train.columns != 'units']\n",
    "\n",
    "samples = np.random.choice(X.shape[0], int(X.shape[0] * persent), replace=False)\n",
    "\n",
    "X = X.iloc[samples]\n",
    "y = y.iloc[samples]\n",
    "\n",
    "\n",
    "max_depths = range(5, 10)\n",
    "learning_rates = np.geomspace(0.002, 0.6, 10)\n",
    "\n",
    "\n",
    "hyperF = dict(learning_rate=learning_rates, max_depth = max_depths)\n",
    "\n",
    "model = xgb.XGBRegressor(booster=\"gbtree\", eval_metric=\"rmse\")\n",
    "\n",
    "model.fit(X, y)\n",
    "\n",
    "gridF = GridSearchCV(model, \n",
    "                     hyperF, \n",
    "                     cv = 3, \n",
    "                     verbose = 1,\n",
    "                     scoring='neg_mean_squared_error')\n",
    "\n",
    "bestF = gridF.fit(X, y)"
   ]
  },
  {
   "cell_type": "code",
   "execution_count": null,
   "metadata": {},
   "outputs": [],
   "source": [
    "print(bestF.best_params_, -bestF.best_score_)"
   ]
  },
  {
   "cell_type": "markdown",
   "metadata": {},
   "source": [
    "#### Обучение модели"
   ]
  },
  {
   "cell_type": "code",
   "execution_count": 40,
   "metadata": {},
   "outputs": [],
   "source": [
    "y = preprocessed_train['units']\n",
    "X = preprocessed_train.loc[:, preprocessed_train.columns != 'units']"
   ]
  },
  {
   "cell_type": "code",
   "execution_count": 41,
   "metadata": {},
   "outputs": [],
   "source": [
    "model = xgb.XGBRegressor(booster=\"gbtree\", eval_metric=\"rmse\", n_estimators=500, **bestF.best_params_) "
   ]
  },
  {
   "cell_type": "code",
   "execution_count": 42,
   "metadata": {},
   "outputs": [
    {
     "data": {
      "text/plain": [
       "XGBRegressor(base_score=0.5, booster='gbtree', colsample_bylevel=1,\n",
       "             colsample_bynode=1, colsample_bytree=1, eval_metric='rmse',\n",
       "             gamma=0, gpu_id=-1, importance_type='gain',\n",
       "             interaction_constraints='', learning_rate=0.16891952847063652,\n",
       "             max_delta_step=0, max_depth=6, min_child_weight=1, missing=nan,\n",
       "             monotone_constraints='()', n_estimators=500, n_jobs=0,\n",
       "             num_parallel_tree=1, random_state=0, reg_alpha=0, reg_lambda=1,\n",
       "             scale_pos_weight=1, subsample=1, tree_method='exact',\n",
       "             validate_parameters=1, verbosity=None)"
      ]
     },
     "execution_count": 42,
     "metadata": {},
     "output_type": "execute_result"
    }
   ],
   "source": [
    "model.fit(X, y)"
   ]
  },
  {
   "cell_type": "markdown",
   "metadata": {},
   "source": [
    "#### Предсказание"
   ]
  },
  {
   "cell_type": "code",
   "execution_count": 43,
   "metadata": {},
   "outputs": [],
   "source": [
    "y_predict = model.predict(preprocessed_test)\n",
    "y_predict = np.exp(y_predict) - 1"
   ]
  },
  {
   "cell_type": "code",
   "execution_count": 44,
   "metadata": {},
   "outputs": [],
   "source": [
    "cleared_test = test[~test['product'].isin(unclaimed_products)]\n",
    "_id = (cleared_test[\"store_nbr\"].astype(\"str\") + \"_\" + cleared_test[\"item_nbr\"].astype(\"str\") + \"_\" + cleared_test[\"date\"].astype('str')).to_numpy()\n",
    "_units = y_predict"
   ]
  },
  {
   "cell_type": "code",
   "execution_count": 45,
   "metadata": {},
   "outputs": [],
   "source": [
    "_id = np.append(_id, unclaimed_ids_from_test)\n",
    "_units = np.append(_units, np.zeros(shape=(len(unclaimed_ids_from_test))))"
   ]
  },
  {
   "cell_type": "code",
   "execution_count": 48,
   "metadata": {},
   "outputs": [],
   "source": [
    "prediction = pd.DataFrame(data={\"id\": _id, \"units\": _units}).set_index(\"id\") \n",
    "prediction.to_csv(\"kaggle/walmart_recruiting_sales_in_stormy_weather/submissions/XGBoost.csv\")"
   ]
  },
  {
   "cell_type": "code",
   "execution_count": null,
   "metadata": {},
   "outputs": [],
   "source": []
  }
 ],
 "metadata": {
  "kernelspec": {
   "display_name": "Python 3",
   "language": "python",
   "name": "python3"
  },
  "language_info": {
   "codemirror_mode": {
    "name": "ipython",
    "version": 3
   },
   "file_extension": ".py",
   "mimetype": "text/x-python",
   "name": "python",
   "nbconvert_exporter": "python",
   "pygments_lexer": "ipython3",
   "version": "3.7.3"
  }
 },
 "nbformat": 4,
 "nbformat_minor": 2
}
