{
 "cells": [
  {
   "cell_type": "code",
   "execution_count": null,
   "metadata": {},
   "outputs": [],
   "source": [
    "import os\n",
    "import sys\n",
    "while not os.getcwd().endswith('ml'):\n",
    "    os.chdir('..')\n",
    "sys.path.insert(0, os.getcwd())"
   ]
  },
  {
   "cell_type": "code",
   "execution_count": null,
   "metadata": {},
   "outputs": [],
   "source": [
    "import pandas as pd\n",
    "import numpy as np\n",
    "import copy\n",
    "\n",
    "from sklearn.ensemble import RandomForestRegressor\n",
    "from sklearn.model_selection import train_test_split\n",
    "from sklearn.metrics import mean_squared_error\n",
    "from sklearn.preprocessing import MultiLabelBinarizer\n",
    "from sklearn.preprocessing import OneHotEncoder\n",
    "from sklearn.model_selection import cross_validate\n",
    "\n",
    "import matplotlib.pyplot as plt"
   ]
  },
  {
   "cell_type": "code",
   "execution_count": null,
   "metadata": {},
   "outputs": [],
   "source": [
    "TARGET_NAME = 'units'"
   ]
  },
  {
   "cell_type": "code",
   "execution_count": null,
   "metadata": {},
   "outputs": [],
   "source": [
    "def get_score(y_true, y_predict):\n",
    "    return math.sqrt(mean_squared_error(y_true, y_predict))"
   ]
  },
  {
   "cell_type": "markdown",
   "metadata": {},
   "source": [
    "#### Считывание данных"
   ]
  },
  {
   "cell_type": "code",
   "execution_count": null,
   "metadata": {},
   "outputs": [],
   "source": [
    "key = pd.read_csv(\"kaggle/walmart-recruiting-sales-in-stormy-weather/key.csv\")\n",
    "train = pd.read_csv(\"kaggle/walmart-recruiting-sales-in-stormy-weather/train.csv\")\n",
    "test = pd.read_csv(\"kaggle/walmart-recruiting-sales-in-stormy-weather/test.csv\")\n",
    "weather = pd.read_csv(\"kaggle/walmart-recruiting-sales-in-stormy-weather/weather.csv\")"
   ]
  },
  {
   "cell_type": "markdown",
   "metadata": {},
   "source": [
    "#### Описание данных"
   ]
  },
  {
   "cell_type": "markdown",
   "metadata": {},
   "source": [
    "#### Предобработка данных"
   ]
  },
  {
   "cell_type": "code",
   "execution_count": null,
   "metadata": {},
   "outputs": [],
   "source": [
    "def convert_to_minutes(x):\n",
    "    x.loc[x == \"-\"] = np.nan\n",
    "    x.loc[~x.isnull()] = (x[~x.isnull()].astype(int) % 100) + (x[~x.isnull()].astype(int) // 100 * 60)"
   ]
  },
  {
   "cell_type": "code",
   "execution_count": null,
   "metadata": {},
   "outputs": [],
   "source": [
    "train.sample()"
   ]
  },
  {
   "cell_type": "markdown",
   "metadata": {},
   "source": [
    "#### Удаление товаров которые никогда не торговались"
   ]
  },
  {
   "cell_type": "code",
   "execution_count": null,
   "metadata": {},
   "outputs": [],
   "source": [
    "def get_unclaimed_products(dataset):\n",
    "    product = np.unique(dataset[\"product\"])\n",
    "    all_non_empty_product = dataset[dataset[\"units\"] > 0][\"product\"]\n",
    "    return set(product) - set(all_non_empty_product)"
   ]
  },
  {
   "cell_type": "code",
   "execution_count": null,
   "metadata": {},
   "outputs": [],
   "source": [
    "def add_id_field(dataset):\n",
    "    dataset[\"product\"] = (dataset[\"store_nbr\"].astype(\"str\") + \"_\" + dataset[\"item_nbr\"].astype(\"str\")).to_numpy()\n",
    "    dataset[\"id\"] = (dataset[\"store_nbr\"].astype(\"str\") + \"_\" + dataset[\"item_nbr\"].astype(\"str\") + \"_\" + dataset[\"date\"].astype('str')).to_numpy()\n"
   ]
  },
  {
   "cell_type": "code",
   "execution_count": null,
   "metadata": {},
   "outputs": [],
   "source": [
    "add_id_field(train)\n",
    "add_id_field(test)\n",
    "\n",
    "unclaimed_products = get_unclaimed_products(train)\n",
    "unclaimed_ids_from_test = test[test['product'].isin(unclaimed_products)]['id']\n"
   ]
  },
  {
   "cell_type": "markdown",
   "metadata": {},
   "source": [
    "#### Предобработка данных"
   ]
  },
  {
   "cell_type": "code",
   "execution_count": null,
   "metadata": {},
   "outputs": [],
   "source": [
    "def preprocessing(data, key, weather, target_field=TARGET_NAME):\n",
    "    data = data.join(key.set_index(\"store_nbr\"), on=\"store_nbr\")\n",
    "    data = data.join(weather.set_index([\"station_nbr\", \"date\"]), on=[\"station_nbr\", \"date\"])\n",
    "    \n",
    "    convert_to_minutes(data['sunrise'])\n",
    "    convert_to_minutes(data['sunset'])\n",
    "    \n",
    "    mlb = MultiLabelBinarizer()\n",
    "    codesum_data = pd.DataFrame(mlb.fit_transform(weather['codesum'].str.split()),columns=mlb.classes_)\n",
    "    for c in codesum_data.columns:\n",
    "        if len(c) < 4:\n",
    "            continue\n",
    "        for sub_c in [c[:2], c[2:]]:\n",
    "            codesum_data.loc[:, sub_c] = codesum_data[c] + (codesum_data[sub_c]) if sub_c in codesum_data.columns else 0\n",
    "        codesum_data.drop(columns=c, inplace=True)\n",
    "    \n",
    "    data.drop(columns=[\"codesum\"], inplace=True)\n",
    "    data = data.join(codesum_data.sort_index(axis=1))\n",
    "    \n",
    "    data.fillna(-1, inplace=True)\n",
    "\n",
    "    needed_columns = [\"store_nbr\", \"item_nbr\", \"date\"]\n",
    "    if target_field in data.columns:\n",
    "        needed_columns.append(target_field)\n",
    "    data = data[needed_columns]\n",
    "    \n",
    "    result = pd.get_dummies(data, columns=[\"store_nbr\", \"item_nbr\"])\n",
    "    if target_field in data.columns:\n",
    "        result.loc[:, target_field] = np.log(data[target_field] + 1)\n",
    "    \n",
    "    result.loc[:, \"timestamp\"] = pd.to_datetime(data[\"date\"], format=\"%Y-%m-%d\").values.astype(np.int64) // 1e9\n",
    "    result = result.drop(columns=[\"date\"])\n",
    "    return result\n"
   ]
  },
  {
   "cell_type": "code",
   "execution_count": null,
   "metadata": {},
   "outputs": [],
   "source": [
    "preprocessed_train = preprocessing(train[~train['product'].isin(unclaimed_products)], key, weather)\n",
    "preprocessed_test = preprocessing(test[~test['product'].isin(unclaimed_products)], key, weather)\n",
    "\n",
    "train_columns = preprocessed_train.columns\n",
    "test_columns = preprocessed_test.columns\n",
    "diff_columns = list(set(train_columns) - set(test_columns))\n",
    "diff_columns.remove(TARGET_NAME)\n",
    "print(\"Diff of columns {}\". format(diff_columns))\n",
    "for column in diff_columns:\n",
    "    preprocessed_test[column] = 0 # Add missing field after onehot encoding"
   ]
  },
  {
   "cell_type": "markdown",
   "metadata": {},
   "source": [
    "#### Кросвалидация "
   ]
  },
  {
   "cell_type": "code",
   "execution_count": null,
   "metadata": {},
   "outputs": [],
   "source": [
    "y = preprocessed_train['units']\n",
    "X = preprocessed_train.loc[:, preprocessed_train.columns != 'units']\n",
    "\n",
    "print(X.shape)\n",
    "\n",
    "depths = []\n",
    "test_score = []\n",
    "train_score = []\n",
    "\n",
    "for depth in range(5, 30, 10):\n",
    "    model = RandomForestRegressor(criterion='mse', n_estimators=10, max_depth=depth)\n",
    "    cv_results = cross_validate(model, X, y, cv=3, return_train_score=True, scoring='neg_mean_squared_error')\n",
    "    depths.append(depth)\n",
    "    test_score.append(-np.mean(cv_results['test_score']))\n",
    "    train_score.append(-np.mean(cv_results['train_score']))\n"
   ]
  },
  {
   "cell_type": "code",
   "execution_count": null,
   "metadata": {},
   "outputs": [],
   "source": [
    "plt.plot(depths, test_score)\n",
    "plt.ylabel('test_score')\n",
    "plt.xlabel('depths')\n",
    "plt.show()"
   ]
  },
  {
   "cell_type": "code",
   "execution_count": null,
   "metadata": {},
   "outputs": [],
   "source": [
    "plt.plot(depths, train_score)\n",
    "plt.ylabel('train_score')\n",
    "plt.xlabel('depths')\n",
    "plt.show()"
   ]
  },
  {
   "cell_type": "markdown",
   "metadata": {},
   "source": [
    "#### Обучение базовой модели"
   ]
  },
  {
   "cell_type": "code",
   "execution_count": null,
   "metadata": {},
   "outputs": [],
   "source": [
    "y = preprocessed_train['units']\n",
    "X = preprocessed_train.loc[:, preprocessed_train.columns != 'units']"
   ]
  },
  {
   "cell_type": "code",
   "execution_count": null,
   "metadata": {},
   "outputs": [],
   "source": [
    "model = RandomForestRegressor(criterion='mse', n_estimators=100, max_depth=25)"
   ]
  },
  {
   "cell_type": "code",
   "execution_count": null,
   "metadata": {},
   "outputs": [],
   "source": [
    "model.fit(X, y)"
   ]
  },
  {
   "cell_type": "markdown",
   "metadata": {},
   "source": [
    "#### Предсказание"
   ]
  },
  {
   "cell_type": "code",
   "execution_count": null,
   "metadata": {},
   "outputs": [],
   "source": [
    "y_predict = model.predict(preprocessed_test)\n",
    "y_predict = np.exp(y_predict) - 1"
   ]
  },
  {
   "cell_type": "code",
   "execution_count": null,
   "metadata": {},
   "outputs": [],
   "source": [
    "cleared_test = test[~test['product'].isin(unclaimed_products)]\n",
    "_id = (cleared_test[\"store_nbr\"].astype(\"str\") + \"_\" + cleared_test[\"item_nbr\"].astype(\"str\") + \"_\" + cleared_test[\"date\"].astype('str')).to_numpy()\n",
    "_units = y_predict"
   ]
  },
  {
   "cell_type": "code",
   "execution_count": null,
   "metadata": {},
   "outputs": [],
   "source": [
    "_id = np.append(_id, unclaimed_ids_from_test)\n",
    "_units = np.append(_units, np.zeros(shape=(len(unclaimed_ids_from_test))))"
   ]
  },
  {
   "cell_type": "code",
   "execution_count": null,
   "metadata": {},
   "outputs": [],
   "source": [
    "prediction = pd.DataFrame(data={\"id\": _id, \"units\": _units}).set_index(\"id\") \n",
    "prediction.to_csv(\"kaggle/walmart-recruiting-sales-in-stormy-weather/submissions/benchmark1.csv\")"
   ]
  },
  {
   "cell_type": "code",
   "execution_count": null,
   "metadata": {},
   "outputs": [],
   "source": []
  }
 ],
 "metadata": {
  "kernelspec": {
   "display_name": "Python 3",
   "language": "python",
   "name": "python3"
  },
  "language_info": {
   "codemirror_mode": {
    "name": "ipython",
    "version": 3
   },
   "file_extension": ".py",
   "mimetype": "text/x-python",
   "name": "python",
   "nbconvert_exporter": "python",
   "pygments_lexer": "ipython3",
   "version": "3.7.3"
  }
 },
 "nbformat": 4,
 "nbformat_minor": 2
}
