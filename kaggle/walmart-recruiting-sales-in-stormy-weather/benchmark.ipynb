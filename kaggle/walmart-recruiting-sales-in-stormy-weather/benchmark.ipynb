{
 "cells": [
  {
   "cell_type": "code",
   "execution_count": 4,
   "metadata": {},
   "outputs": [],
   "source": [
    "import os\n",
    "import sys\n",
    "while not os.getcwd().endswith('ml'):\n",
    "    os.chdir('..')\n",
    "sys.path.insert(0, os.getcwd())"
   ]
  },
  {
   "cell_type": "code",
   "execution_count": 41,
   "metadata": {},
   "outputs": [],
   "source": [
    "import pandas as pd\n",
    "import numpy as np\n",
    "import copy\n",
    "import math\n",
    "\n",
    "from sklearn.ensemble import RandomForestRegressor\n",
    "from sklearn.model_selection import train_test_split\n",
    "from sklearn.metrics import mean_squared_error\n",
    "from sklearn.preprocessing import OneHotEncoder"
   ]
  },
  {
   "cell_type": "code",
   "execution_count": 48,
   "metadata": {},
   "outputs": [],
   "source": [
    "TARGET_NAME = 'units'"
   ]
  },
  {
   "cell_type": "markdown",
   "metadata": {},
   "source": [
    "#### Считывание данных"
   ]
  },
  {
   "cell_type": "code",
   "execution_count": 6,
   "metadata": {},
   "outputs": [],
   "source": [
    "key = pd.read_csv(\"kaggle/walmart-recruiting-sales-in-stormy-weather/key.csv\")\n",
    "train = pd.read_csv(\"kaggle/walmart-recruiting-sales-in-stormy-weather/train.csv\")\n",
    "test = pd.read_csv(\"kaggle/walmart-recruiting-sales-in-stormy-weather/test.csv\")\n",
    "weather = pd.read_csv(\"kaggle/walmart-recruiting-sales-in-stormy-weather/weather.csv\")"
   ]
  },
  {
   "cell_type": "markdown",
   "metadata": {},
   "source": [
    "#### Описание данных"
   ]
  },
  {
   "cell_type": "code",
   "execution_count": 7,
   "metadata": {},
   "outputs": [
    {
     "data": {
      "text/html": [
       "<div>\n",
       "<style scoped>\n",
       "    .dataframe tbody tr th:only-of-type {\n",
       "        vertical-align: middle;\n",
       "    }\n",
       "\n",
       "    .dataframe tbody tr th {\n",
       "        vertical-align: top;\n",
       "    }\n",
       "\n",
       "    .dataframe thead th {\n",
       "        text-align: right;\n",
       "    }\n",
       "</style>\n",
       "<table border=\"1\" class=\"dataframe\">\n",
       "  <thead>\n",
       "    <tr style=\"text-align: right;\">\n",
       "      <th></th>\n",
       "      <th>store_nbr</th>\n",
       "      <th>station_nbr</th>\n",
       "    </tr>\n",
       "  </thead>\n",
       "  <tbody>\n",
       "    <tr>\n",
       "      <th>10</th>\n",
       "      <td>11</td>\n",
       "      <td>10</td>\n",
       "    </tr>\n",
       "  </tbody>\n",
       "</table>\n",
       "</div>"
      ],
      "text/plain": [
       "    store_nbr  station_nbr\n",
       "10         11           10"
      ]
     },
     "execution_count": 7,
     "metadata": {},
     "output_type": "execute_result"
    }
   ],
   "source": [
    "key.sample()"
   ]
  },
  {
   "cell_type": "code",
   "execution_count": 8,
   "metadata": {},
   "outputs": [
    {
     "data": {
      "text/html": [
       "<div>\n",
       "<style scoped>\n",
       "    .dataframe tbody tr th:only-of-type {\n",
       "        vertical-align: middle;\n",
       "    }\n",
       "\n",
       "    .dataframe tbody tr th {\n",
       "        vertical-align: top;\n",
       "    }\n",
       "\n",
       "    .dataframe thead th {\n",
       "        text-align: right;\n",
       "    }\n",
       "</style>\n",
       "<table border=\"1\" class=\"dataframe\">\n",
       "  <thead>\n",
       "    <tr style=\"text-align: right;\">\n",
       "      <th></th>\n",
       "      <th>date</th>\n",
       "      <th>store_nbr</th>\n",
       "      <th>item_nbr</th>\n",
       "      <th>units</th>\n",
       "    </tr>\n",
       "  </thead>\n",
       "  <tbody>\n",
       "    <tr>\n",
       "      <th>3018450</th>\n",
       "      <td>2013-10-15</td>\n",
       "      <td>15</td>\n",
       "      <td>28</td>\n",
       "      <td>0</td>\n",
       "    </tr>\n",
       "  </tbody>\n",
       "</table>\n",
       "</div>"
      ],
      "text/plain": [
       "               date  store_nbr  item_nbr  units\n",
       "3018450  2013-10-15         15        28      0"
      ]
     },
     "execution_count": 8,
     "metadata": {},
     "output_type": "execute_result"
    }
   ],
   "source": [
    "train.sample()"
   ]
  },
  {
   "cell_type": "code",
   "execution_count": 9,
   "metadata": {},
   "outputs": [
    {
     "data": {
      "text/html": [
       "<div>\n",
       "<style scoped>\n",
       "    .dataframe tbody tr th:only-of-type {\n",
       "        vertical-align: middle;\n",
       "    }\n",
       "\n",
       "    .dataframe tbody tr th {\n",
       "        vertical-align: top;\n",
       "    }\n",
       "\n",
       "    .dataframe thead th {\n",
       "        text-align: right;\n",
       "    }\n",
       "</style>\n",
       "<table border=\"1\" class=\"dataframe\">\n",
       "  <thead>\n",
       "    <tr style=\"text-align: right;\">\n",
       "      <th></th>\n",
       "      <th>station_nbr</th>\n",
       "      <th>date</th>\n",
       "      <th>tmax</th>\n",
       "      <th>tmin</th>\n",
       "      <th>tavg</th>\n",
       "      <th>depart</th>\n",
       "      <th>dewpoint</th>\n",
       "      <th>wetbulb</th>\n",
       "      <th>heat</th>\n",
       "      <th>cool</th>\n",
       "      <th>sunrise</th>\n",
       "      <th>sunset</th>\n",
       "      <th>codesum</th>\n",
       "      <th>snowfall</th>\n",
       "      <th>preciptotal</th>\n",
       "      <th>stnpressure</th>\n",
       "      <th>sealevel</th>\n",
       "      <th>resultspeed</th>\n",
       "      <th>resultdir</th>\n",
       "      <th>avgspeed</th>\n",
       "    </tr>\n",
       "  </thead>\n",
       "  <tbody>\n",
       "    <tr>\n",
       "      <th>10081</th>\n",
       "      <td>14</td>\n",
       "      <td>2013-05-26</td>\n",
       "      <td>82</td>\n",
       "      <td>67</td>\n",
       "      <td>75</td>\n",
       "      <td>3</td>\n",
       "      <td>68</td>\n",
       "      <td>70</td>\n",
       "      <td>0</td>\n",
       "      <td>10</td>\n",
       "      <td>0519</td>\n",
       "      <td>1935</td>\n",
       "      <td></td>\n",
       "      <td>0.0</td>\n",
       "      <td>0.00</td>\n",
       "      <td>28.57</td>\n",
       "      <td>29.94</td>\n",
       "      <td>14.9</td>\n",
       "      <td>16</td>\n",
       "      <td>15.1</td>\n",
       "    </tr>\n",
       "  </tbody>\n",
       "</table>\n",
       "</div>"
      ],
      "text/plain": [
       "       station_nbr        date tmax tmin tavg depart dewpoint wetbulb heat  \\\n",
       "10081           14  2013-05-26   82   67   75      3       68      70    0   \n",
       "\n",
       "      cool sunrise sunset codesum snowfall preciptotal stnpressure sealevel  \\\n",
       "10081   10    0519   1935              0.0        0.00       28.57    29.94   \n",
       "\n",
       "      resultspeed resultdir avgspeed  \n",
       "10081        14.9        16     15.1  "
      ]
     },
     "execution_count": 9,
     "metadata": {},
     "output_type": "execute_result"
    }
   ],
   "source": [
    "weather.sample()"
   ]
  },
  {
   "cell_type": "code",
   "execution_count": 10,
   "metadata": {},
   "outputs": [
    {
     "data": {
      "text/plain": [
       "M      1252\n",
       "74      777\n",
       "75      684\n",
       "73      663\n",
       "72      609\n",
       "71      526\n",
       "70      481\n",
       "67      474\n",
       "65      459\n",
       "64      437\n",
       "62      433\n",
       "68      428\n",
       "66      425\n",
       "63      423\n",
       "60      419\n",
       "61      409\n",
       "59      408\n",
       "58      406\n",
       "69      399\n",
       "56      383\n",
       "76      362\n",
       "55      356\n",
       "57      344\n",
       "52      337\n",
       "54      330\n",
       "53      325\n",
       "44      323\n",
       "45      307\n",
       "50      305\n",
       "51      304\n",
       "       ... \n",
       "17       54\n",
       "15       53\n",
       "16       48\n",
       "12       43\n",
       "10       40\n",
       "13       38\n",
       "11       33\n",
       "8        31\n",
       "79       21\n",
       "4        20\n",
       "7        16\n",
       "9        14\n",
       "0        14\n",
       "5        13\n",
       "3        11\n",
       "6         9\n",
       "2         7\n",
       "-3        7\n",
       "1         5\n",
       "-4        4\n",
       "-2        3\n",
       "-5        3\n",
       "-6        2\n",
       "-7        2\n",
       "-10       2\n",
       "-15       1\n",
       "-8        1\n",
       "-9        1\n",
       "-1        1\n",
       "80        1\n",
       "Name: wetbulb, Length: 93, dtype: int64"
      ]
     },
     "execution_count": 10,
     "metadata": {},
     "output_type": "execute_result"
    }
   ],
   "source": [
    "weather.wetbulb.value_counts()"
   ]
  },
  {
   "cell_type": "markdown",
   "metadata": {},
   "source": [
    "#### Предобработка данных"
   ]
  },
  {
   "cell_type": "code",
   "execution_count": 11,
   "metadata": {},
   "outputs": [],
   "source": [
    "def preprocessing(data, key, weather, target_field=TARGET_NAME):\n",
    "    data = data.join(key.set_index(\"store_nbr\"), on=\"store_nbr\")\n",
    "    data = data.join(weather.set_index([\"station_nbr\", \"date\"]), on=[\"station_nbr\", \"date\"])\n",
    "    data.drop(columns=[\"codesum\", \"sunrise\", \"sunset\"])\n",
    "    data.fillna(-1, inplace=True)\n",
    "    \n",
    "    needed_columns = [\"store_nbr\", \"item_nbr\"]\n",
    "    if target_field in data.columns:\n",
    "        needed_columns.append(target_field)\n",
    "    \n",
    "    data = data[needed_columns]\n",
    "    data = pd.get_dummies(data, columns=[\"store_nbr\", \"item_nbr\"])\n",
    "    if target_field in data.columns:\n",
    "        data[target_field] = np.log(data[target_field] + 1)\n",
    "        \n",
    "    return data"
   ]
  },
  {
   "cell_type": "code",
   "execution_count": 62,
   "metadata": {},
   "outputs": [
    {
     "name": "stdout",
     "output_type": "stream",
     "text": [
      "Diff of columns ['store_nbr_35']\n"
     ]
    }
   ],
   "source": [
    "preprocessed_train = preprocessing(train, key, weather)\n",
    "preprocessed_test = preprocessing(test, key, weather)\n",
    "\n",
    "train_columns = preprocessed_train.columns\n",
    "test_columns = preprocessed_test.columns\n",
    "diff_columns = list(set(train_columns) - set(test_columns))\n",
    "diff_columns.remove(TARGET_NAME)\n",
    "print(\"Diff of columns {}\". format(diff_columns))\n",
    "for column in diff_columns:\n",
    "    preprocessed_test[column] = 0 # Add missing field after onehot encoding"
   ]
  },
  {
   "cell_type": "markdown",
   "metadata": {},
   "source": [
    "# Обучение базовой модели"
   ]
  },
  {
   "cell_type": "code",
   "execution_count": 63,
   "metadata": {},
   "outputs": [],
   "source": [
    "y = preprocessed_train['units']\n",
    "X = preprocessed_train.loc[:, preprocessed_train.columns != 'units']"
   ]
  },
  {
   "cell_type": "code",
   "execution_count": 64,
   "metadata": {},
   "outputs": [
    {
     "name": "stdout",
     "output_type": "stream",
     "text": [
      "set()\n",
      "156\n"
     ]
    }
   ],
   "source": [
    "print(set(X.columns) - set(preprocessed_test.columns))\n",
    "print(len(list(preprocessed_test.columns)))"
   ]
  },
  {
   "cell_type": "code",
   "execution_count": 65,
   "metadata": {},
   "outputs": [],
   "source": [
    "model = RandomForestRegressor(criterion='mse')"
   ]
  },
  {
   "cell_type": "code",
   "execution_count": 66,
   "metadata": {},
   "outputs": [
    {
     "name": "stderr",
     "output_type": "stream",
     "text": [
      "/Users/skrrydg/anaconda3/lib/python3.7/site-packages/sklearn/model_selection/_split.py:2179: FutureWarning: From version 0.21, test_size will always complement train_size unless both are specified.\n",
      "  FutureWarning)\n"
     ]
    }
   ],
   "source": [
    "X_train, X_test, y_train, y_test = train_test_split(X, y, train_size=0.7)"
   ]
  },
  {
   "cell_type": "code",
   "execution_count": 67,
   "metadata": {},
   "outputs": [],
   "source": [
    "X_train = X_train[0:100000]\n",
    "y_train = y_train[0:100000]"
   ]
  },
  {
   "cell_type": "code",
   "execution_count": 68,
   "metadata": {},
   "outputs": [
    {
     "name": "stderr",
     "output_type": "stream",
     "text": [
      "/Users/skrrydg/anaconda3/lib/python3.7/site-packages/sklearn/ensemble/forest.py:246: FutureWarning: The default value of n_estimators will change from 10 in version 0.20 to 100 in 0.22.\n",
      "  \"10 in version 0.20 to 100 in 0.22.\", FutureWarning)\n"
     ]
    },
    {
     "data": {
      "text/plain": [
       "RandomForestRegressor(bootstrap=True, criterion='mse', max_depth=None,\n",
       "           max_features='auto', max_leaf_nodes=None,\n",
       "           min_impurity_decrease=0.0, min_impurity_split=None,\n",
       "           min_samples_leaf=1, min_samples_split=2,\n",
       "           min_weight_fraction_leaf=0.0, n_estimators=10, n_jobs=None,\n",
       "           oob_score=False, random_state=None, verbose=0, warm_start=False)"
      ]
     },
     "execution_count": 68,
     "metadata": {},
     "output_type": "execute_result"
    }
   ],
   "source": [
    "model.fit(X_train, y_train)"
   ]
  },
  {
   "cell_type": "code",
   "execution_count": 69,
   "metadata": {},
   "outputs": [],
   "source": [
    "y_predict = model.predict(X_test)"
   ]
  },
  {
   "cell_type": "code",
   "execution_count": 70,
   "metadata": {},
   "outputs": [],
   "source": [
    "def get_score(y_true, y_predict):\n",
    "    return math.sqrt(mean_squared_error(y_true, y_predict))"
   ]
  },
  {
   "cell_type": "code",
   "execution_count": 71,
   "metadata": {},
   "outputs": [
    {
     "data": {
      "text/plain": [
       "0.1371793813719086"
      ]
     },
     "execution_count": 71,
     "metadata": {},
     "output_type": "execute_result"
    }
   ],
   "source": [
    "get_score(y_test, y_predict)"
   ]
  },
  {
   "cell_type": "markdown",
   "metadata": {},
   "source": [
    "#### Предсказание"
   ]
  },
  {
   "cell_type": "code",
   "execution_count": null,
   "metadata": {},
   "outputs": [],
   "source": [
    "y_predict = model.predict(preprocessed_test)"
   ]
  },
  {
   "cell_type": "code",
   "execution_count": null,
   "metadata": {},
   "outputs": [],
   "source": []
  }
 ],
 "metadata": {
  "kernelspec": {
   "display_name": "Python 3",
   "language": "python",
   "name": "python3"
  }
 },
 "nbformat": 4,
 "nbformat_minor": 2
}
