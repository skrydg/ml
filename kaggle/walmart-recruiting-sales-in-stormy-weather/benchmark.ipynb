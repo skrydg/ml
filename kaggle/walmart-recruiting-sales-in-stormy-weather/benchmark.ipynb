{
 "cells": [
  {
   "cell_type": "code",
   "execution_count": null,
   "metadata": {},
   "outputs": [],
   "source": [
    "import os\n",
    "import sys\n",
    "while not os.getcwd().endswith('ml'):\n",
    "    os.chdir('..')\n",
    "sys.path.insert(0, os.getcwd())"
   ]
  },
  {
   "cell_type": "code",
   "execution_count": null,
   "metadata": {},
   "outputs": [],
   "source": [
    "import pandas as pd\n",
    "import numpy as np\n",
    "import copy\n",
    "\n",
    "from datetime import datetime, timedelta\n",
    "\n",
    "from sklearn.ensemble import RandomForestRegressor\n",
    "from sklearn.model_selection import train_test_split\n",
    "from sklearn.metrics import mean_squared_error\n",
    "from sklearn.preprocessing import MultiLabelBinarizer"
   ]
  },
  {
   "cell_type": "markdown",
   "metadata": {},
   "source": [
    "#### Считывание данных"
   ]
  },
  {
   "cell_type": "code",
   "execution_count": null,
   "metadata": {},
   "outputs": [],
   "source": [
    "key = pd.read_csv(\"kaggle/walmart-recruiting-sales-in-stormy-weather/key.csv\")\n",
    "train = pd.read_csv(\"kaggle/walmart-recruiting-sales-in-stormy-weather/train.csv\")\n",
    "test = pd.read_csv(\"kaggle/walmart-recruiting-sales-in-stormy-weather/test.csv\")\n",
    "weather = pd.read_csv(\"kaggle/walmart-recruiting-sales-in-stormy-weather/weather.csv\")"
   ]
  },
  {
   "cell_type": "markdown",
   "metadata": {},
   "source": [
    "#### Описание данных"
   ]
  },
  {
   "cell_type": "markdown",
   "metadata": {},
   "source": [
    "#### Предобработка данных"
   ]
  },
  {
   "cell_type": "code",
   "execution_count": null,
   "metadata": {},
   "outputs": [],
   "source": [
    "def minutes_from_midnight(time_str):\n",
    "    if len(time_str) == 1:\n",
    "        return np.nan\n",
    "    return int(time_str[:2])*60 + int(time_str[2:])"
   ]
  },
  {
   "cell_type": "code",
   "execution_count": null,
   "metadata": {},
   "outputs": [],
   "source": [
    "def preprocessing(data, key, weather, target_field='units'):\n",
    "    data = data.join(key.set_index(\"store_nbr\"), on=\"store_nbr\")\n",
    "    data = data.join(weather.set_index([\"station_nbr\", \"date\"]), on=[\"station_nbr\", \"date\"])\n",
    "    \n",
    "    data['sunrise'] = data['sunrise'].apply(minutes_from_midnight)\n",
    "    data['sunrise'] = data['sunset'].apply(minutes_from_midnight)\n",
    "    \n",
    "    mlb = MultiLabelBinarizer()\n",
    "    codesum_data = pd.DataFrame(mlb.fit_transform(weather['codesum'].str.split()),columns=mlb.classes_)\n",
    "    for c in codesum_data.columns:\n",
    "        if len(c) < 4:\n",
    "            continue\n",
    "        for sub_c in [c[:2], c[2:]]:\n",
    "            codesum_data[sub_c] = codesum_data[sub_c] + codesum_data[c] if sub_c in codesum_data.columns else codesum_data[c]\n",
    "        codesum_data.drop(columns=c, inplace=True)\n",
    "    data.drop(columns=[\"codesum\"], inplace=True)\n",
    "    data = data.join(codesum_data)\n",
    "    \n",
    "    data.fillna(-1, inplace=True)\n",
    "    \n",
    "    needed_columns = [\"store_nbr\", \"item_nbr\"]\n",
    "    if target_field in data.columns:\n",
    "        needed_columns.append(target_field)\n",
    "    \n",
    "    data = data[needed_columns]\n",
    "    data = pd.get_dummies(data, columns=[\"store_nbr\", \"item_nbr\"])\n",
    "    if target_field in data.columns:\n",
    "        data['units'] = np.log(data['units'] + 1)\n",
    "        \n",
    "    return data"
   ]
  },
  {
   "cell_type": "code",
   "execution_count": null,
   "metadata": {},
   "outputs": [],
   "source": [
    "preprocessed_train = preprocessing(train, key, weather)\n",
    "preprocessed_test = preprocessing(test, key, weather)"
   ]
  },
  {
   "cell_type": "markdown",
   "metadata": {},
   "source": [
    "#### Обучение базовой модели"
   ]
  },
  {
   "cell_type": "code",
   "execution_count": null,
   "metadata": {},
   "outputs": [],
   "source": [
    "y = preprocessed_train['units']\n",
    "X = preprocessed_train.loc[:, preprocessed_train.columns != 'units']"
   ]
  },
  {
   "cell_type": "code",
   "execution_count": null,
   "metadata": {},
   "outputs": [],
   "source": [
    "model = RandomForestRegressor(criterion='mse')"
   ]
  },
  {
   "cell_type": "code",
   "execution_count": null,
   "metadata": {},
   "outputs": [],
   "source": [
    "X_train, X_test, y_train, y_test = train_test_split(X, y, train_size=0.7)"
   ]
  },
  {
   "cell_type": "code",
   "execution_count": null,
   "metadata": {},
   "outputs": [],
   "source": [
    "model.fit(X_train, y_train)"
   ]
  },
  {
   "cell_type": "code",
   "execution_count": null,
   "metadata": {},
   "outputs": [],
   "source": [
    "y_predict = model.predict(X_test)"
   ]
  },
  {
   "cell_type": "code",
   "execution_count": null,
   "metadata": {},
   "outputs": [],
   "source": [
    "def get_score(y_true, y_predict):\n",
    "    return mean_squared_error(y_true, y_predict)"
   ]
  },
  {
   "cell_type": "code",
   "execution_count": null,
   "metadata": {},
   "outputs": [],
   "source": [
    "get_score(y_test, y_predict)"
   ]
  },
  {
   "cell_type": "code",
   "execution_count": null,
   "metadata": {},
   "outputs": [],
   "source": [
    "print(y_predict[np.abs(y_predict - y_test) > 0.1])\n",
    "print(y_test[np.abs(y_predict - y_test) > 0.1])"
   ]
  },
  {
   "cell_type": "code",
   "execution_count": null,
   "metadata": {},
   "outputs": [],
   "source": [
    "model.score(X_test, y_test)"
   ]
  },
  {
   "cell_type": "code",
   "execution_count": null,
   "metadata": {},
   "outputs": [],
   "source": []
  }
 ],
 "metadata": {
  "kernelspec": {
   "display_name": "Python 3",
   "language": "python",
   "name": "python3"
  },
  "language_info": {
   "codemirror_mode": {
    "name": "ipython",
    "version": 3
   },
   "file_extension": ".py",
   "mimetype": "text/x-python",
   "name": "python",
   "nbconvert_exporter": "python",
   "pygments_lexer": "ipython3",
   "version": "3.6.4"
  }
 },
 "nbformat": 4,
 "nbformat_minor": 2
}
