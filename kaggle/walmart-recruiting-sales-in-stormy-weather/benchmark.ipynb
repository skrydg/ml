{
 "cells": [
  {
   "cell_type": "code",
   "execution_count": 72,
   "metadata": {},
   "outputs": [],
   "source": [
    "import os\n",
    "import sys\n",
    "while not os.getcwd().endswith('ml'):\n",
    "    os.chdir('..')\n",
    "sys.path.insert(0, os.getcwd())"
   ]
  },
  {
   "cell_type": "code",
   "execution_count": 73,
   "metadata": {},
   "outputs": [],
   "source": [
    "import pandas as pd\n",
    "import numpy as np\n",
    "import copy\n",
    "\n",
    "from sklearn.ensemble import RandomForestRegressor\n",
    "from sklearn.model_selection import train_test_split\n",
    "from sklearn.metrics import mean_squared_error\n",
    "from sklearn.preprocessing import OneHotEncoder"
   ]
  },
  {
   "cell_type": "code",
   "execution_count": 74,
   "metadata": {},
   "outputs": [],
   "source": [
    "TARGET_NAME = 'units'"
   ]
  },
  {
   "cell_type": "markdown",
   "metadata": {},
   "source": [
    "#### Считывание данных"
   ]
  },
  {
   "cell_type": "code",
   "execution_count": 75,
   "metadata": {},
   "outputs": [],
   "source": [
    "key = pd.read_csv(\"kaggle/walmart-recruiting-sales-in-stormy-weather/key.csv\")\n",
    "train = pd.read_csv(\"kaggle/walmart-recruiting-sales-in-stormy-weather/train.csv\")\n",
    "test = pd.read_csv(\"kaggle/walmart-recruiting-sales-in-stormy-weather/test.csv\")\n",
    "weather = pd.read_csv(\"kaggle/walmart-recruiting-sales-in-stormy-weather/weather.csv\")"
   ]
  },
  {
   "cell_type": "markdown",
   "metadata": {},
   "source": [
    "#### Описание данных"
   ]
  },
  {
   "cell_type": "code",
   "execution_count": 76,
   "metadata": {},
   "outputs": [],
   "source": [
    "#### Предобработка данных"
   ]
  },
  {
   "cell_type": "code",
   "execution_count": 77,
   "metadata": {},
   "outputs": [],
   "source": [
    "def minutes_from_midnight(time_str):\n",
    "    if len(time_str) == 1:\n",
    "        return np.nan\n",
    "    return int(time_str[:2])*60 + int(time_str[2:])"
   ]
  },
  {
   "cell_type": "code",
   "execution_count": 78,
   "metadata": {},
   "outputs": [
    {
     "data": {
      "text/html": [
       "<div>\n",
       "<style scoped>\n",
       "    .dataframe tbody tr th:only-of-type {\n",
       "        vertical-align: middle;\n",
       "    }\n",
       "\n",
       "    .dataframe tbody tr th {\n",
       "        vertical-align: top;\n",
       "    }\n",
       "\n",
       "    .dataframe thead th {\n",
       "        text-align: right;\n",
       "    }\n",
       "</style>\n",
       "<table border=\"1\" class=\"dataframe\">\n",
       "  <thead>\n",
       "    <tr style=\"text-align: right;\">\n",
       "      <th></th>\n",
       "      <th>station_nbr</th>\n",
       "      <th>date</th>\n",
       "      <th>tmax</th>\n",
       "      <th>tmin</th>\n",
       "      <th>tavg</th>\n",
       "      <th>depart</th>\n",
       "      <th>dewpoint</th>\n",
       "      <th>wetbulb</th>\n",
       "      <th>heat</th>\n",
       "      <th>cool</th>\n",
       "      <th>sunrise</th>\n",
       "      <th>sunset</th>\n",
       "      <th>codesum</th>\n",
       "      <th>snowfall</th>\n",
       "      <th>preciptotal</th>\n",
       "      <th>stnpressure</th>\n",
       "      <th>sealevel</th>\n",
       "      <th>resultspeed</th>\n",
       "      <th>resultdir</th>\n",
       "      <th>avgspeed</th>\n",
       "    </tr>\n",
       "  </thead>\n",
       "  <tbody>\n",
       "    <tr>\n",
       "      <th>19771</th>\n",
       "      <td>15</td>\n",
       "      <td>2014-09-24</td>\n",
       "      <td>68</td>\n",
       "      <td>39</td>\n",
       "      <td>54</td>\n",
       "      <td>-2</td>\n",
       "      <td>45</td>\n",
       "      <td>49</td>\n",
       "      <td>11</td>\n",
       "      <td>0</td>\n",
       "      <td>0535</td>\n",
       "      <td>1740</td>\n",
       "      <td>FG+ FG BR</td>\n",
       "      <td>0.0</td>\n",
       "      <td>0.00</td>\n",
       "      <td>30.19</td>\n",
       "      <td>30.59</td>\n",
       "      <td>1.6</td>\n",
       "      <td>12</td>\n",
       "      <td>2.1</td>\n",
       "    </tr>\n",
       "  </tbody>\n",
       "</table>\n",
       "</div>"
      ],
      "text/plain": [
       "       station_nbr        date tmax tmin tavg depart dewpoint wetbulb heat  \\\n",
       "19771           15  2014-09-24   68   39   54     -2       45      49   11   \n",
       "\n",
       "      cool sunrise sunset    codesum snowfall preciptotal stnpressure  \\\n",
       "19771    0    0535   1740  FG+ FG BR      0.0        0.00       30.19   \n",
       "\n",
       "      sealevel resultspeed resultdir avgspeed  \n",
       "19771    30.59         1.6        12      2.1  "
      ]
     },
     "execution_count": 78,
     "metadata": {},
     "output_type": "execute_result"
    }
   ],
   "source": [
    "weather.sample()"
   ]
  },
  {
   "cell_type": "code",
   "execution_count": 79,
   "metadata": {},
   "outputs": [
    {
     "data": {
      "text/plain": [
       "M      1252\n",
       "74      777\n",
       "75      684\n",
       "73      663\n",
       "72      609\n",
       "71      526\n",
       "70      481\n",
       "67      474\n",
       "65      459\n",
       "64      437\n",
       "62      433\n",
       "68      428\n",
       "66      425\n",
       "63      423\n",
       "60      419\n",
       "61      409\n",
       "59      408\n",
       "58      406\n",
       "69      399\n",
       "56      383\n",
       "76      362\n",
       "55      356\n",
       "57      344\n",
       "52      337\n",
       "54      330\n",
       "53      325\n",
       "44      323\n",
       "45      307\n",
       "50      305\n",
       "51      304\n",
       "       ... \n",
       "17       54\n",
       "15       53\n",
       "16       48\n",
       "12       43\n",
       "10       40\n",
       "13       38\n",
       "11       33\n",
       "8        31\n",
       "79       21\n",
       "4        20\n",
       "7        16\n",
       "9        14\n",
       "0        14\n",
       "5        13\n",
       "3        11\n",
       "6         9\n",
       "2         7\n",
       "-3        7\n",
       "1         5\n",
       "-4        4\n",
       "-2        3\n",
       "-5        3\n",
       "-6        2\n",
       "-7        2\n",
       "-10       2\n",
       "-15       1\n",
       "-8        1\n",
       "-9        1\n",
       "-1        1\n",
       "80        1\n",
       "Name: wetbulb, Length: 93, dtype: int64"
      ]
     },
     "execution_count": 79,
     "metadata": {},
     "output_type": "execute_result"
    }
   ],
   "source": [
    "weather.wetbulb.value_counts()"
   ]
  },
  {
   "cell_type": "markdown",
   "metadata": {},
   "source": [
    "#### Предобработка данных"
   ]
  },
  {
   "cell_type": "code",
   "execution_count": 80,
   "metadata": {},
   "outputs": [],
   "source": [
    "def preprocessing(data, key, weather, target_field=TARGET_NAME):\n",
    "    data = data.join(key.set_index(\"store_nbr\"), on=\"store_nbr\")\n",
    "    data = data.join(weather.set_index([\"station_nbr\", \"date\"]), on=[\"station_nbr\", \"date\"])\n",
    "    \n",
    "    data['sunrise'] = data['sunrise'].apply(minutes_from_midnight)\n",
    "    data['sunrise'] = data['sunset'].apply(minutes_from_midnight)\n",
    "#     data.drop(columns=[\"codesum\"])\n",
    "    data.fillna(-1, inplace=True)\n",
    "    \n",
    "    needed_columns = [\"store_nbr\", \"item_nbr\"]\n",
    "    if target_field in data.columns:\n",
    "        needed_columns.append(target_field)\n",
    "    \n",
    "    data = data[needed_columns]\n",
    "    data = pd.get_dummies(data, columns=[\"store_nbr\", \"item_nbr\"])\n",
    "    if target_field in data.columns:\n",
    "        data[target_field] = np.log(data[target_field] + 1)\n",
    "        \n",
    "    return data"
   ]
  },
  {
   "cell_type": "code",
   "execution_count": 81,
   "metadata": {},
   "outputs": [
    {
     "name": "stdout",
     "output_type": "stream",
     "text": [
      "Diff of columns ['store_nbr_35']\n"
     ]
    }
   ],
   "source": [
    "preprocessed_train = preprocessing(train, key, weather)\n",
    "preprocessed_test = preprocessing(test, key, weather)\n",
    "\n",
    "train_columns = preprocessed_train.columns\n",
    "test_columns = preprocessed_test.columns\n",
    "diff_columns = list(set(train_columns) - set(test_columns))\n",
    "diff_columns.remove(TARGET_NAME)\n",
    "print(\"Diff of columns {}\". format(diff_columns))\n",
    "for column in diff_columns:\n",
    "    preprocessed_test[column] = 0 # Add missing field after onehot encoding"
   ]
  },
  {
   "cell_type": "markdown",
   "metadata": {},
   "source": [
    "# Обучение базовой модели"
   ]
  },
  {
   "cell_type": "code",
   "execution_count": 82,
   "metadata": {},
   "outputs": [],
   "source": [
    "y = preprocessed_train['units']\n",
    "X = preprocessed_train.loc[:, preprocessed_train.columns != 'units']"
   ]
  },
  {
   "cell_type": "code",
   "execution_count": 84,
   "metadata": {},
   "outputs": [],
   "source": [
    "model = RandomForestRegressor(criterion='mse')"
   ]
  },
  {
   "cell_type": "code",
   "execution_count": 85,
   "metadata": {},
   "outputs": [
    {
     "name": "stderr",
     "output_type": "stream",
     "text": [
      "/Users/skrrydg/anaconda3/lib/python3.7/site-packages/sklearn/model_selection/_split.py:2179: FutureWarning: From version 0.21, test_size will always complement train_size unless both are specified.\n",
      "  FutureWarning)\n"
     ]
    }
   ],
   "source": [
    "X_train, X_test, y_train, y_test = train_test_split(X, y, train_size=0.7)"
   ]
  },
  {
   "cell_type": "code",
   "execution_count": 86,
   "metadata": {},
   "outputs": [],
   "source": [
    "X_train = X_train[0:100000]\n",
    "y_train = y_train[0:100000]"
   ]
  },
  {
   "cell_type": "code",
   "execution_count": 87,
   "metadata": {},
   "outputs": [
    {
     "name": "stderr",
     "output_type": "stream",
     "text": [
      "/Users/skrrydg/anaconda3/lib/python3.7/site-packages/sklearn/ensemble/forest.py:246: FutureWarning: The default value of n_estimators will change from 10 in version 0.20 to 100 in 0.22.\n",
      "  \"10 in version 0.20 to 100 in 0.22.\", FutureWarning)\n"
     ]
    },
    {
     "data": {
      "text/plain": [
       "RandomForestRegressor(bootstrap=True, criterion='mse', max_depth=None,\n",
       "           max_features='auto', max_leaf_nodes=None,\n",
       "           min_impurity_decrease=0.0, min_impurity_split=None,\n",
       "           min_samples_leaf=1, min_samples_split=2,\n",
       "           min_weight_fraction_leaf=0.0, n_estimators=10, n_jobs=None,\n",
       "           oob_score=False, random_state=None, verbose=0, warm_start=False)"
      ]
     },
     "execution_count": 87,
     "metadata": {},
     "output_type": "execute_result"
    }
   ],
   "source": [
    "model.fit(X_train, y_train)"
   ]
  },
  {
   "cell_type": "code",
   "execution_count": 88,
   "metadata": {},
   "outputs": [],
   "source": [
    "y_predict = model.predict(X_test)"
   ]
  },
  {
   "cell_type": "code",
   "execution_count": 89,
   "metadata": {},
   "outputs": [],
   "source": [
    "def get_score(y_true, y_predict):\n",
    "    return math.sqrt(mean_squared_error(y_true, y_predict))"
   ]
  },
  {
   "cell_type": "code",
   "execution_count": 90,
   "metadata": {},
   "outputs": [
    {
     "data": {
      "text/plain": [
       "0.13923403081521057"
      ]
     },
     "execution_count": 90,
     "metadata": {},
     "output_type": "execute_result"
    }
   ],
   "source": [
    "get_score(y_test, y_predict)"
   ]
  },
  {
   "cell_type": "markdown",
   "metadata": {},
   "source": [
    "#### Предсказание"
   ]
  },
  {
   "cell_type": "code",
   "execution_count": 91,
   "metadata": {},
   "outputs": [],
   "source": [
    "y_predict = model.predict(preprocessed_test)"
   ]
  },
  {
   "cell_type": "code",
   "execution_count": 96,
   "metadata": {},
   "outputs": [],
   "source": [
    "y_predict = np.exp(y_predict) - 1"
   ]
  },
  {
   "cell_type": "code",
   "execution_count": 99,
   "metadata": {},
   "outputs": [
    {
     "name": "stdout",
     "output_type": "stream",
     "text": [
      "[ 59.63862717   0.57169382 111.36161867 ...  44.44717473   0.47657575\n",
      "   0.92670168]\n"
     ]
    }
   ],
   "source": [
    "print(res[res > 0])"
   ]
  },
  {
   "cell_type": "code",
   "execution_count": 112,
   "metadata": {},
   "outputs": [
    {
     "data": {
      "text/html": [
       "<div>\n",
       "<style scoped>\n",
       "    .dataframe tbody tr th:only-of-type {\n",
       "        vertical-align: middle;\n",
       "    }\n",
       "\n",
       "    .dataframe tbody tr th {\n",
       "        vertical-align: top;\n",
       "    }\n",
       "\n",
       "    .dataframe thead th {\n",
       "        text-align: right;\n",
       "    }\n",
       "</style>\n",
       "<table border=\"1\" class=\"dataframe\">\n",
       "  <thead>\n",
       "    <tr style=\"text-align: right;\">\n",
       "      <th></th>\n",
       "      <th>date</th>\n",
       "      <th>store_nbr</th>\n",
       "      <th>item_nbr</th>\n",
       "    </tr>\n",
       "  </thead>\n",
       "  <tbody>\n",
       "    <tr>\n",
       "      <th>0</th>\n",
       "      <td>2013-04-01</td>\n",
       "      <td>2</td>\n",
       "      <td>1</td>\n",
       "    </tr>\n",
       "    <tr>\n",
       "      <th>1</th>\n",
       "      <td>2013-04-01</td>\n",
       "      <td>2</td>\n",
       "      <td>2</td>\n",
       "    </tr>\n",
       "    <tr>\n",
       "      <th>2</th>\n",
       "      <td>2013-04-01</td>\n",
       "      <td>2</td>\n",
       "      <td>3</td>\n",
       "    </tr>\n",
       "    <tr>\n",
       "      <th>3</th>\n",
       "      <td>2013-04-01</td>\n",
       "      <td>2</td>\n",
       "      <td>4</td>\n",
       "    </tr>\n",
       "    <tr>\n",
       "      <th>4</th>\n",
       "      <td>2013-04-01</td>\n",
       "      <td>2</td>\n",
       "      <td>5</td>\n",
       "    </tr>\n",
       "  </tbody>\n",
       "</table>\n",
       "</div>"
      ],
      "text/plain": [
       "         date  store_nbr  item_nbr\n",
       "0  2013-04-01          2         1\n",
       "1  2013-04-01          2         2\n",
       "2  2013-04-01          2         3\n",
       "3  2013-04-01          2         4\n",
       "4  2013-04-01          2         5"
      ]
     },
     "execution_count": 112,
     "metadata": {},
     "output_type": "execute_result"
    }
   ],
   "source": [
    "test.head()"
   ]
  },
  {
   "cell_type": "code",
   "execution_count": 118,
   "metadata": {},
   "outputs": [],
   "source": [
    "result = pd.DataFrame"
   ]
  },
  {
   "cell_type": "code",
   "execution_count": 133,
   "metadata": {},
   "outputs": [],
   "source": [
    "_id = (test[\"store_nbr\"].astype(\"str\") + \"_\" + test[\"item_nbr\"].astype(\"str\") + \"_\" + test[\"date\"].astype('str')).to_numpy()\n",
    "_units = np.round(y_predict).astype(int)"
   ]
  },
  {
   "cell_type": "code",
   "execution_count": 141,
   "metadata": {},
   "outputs": [],
   "source": [
    "prediction = pd.DataFrame(data={\"id\": _id, \"units\": _units}).set_index(\"id\") "
   ]
  },
  {
   "cell_type": "code",
   "execution_count": 143,
   "metadata": {},
   "outputs": [],
   "source": [
    "prediction.to_csv(\"kaggle/walmart-recruiting-sales-in-stormy-weather/submissions/benchmark1.csv\")"
   ]
  },
  {
   "cell_type": "code",
   "execution_count": 115,
   "metadata": {},
   "outputs": [
    {
     "data": {
      "text/plain": [
       "0            2_1_2013-04-01\n",
       "1            2_2_2013-04-01\n",
       "2            2_3_2013-04-01\n",
       "3            2_4_2013-04-01\n",
       "4            2_5_2013-04-01\n",
       "5            2_6_2013-04-01\n",
       "6            2_7_2013-04-01\n",
       "7            2_8_2013-04-01\n",
       "8            2_9_2013-04-01\n",
       "9           2_10_2013-04-01\n",
       "10          2_11_2013-04-01\n",
       "11          2_12_2013-04-01\n",
       "12          2_13_2013-04-01\n",
       "13          2_14_2013-04-01\n",
       "14          2_15_2013-04-01\n",
       "15          2_16_2013-04-01\n",
       "16          2_17_2013-04-01\n",
       "17          2_18_2013-04-01\n",
       "18          2_19_2013-04-01\n",
       "19          2_20_2013-04-01\n",
       "20          2_21_2013-04-01\n",
       "21          2_22_2013-04-01\n",
       "22          2_23_2013-04-01\n",
       "23          2_24_2013-04-01\n",
       "24          2_25_2013-04-01\n",
       "25          2_26_2013-04-01\n",
       "26          2_27_2013-04-01\n",
       "27          2_28_2013-04-01\n",
       "28          2_29_2013-04-01\n",
       "29          2_30_2013-04-01\n",
       "                ...        \n",
       "526887     45_82_2014-10-26\n",
       "526888     45_83_2014-10-26\n",
       "526889     45_84_2014-10-26\n",
       "526890     45_85_2014-10-26\n",
       "526891     45_86_2014-10-26\n",
       "526892     45_87_2014-10-26\n",
       "526893     45_88_2014-10-26\n",
       "526894     45_89_2014-10-26\n",
       "526895     45_90_2014-10-26\n",
       "526896     45_91_2014-10-26\n",
       "526897     45_92_2014-10-26\n",
       "526898     45_93_2014-10-26\n",
       "526899     45_94_2014-10-26\n",
       "526900     45_95_2014-10-26\n",
       "526901     45_96_2014-10-26\n",
       "526902     45_97_2014-10-26\n",
       "526903     45_98_2014-10-26\n",
       "526904     45_99_2014-10-26\n",
       "526905    45_100_2014-10-26\n",
       "526906    45_101_2014-10-26\n",
       "526907    45_102_2014-10-26\n",
       "526908    45_103_2014-10-26\n",
       "526909    45_104_2014-10-26\n",
       "526910    45_105_2014-10-26\n",
       "526911    45_106_2014-10-26\n",
       "526912    45_107_2014-10-26\n",
       "526913    45_108_2014-10-26\n",
       "526914    45_109_2014-10-26\n",
       "526915    45_110_2014-10-26\n",
       "526916    45_111_2014-10-26\n",
       "Length: 526917, dtype: object"
      ]
     },
     "execution_count": 115,
     "metadata": {},
     "output_type": "execute_result"
    }
   ],
   "source": [
    "test[\"store_nbr\"].astype(\"str\") + \"_\" + test[\"item_nbr\"].astype(\"str\") + \"_\" + test[\"date\"].astype('str')"
   ]
  },
  {
   "cell_type": "code",
   "execution_count": null,
   "metadata": {},
   "outputs": [],
   "source": []
  }
 ],
 "metadata": {
  "kernelspec": {
   "display_name": "Python 3",
   "language": "python",
   "name": "python3"
  },
  "language_info": {
   "codemirror_mode": {
    "name": "ipython",
    "version": 3
   },
   "file_extension": ".py",
   "mimetype": "text/x-python",
   "name": "python",
   "nbconvert_exporter": "python",
   "pygments_lexer": "ipython3",
   "version": "3.7.3"
  }
 },
 "nbformat": 4,
 "nbformat_minor": 2
}
